{
 "cells": [
  {
   "cell_type": "markdown",
   "metadata": {},
   "source": [
    "# Рекомендация тарифов"
   ]
  },
  {
   "cell_type": "markdown",
   "metadata": {},
   "source": [
    "В вашем распоряжении данные о поведении клиентов, которые уже перешли на эти тарифы (из проекта курса «Статистический анализ данных»). Нужно построить модель для задачи классификации, которая выберет подходящий тариф. Предобработка данных не понадобится — вы её уже сделали.\n",
    "\n",
    "Постройте модель с максимально большим значением *accuracy*. Чтобы сдать проект успешно, нужно довести долю правильных ответов по крайней мере до 0.75. Проверьте *accuracy* на тестовой выборке самостоятельно."
   ]
  },
  {
   "cell_type": "code",
   "execution_count": 1,
   "metadata": {},
   "outputs": [],
   "source": [
    "#импортируем нужные библиотеки\n",
    "\n",
    "import pandas as pd\n",
    "\n",
    "from sklearn.tree import DecisionTreeClassifier\n",
    "from sklearn.ensemble import RandomForestClassifier\n",
    "from sklearn.linear_model import LogisticRegression\n",
    "from sklearn.dummy import DummyClassifier\n",
    "\n",
    "from sklearn.model_selection import train_test_split\n",
    "from sklearn.metrics import accuracy_score\n",
    "\n",
    "import warnings\n",
    "warnings.filterwarnings('ignore')"
   ]
  },
  {
   "cell_type": "markdown",
   "metadata": {},
   "source": [
    "## Откройте и изучите файл"
   ]
  },
  {
   "cell_type": "code",
   "execution_count": 2,
   "metadata": {},
   "outputs": [
    {
     "data": {
      "text/html": [
       "<div>\n",
       "<style scoped>\n",
       "    .dataframe tbody tr th:only-of-type {\n",
       "        vertical-align: middle;\n",
       "    }\n",
       "\n",
       "    .dataframe tbody tr th {\n",
       "        vertical-align: top;\n",
       "    }\n",
       "\n",
       "    .dataframe thead th {\n",
       "        text-align: right;\n",
       "    }\n",
       "</style>\n",
       "<table border=\"1\" class=\"dataframe\">\n",
       "  <thead>\n",
       "    <tr style=\"text-align: right;\">\n",
       "      <th></th>\n",
       "      <th>calls</th>\n",
       "      <th>minutes</th>\n",
       "      <th>messages</th>\n",
       "      <th>mb_used</th>\n",
       "      <th>is_ultra</th>\n",
       "    </tr>\n",
       "  </thead>\n",
       "  <tbody>\n",
       "    <tr>\n",
       "      <th>0</th>\n",
       "      <td>40.0</td>\n",
       "      <td>311.90</td>\n",
       "      <td>83.0</td>\n",
       "      <td>19915.42</td>\n",
       "      <td>0</td>\n",
       "    </tr>\n",
       "    <tr>\n",
       "      <th>1</th>\n",
       "      <td>85.0</td>\n",
       "      <td>516.75</td>\n",
       "      <td>56.0</td>\n",
       "      <td>22696.96</td>\n",
       "      <td>0</td>\n",
       "    </tr>\n",
       "    <tr>\n",
       "      <th>2</th>\n",
       "      <td>77.0</td>\n",
       "      <td>467.66</td>\n",
       "      <td>86.0</td>\n",
       "      <td>21060.45</td>\n",
       "      <td>0</td>\n",
       "    </tr>\n",
       "    <tr>\n",
       "      <th>3</th>\n",
       "      <td>106.0</td>\n",
       "      <td>745.53</td>\n",
       "      <td>81.0</td>\n",
       "      <td>8437.39</td>\n",
       "      <td>1</td>\n",
       "    </tr>\n",
       "    <tr>\n",
       "      <th>4</th>\n",
       "      <td>66.0</td>\n",
       "      <td>418.74</td>\n",
       "      <td>1.0</td>\n",
       "      <td>14502.75</td>\n",
       "      <td>0</td>\n",
       "    </tr>\n",
       "  </tbody>\n",
       "</table>\n",
       "</div>"
      ],
      "text/plain": [
       "   calls  minutes  messages   mb_used  is_ultra\n",
       "0   40.0   311.90      83.0  19915.42         0\n",
       "1   85.0   516.75      56.0  22696.96         0\n",
       "2   77.0   467.66      86.0  21060.45         0\n",
       "3  106.0   745.53      81.0   8437.39         1\n",
       "4   66.0   418.74       1.0  14502.75         0"
      ]
     },
     "execution_count": 2,
     "metadata": {},
     "output_type": "execute_result"
    }
   ],
   "source": [
    "# прочитаем данные и выведем информацию о первых 5 объектах\n",
    "\n",
    "try:\n",
    "    data = pd.read_csv('users_behavior.csv')\n",
    "except:    \n",
    "    data = pd.read_csv('/datasets/users_behavior.csv')\n",
    "    \n",
    "data.head()"
   ]
  },
  {
   "cell_type": "markdown",
   "metadata": {},
   "source": [
    "**Описание данных**:\n",
    "    \n",
    "Каждый объект в наборе данных — это информация о поведении одного пользователя за месяц.\n",
    "\n",
    "- сalls — количество звонков,\n",
    "- minutes — суммарная длительность звонков в минутах,\n",
    "- messages — количество sms-сообщений,\n",
    "- mb_used — израсходованный интернет-трафик в Мб,\n",
    "- is_ultra — каким тарифом пользовался в течение месяца («Ультра» — 1, «Смарт» — 0)."
   ]
  },
  {
   "cell_type": "code",
   "execution_count": 3,
   "metadata": {},
   "outputs": [
    {
     "name": "stdout",
     "output_type": "stream",
     "text": [
      "<class 'pandas.core.frame.DataFrame'>\n",
      "RangeIndex: 3214 entries, 0 to 3213\n",
      "Data columns (total 5 columns):\n",
      " #   Column    Non-Null Count  Dtype  \n",
      "---  ------    --------------  -----  \n",
      " 0   calls     3214 non-null   float64\n",
      " 1   minutes   3214 non-null   float64\n",
      " 2   messages  3214 non-null   float64\n",
      " 3   mb_used   3214 non-null   float64\n",
      " 4   is_ultra  3214 non-null   int64  \n",
      "dtypes: float64(4), int64(1)\n",
      "memory usage: 125.7 KB\n"
     ]
    }
   ],
   "source": [
    "# рассмотрим повнимательнее датасет\n",
    "\n",
    "data.info()"
   ]
  },
  {
   "cell_type": "code",
   "execution_count": 4,
   "metadata": {},
   "outputs": [
    {
     "data": {
      "text/plain": [
       "array([0, 1])"
      ]
     },
     "execution_count": 4,
     "metadata": {},
     "output_type": "execute_result"
    }
   ],
   "source": [
    "# выведем уникальные значения в колонке с целевым признаком\n",
    "\n",
    "data['is_ultra'].unique()"
   ]
  },
  {
   "cell_type": "markdown",
   "metadata": {},
   "source": [
    "Посмотрим на распределение классов у целевого признака."
   ]
  },
  {
   "cell_type": "code",
   "execution_count": 5,
   "metadata": {},
   "outputs": [
    {
     "data": {
      "text/plain": [
       "<AxesSubplot:>"
      ]
     },
     "execution_count": 5,
     "metadata": {},
     "output_type": "execute_result"
    },
    {
     "data": {
      "image/png": "[encoded data removed]",
      "text/plain": [
       "<Figure size 432x288 with 1 Axes>"
      ]
     },
     "metadata": {
      "needs_background": "light"
     },
     "output_type": "display_data"
    }
   ],
   "source": [
    "data['is_ultra'].hist()"
   ]
  },
  {
   "cell_type": "code",
   "execution_count": 6,
   "metadata": {},
   "outputs": [
    {
     "data": {
      "text/plain": [
       "0    2229\n",
       "1     985\n",
       "Name: is_ultra, dtype: int64"
      ]
     },
     "execution_count": 6,
     "metadata": {},
     "output_type": "execute_result"
    }
   ],
   "source": [
    "data['is_ultra'].value_counts()"
   ]
  },
  {
   "cell_type": "markdown",
   "metadata": {},
   "source": [
    "Наш набор данных содержит 3214 объектов, у которых есть 5 признаков, один из которых `is_ultra` - целевой (он же таргет), который мы и будем предсказывать, с помощью наших моделей.\n",
    "\n",
    "Так как в колонке 'is_ultra' содержатся только значения 0 и 1, то наш целевой признак по своей сути является категориальным, и перед нами стоит задача классификации.\n",
    "\n",
    "Наблюдается дисбаланс классов: объектов с таргетом 0 в нашем датасете в 2.2 раза больше, чем объектов с таргетом 1. Это может серьезно повлиять на процесс обучения моделей и объективность их выводов."
   ]
  },
  {
   "cell_type": "code",
   "execution_count": 8,
   "metadata": {},
   "outputs": [],
   "source": [
    "# сразу зафиксируем глобальну переменную RANDOM, которая будет отвечать за воспроизводимость наших результатов\n",
    "\n",
    "RANDOM = 12345"
   ]
  },
  {
   "cell_type": "code",
   "execution_count": 7,
   "metadata": {},
   "outputs": [],
   "source": [
    "# выделим признаки и целевую переменную\n",
    "\n",
    "features = data.drop('is_ultra', axis=1)\n",
    "target = data['is_ultra'] "
   ]
  },
  {
   "cell_type": "markdown",
   "metadata": {},
   "source": [
    "Теперь, когда мы выделили признаки и целевую переменную, а также позаботились о воспроизводимости результатов, можно переходить к делению данных на подвыборки."
   ]
  },
  {
   "cell_type": "markdown",
   "metadata": {},
   "source": [
    "## Разбейте данные на выборки"
   ]
  },
  {
   "cell_type": "markdown",
   "metadata": {},
   "source": [
    "Так как отдельно отложенной тестовой выборки для итоговой проверки модели у нас нет, то следует разделить исходные данные на обучающую, валидационную и тестовую выборки в пропорции 3:1:1.\n",
    "Обучающую выборку будем использовать для обучения модели, валидационную - для промежуточной проверки и подбора гиперпараметров, а тестовая нужна для финальной апробации точности предсказаний."
   ]
  },
  {
   "cell_type": "code",
   "execution_count": 9,
   "metadata": {},
   "outputs": [],
   "source": [
    "# сначала отделяем 60% выборки на train и 40% на valid+test\n",
    "\n",
    "features_train, features_other, target_train, target_other = train_test_split(\n",
    "                                                             features, target, test_size=0.4, random_state=RANDOM)\n",
    "\n",
    "# а потом еще раз делим вторую часть на valid и test пополам\n",
    "\n",
    "features_valid, features_test, target_valid, target_test = train_test_split(\n",
    "                                                             features_other, target_other, test_size=0.5, random_state=RANDOM)"
   ]
  },
  {
   "cell_type": "markdown",
   "metadata": {},
   "source": [
    "Проверям по размерностям, правильно ли мы поделили данные."
   ]
  },
  {
   "cell_type": "code",
   "execution_count": 10,
   "metadata": {},
   "outputs": [
    {
     "data": {
      "text/plain": [
       "((1928, 4), (1928,))"
      ]
     },
     "execution_count": 10,
     "metadata": {},
     "output_type": "execute_result"
    }
   ],
   "source": [
    "features_train.shape, target_train.shape"
   ]
  },
  {
   "cell_type": "code",
   "execution_count": 11,
   "metadata": {},
   "outputs": [
    {
     "data": {
      "text/plain": [
       "((643, 4), (643,))"
      ]
     },
     "execution_count": 11,
     "metadata": {},
     "output_type": "execute_result"
    }
   ],
   "source": [
    "features_valid.shape, target_valid.shape"
   ]
  },
  {
   "cell_type": "code",
   "execution_count": 12,
   "metadata": {},
   "outputs": [
    {
     "data": {
      "text/plain": [
       "((643, 4), (643,))"
      ]
     },
     "execution_count": 12,
     "metadata": {},
     "output_type": "execute_result"
    }
   ],
   "source": [
    "features_test.shape, target_test.shape"
   ]
  },
  {
   "cell_type": "markdown",
   "metadata": {},
   "source": [
    "Да, все верно, можно переходить к обучению моделей."
   ]
  },
  {
   "cell_type": "markdown",
   "metadata": {},
   "source": [
    "## Исследуйте модели"
   ]
  },
  {
   "cell_type": "markdown",
   "metadata": {},
   "source": [
    "Для задач классификации можно использовать 3 изученные нами ранее типа моделей:\n",
    "\n",
    "- логистическую регрессию / logistic regression,\n",
    "- дерево решений / decision tree,\n",
    "- случайный лес / random forest (ансамбль деревьев).\n",
    "\n",
    "Каждая из этих моделей обладает своими плюсами и минусами, мы будем рассматривать их последовательно, подбирать гиперпараметры и оценивать точность их предсказаний с помощью метрики `accuracy`.\n",
    "\n",
    "При применении этой метрики, однако, стоит помнить, она особенно чувствительна к дисбалансу классов, так как по сути представляет из себя просто долю правильных ответов, и модели может быть \"выгоднее\" давать наиболее распространенный лейбл класса, а не полученный из выявления каких-то закономерностей. \n",
    "\n",
    "Объявим объект моделей каждого класса, научим на обучающей выборке, попробуем подобрать несколько гиперпараметров и отберем лучшие с помощью валидации."
   ]
  },
  {
   "cell_type": "markdown",
   "metadata": {},
   "source": [
    "### Логистическая регрессия"
   ]
  },
  {
   "cell_type": "markdown",
   "metadata": {},
   "source": [
    "Сначала попробуем обучить и оценить модель с гиперпараметрами по умолчанию."
   ]
  },
  {
   "cell_type": "code",
   "execution_count": 13,
   "metadata": {},
   "outputs": [
    {
     "name": "stdout",
     "output_type": "stream",
     "text": [
      "Accuracy на логистической регрессии без подбора гиперпараметров 0.7107309486780715\n"
     ]
    }
   ],
   "source": [
    "# объявляем модель\n",
    "model = LogisticRegression(random_state=RANDOM)\n",
    "\n",
    "#учим ее на train\n",
    "model.fit(features_train, target_train)\n",
    "\n",
    "# получаем предсказания на valid, который она не видела\n",
    "predictions_valid = model.predict(features_valid)\n",
    "    \n",
    "# получаем оценку метрики accuracy   \n",
    "LogReg_baseline = accuracy_score(target_valid, predictions_valid) \n",
    "print(f'Accuracy на логистической регрессии без подбора гиперпараметров {LogReg_baseline}')"
   ]
  },
  {
   "cell_type": "markdown",
   "metadata": {},
   "source": [
    "Пока негусто, нам нужен результат не меньше 0.75. Попробуем поиграть с гиперпараметрами, для этого не обойтись без официальной доки по sklearn\n",
    "\n",
    "https://scikit-learn.org/stable/modules/generated/sklearn.linear_model.LogisticRegression.html\n",
    "    \n",
    "здесь можно посмотреть все принимаемые моделью гиперпараметры."
   ]
  },
  {
   "cell_type": "markdown",
   "metadata": {},
   "source": [
    "Возьмем классические параметры `solver` и `max_iter`, которые задают алгоритм, по которому строится модель, и максимальное количество итераций обучения.\n",
    "\n",
    "Передадим эти параметры списками в цикл и путем перебора всех возможных комбинаций, посмотрим какая модель выдаст наилучший результат."
   ]
  },
  {
   "cell_type": "code",
   "execution_count": 14,
   "metadata": {},
   "outputs": [],
   "source": [
    "solver_list = ['lbfgs', 'liblinear', 'newton-cg', 'saga']"
   ]
  },
  {
   "cell_type": "code",
   "execution_count": 15,
   "metadata": {},
   "outputs": [
    {
     "name": "stdout",
     "output_type": "stream",
     "text": [
      "Наилучшая модель получается с гиперпараметрами\n",
      "solver=\"newton-cg\", max_iter=100\n",
      "Accuracy наилучшей модели на валидационной выборке: 0.7558320373250389\n"
     ]
    }
   ],
   "source": [
    "best_model = None\n",
    "best_result = 0\n",
    "best_solver = None\n",
    "best_iterations = 0\n",
    "\n",
    "for solver in solver_list:\n",
    "    for max_iteration in range(100, 2001, 100):\n",
    "        \n",
    "        model = LogisticRegression(random_state=RANDOM, \n",
    "                                   solver=solver, \n",
    "                                   max_iter=max_iteration) \n",
    "        \n",
    "        model.fit(features_train, target_train)\n",
    "        predictions_valid = model.predict(features_valid) # получаем предсказания модели на валидационной выборке\n",
    "        result = accuracy_score(target_valid, predictions_valid)\n",
    "        if result > best_result:\n",
    "            best_model = model # сохраняем наилучшую модель\n",
    "            best_result = result # сохраняем наилучшее значение метрики accuracy на валидационных данных\n",
    "            best_solver = solver\n",
    "            best_iterations = max_iteration\n",
    "            \n",
    "print(f'Наилучшая модель получается с гиперпараметрами\\nsolver=\"{best_solver}\", max_iter={best_iterations}')            \n",
    "print(\"Accuracy наилучшей модели на валидационной выборке:\", best_result)"
   ]
  },
  {
   "cell_type": "markdown",
   "metadata": {},
   "source": [
    "Этот результат нас уже устраивает, но посмотрим, можем ли мы получить бОльший на других моделях."
   ]
  },
  {
   "cell_type": "markdown",
   "metadata": {},
   "source": [
    "### Дерево решений"
   ]
  },
  {
   "cell_type": "markdown",
   "metadata": {},
   "source": [
    "Проводимые нами действия будут аналогичны, сначала оценим модель с гиперпараметрами по умолчанию, как baseline."
   ]
  },
  {
   "cell_type": "code",
   "execution_count": 16,
   "metadata": {},
   "outputs": [
    {
     "name": "stdout",
     "output_type": "stream",
     "text": [
      "Accuracy на дереве решений без подбора гиперпараметров 0.713841368584759\n"
     ]
    }
   ],
   "source": [
    "# объявляем модель\n",
    "model = DecisionTreeClassifier(random_state=RANDOM)\n",
    "\n",
    "#учим ее на train\n",
    "model.fit(features_train, target_train)\n",
    "\n",
    "# получаем предсказания на valid, который она не видела\n",
    "predictions_valid = model.predict(features_valid)\n",
    "    \n",
    "# получаем оценку метрики accuracy   \n",
    "DecTree_baseline = accuracy_score(target_valid, predictions_valid) \n",
    "print(f'Accuracy на дереве решений без подбора гиперпараметров {DecTree_baseline}')"
   ]
  },
  {
   "cell_type": "markdown",
   "metadata": {},
   "source": [
    "Значение повыше, чем было у логистической регрессии без гиперпараметров, однако, нам снова его недостаточно. Идем в доку DecisionTreeClassifier\n",
    "\n",
    "https://scikit-learn.org/stable/modules/generated/sklearn.tree.DecisionTreeClassifier.html\n",
    "\n",
    "и определяем гиперпараметры для перебора."
   ]
  },
  {
   "cell_type": "markdown",
   "metadata": {},
   "source": [
    "Возьмем несколько значений `criterion` (то есть критерия качества ветвления дерева), поиграем с максимальной глубиной дерева в гиперпараметре `max_depth`,\n",
    "с минимальным количеством семплов, необходимых для дальнейшего деления в `min_samples_split`, и минимальным количеством семплов в \"листьях\" дерева `min_samples_leaf`."
   ]
  },
  {
   "cell_type": "code",
   "execution_count": 17,
   "metadata": {},
   "outputs": [],
   "source": [
    "criterion_list = ['gini', 'entropy']"
   ]
  },
  {
   "cell_type": "code",
   "execution_count": 18,
   "metadata": {},
   "outputs": [
    {
     "name": "stdout",
     "output_type": "stream",
     "text": [
      "Наилучшая модель получается с гиперпараметрами\n",
      "criterion=\"gini\", max_depth=6, min_samples_split=18, min_samples_leaf=2\n",
      "Accuracy наилучшей модели на валидационной выборке: 0.7900466562986003\n"
     ]
    }
   ],
   "source": [
    "best_model = None\n",
    "best_result = 0\n",
    "best_criterion = None\n",
    "best_depth = 0\n",
    "best_min_samples = 0\n",
    "best_min_leaf = 0\n",
    "\n",
    "for criterion in criterion_list:\n",
    "    for depth in range(1, 11):\n",
    "        for min_samples in range(2, 23, 4):\n",
    "            for min_leaf in range(2, 13, 2):\n",
    "        \n",
    "                model = DecisionTreeClassifier(random_state=RANDOM, \n",
    "                                               criterion=criterion, \n",
    "                                               max_depth=depth,\n",
    "                                               min_samples_split=min_samples,\n",
    "                                               min_samples_leaf=min_leaf) \n",
    "            \n",
    "                model.fit(features_train, target_train)\n",
    "                predictions_valid = model.predict(features_valid) # получаем предсказания модели на валидационной выборке\n",
    "                result = accuracy_score(target_valid, predictions_valid)\n",
    "                if result > best_result:\n",
    "                    best_model = model # сохраняем наилучшую модель\n",
    "                    best_result = result #  сохраняем наилучшее значение метрики accuracy на валидационных данных\n",
    "                    best_criterion = criterion\n",
    "                    best_depth = depth\n",
    "                    best_min_samples = min_samples\n",
    "                    best_min_leaf = min_leaf\n",
    "                    \n",
    "print(f'Наилучшая модель получается с гиперпараметрами\\ncriterion=\"{best_criterion}\", max_depth={best_depth}, min_samples_split={best_min_samples}, min_samples_leaf={best_min_leaf}')          \n",
    "print(\"Accuracy наилучшей модели на валидационной выборке:\", best_result)"
   ]
  },
  {
   "cell_type": "markdown",
   "metadata": {},
   "source": [
    "Какой интересный результат и высокая точность! Пока что Решающее дерево с такими гиперпараметрами - наш фаворит :)"
   ]
  },
  {
   "cell_type": "markdown",
   "metadata": {},
   "source": [
    "### Случайный лес"
   ]
  },
  {
   "cell_type": "markdown",
   "metadata": {},
   "source": [
    "И снова сперва опробуем классификатор без задания гиперпараметров в явном виде."
   ]
  },
  {
   "cell_type": "code",
   "execution_count": 19,
   "metadata": {},
   "outputs": [
    {
     "name": "stdout",
     "output_type": "stream",
     "text": [
      "Accuracy на дереве решений без подбора гиперпараметров 0.7853810264385692\n"
     ]
    }
   ],
   "source": [
    "# объявляем модель\n",
    "model = RandomForestClassifier(random_state=RANDOM)\n",
    "\n",
    "#учим ее на train\n",
    "model.fit(features_train, target_train)\n",
    "\n",
    "# получаем предсказания на valid, который она не видела\n",
    "predictions_valid = model.predict(features_valid)\n",
    "    \n",
    "# получаем оценку метрики accuracy   \n",
    "RandFor_baseline = accuracy_score(target_valid, predictions_valid) \n",
    "print(f'Accuracy на дереве решений без подбора гиперпараметров {RandFor_baseline}')"
   ]
  },
  {
   "cell_type": "markdown",
   "metadata": {},
   "source": [
    "Случайный лес даже без подбора гиперпараметов показывает accuracy на уровне Решающего дерева с перебором 4х гиперпараметров.\n",
    "\n",
    "Вероятно, это связано с тем, что Случайный лес по определению является ансамблевым алгоритмом, то есть он обучает множество независимых деревьев, а потом принимает решение, усредняя их ответы.\n",
    "А много НЕЗАВИСИМЫХ усредненных решений - это всегда лучше чем одно)"
   ]
  },
  {
   "cell_type": "markdown",
   "metadata": {},
   "source": [
    "Однако, попробуем улучшить и этот результат, посмотрим до каких пределов мы сможем добраться.\n",
    "\n",
    "Дока sklearn \n",
    "\n",
    "https://scikit-learn.org/stable/modules/generated/sklearn.ensemble.RandomForestClassifier.html\n",
    "    \n",
    "указывает нам, что гиперпараметры Случайного леса очень похожие на таковые у Решающего дерева, поэтому мы можем попробовать перебор тех же параметров, добавив к ним всего один дополнительный гиперпараметр `n_estimators`, который собственно и отвечает за количество деревьев, принимающих решение, в этом лесу."
   ]
  },
  {
   "cell_type": "code",
   "execution_count": 20,
   "metadata": {},
   "outputs": [],
   "source": [
    "criterion_list = ['gini', 'entropy']"
   ]
  },
  {
   "cell_type": "code",
   "execution_count": 21,
   "metadata": {},
   "outputs": [
    {
     "name": "stdout",
     "output_type": "stream",
     "text": [
      "Наилучшая модель получается с гиперпараметрами\n",
      "n_estimators=10, criterion=\"entropy\", max_depth=7, min_samples_split=2, min_samples_leaf=4\n",
      "Accuracy наилучшей модели на валидационной выборке: 0.8087091757387247\n"
     ]
    }
   ],
   "source": [
    "best_model = None\n",
    "best_result = 0\n",
    "best_criterion = None\n",
    "best_depth = 0\n",
    "best_min_samples = 0\n",
    "best_min_leaf = 0\n",
    "best_est = 0\n",
    "\n",
    "for criterion in criterion_list:\n",
    "    for est in range(10, 71, 10):\n",
    "        for depth in range(1, 11):\n",
    "            for min_samples in range(2, 7):\n",
    "                for min_leaf in range(2, 7):\n",
    "        \n",
    "                    model = RandomForestClassifier(random_state=RANDOM, \n",
    "                                                   criterion=criterion, \n",
    "                                                   n_estimators=est,\n",
    "                                                   max_depth=depth,\n",
    "                                                   min_samples_split=min_samples,\n",
    "                                                   min_samples_leaf=min_leaf) \n",
    "            \n",
    "                    model.fit(features_train, target_train)\n",
    "                    predictions_valid = model.predict(features_valid) # получаем предсказания модели на валидационной выборке\n",
    "                    result = accuracy_score(target_valid, predictions_valid)\n",
    "                    if result > best_result:\n",
    "                        best_model = model # сохраняем наилучшую модель\n",
    "                        best_result = result #  сохраняем наилучшее значение метрики accuracy на валидационных данных\n",
    "                        best_criterion = criterion\n",
    "                        best_est = est\n",
    "                        best_depth = depth\n",
    "                        best_min_samples = min_samples\n",
    "                        best_min_leaf = min_leaf\n",
    "                    \n",
    "print(f'Наилучшая модель получается с гиперпараметрами\\nn_estimators={best_est}, criterion=\"{best_criterion}\", max_depth={best_depth}, min_samples_split={best_min_samples}, min_samples_leaf={best_min_leaf}')          \n",
    "print(\"Accuracy наилучшей модели на валидационной выборке:\", best_result)"
   ]
  },
  {
   "cell_type": "markdown",
   "metadata": {},
   "source": [
    "Нашим моделькам пришлось попотеть, так как количество передаваемых гиперпараметров разрослось, а нужно проверить все их сочетания между собой.\n",
    "Зато нам удалось получить наивысшее значение `accuracy` по результатам всего исследования. Однако, стоит заметить, что разница в значениях метрик между Случайным лесом и Решающим деревом по итогу не так высока, а количество времени и вычислительных ресурсов, которые пришлось потратить Случайному лесу на подбор лучших гиперпараметров - несравнимо выше и это было заметно."
   ]
  },
  {
   "cell_type": "markdown",
   "metadata": {},
   "source": [
    "Наша лучшая модель содержитс в переменной `best_model` и мы готовы к тому, чтобы подать ей тестовые данные и посмотреть на ту точность, которую мы потенциально могли бы получить на реальных данных."
   ]
  },
  {
   "cell_type": "code",
   "execution_count": 22,
   "metadata": {},
   "outputs": [
    {
     "data": {
      "text/plain": [
       "RandomForestClassifier(criterion='entropy', max_depth=7, min_samples_leaf=4,\n",
       "                       n_estimators=10, random_state=12345)"
      ]
     },
     "execution_count": 22,
     "metadata": {},
     "output_type": "execute_result"
    }
   ],
   "source": [
    "best_model"
   ]
  },
  {
   "cell_type": "markdown",
   "metadata": {},
   "source": [
    "## Проверьте модель на тестовой выборке"
   ]
  },
  {
   "cell_type": "markdown",
   "metadata": {},
   "source": [
    "Звездный час настал, берем нашу лучшую модель с лучшими гиперпараметрами и, наконец, показываем ей тестовую выборку, ожидая получить наилучший результат по accuracy."
   ]
  },
  {
   "cell_type": "code",
   "execution_count": 23,
   "metadata": {},
   "outputs": [
    {
     "name": "stdout",
     "output_type": "stream",
     "text": [
      "Accuracy наилучшей модели на тестовой выборке: 0.8009331259720062\n"
     ]
    }
   ],
   "source": [
    "model = best_model\n",
    "\n",
    "model.fit(features_train, target_train)\n",
    "\n",
    "predictions_test = model.predict(features_test)\n",
    "final_result = accuracy_score(target_test, predictions_test)\n",
    "\n",
    "print(\"Accuracy наилучшей модели на тестовой выборке:\", final_result)"
   ]
  },
  {
   "cell_type": "markdown",
   "metadata": {},
   "source": [
    "Итак, на тестовой выборке наша модель Случайный лес показала значение `accuracy`, приближенное к таковому на валидации. \n",
    "\n",
    "То есть можно утверждать, что у нашей модели нет проблем ни с переобучением (переобучения нет, когда модель показывает высокое качество как на тренировочной, так и на на тестовой выборке), ни с недообучением, а следовательно, нам удалось построить удачную модель для решения задачи бинарной классификации по подбору подходящего тарифа клиентам."
   ]
  },
  {
   "cell_type": "markdown",
   "metadata": {},
   "source": [
    "## (бонус) Проверьте модели на адекватность"
   ]
  },
  {
   "cell_type": "markdown",
   "metadata": {},
   "source": [
    "Проверка модели на адекватность или вменяемость (она же `sanity check`) - это сравнение ее с некой случайной моделью, которая строит свои предсказания по случайному принципу. То есть пытается угадать правильные ответы, а не реально научиться, найдя закономерности в данных.\n",
    "\n"
   ]
  },
  {
   "cell_type": "markdown",
   "metadata": {},
   "source": [
    "В пакете sklearn есть замечательный dummy классификатор\n",
    "\n",
    "https://scikit-learn.org/stable/modules/generated/sklearn.dummy.DummyClassifier.html,\n",
    "    \n",
    "который судя по описанию как раз делает предсказания, игнорируя поступающие ему признаки.\n",
    "\n",
    "Алгорим принятия решений у нее прописан в параметре `strategy`, который мы можем задать как `most_frequent`, то есть модель возьмет самое часто встречающееся значение класса по целевому признаку и будет не глядя выдавать его как свои предсказания. \n",
    "\n",
    "Воспользуемся его функционалом и оценим `accuracy`, который мы могли бы получить совсем не проводя работу с моделями, как мы сделали выше.\n",
    "\n",
    "Как можно заранее предугадать из распределения классов в нашем датасете, так как 0 встречается в колонке `is_ultra` почти в 2.5 раза чаще, чем 1, то именно 0 и будет ее предсказанием и мы должны получить какое-то значение точности модели порядка 0.68-0.7 ."
   ]
  },
  {
   "cell_type": "code",
   "execution_count": 24,
   "metadata": {},
   "outputs": [
    {
     "name": "stdout",
     "output_type": "stream",
     "text": [
      "Accuracy на тестовой выборке у модели, которая просто всегда берет наиболее часто встречающийся класс: 0.6842923794712286\n"
     ]
    }
   ],
   "source": [
    "dummy_model = DummyClassifier(strategy=\"most_frequent\", random_state=RANDOM)\n",
    "\n",
    "dummy_model.fit(features_train, target_train)\n",
    "predictions = dummy_model.predict(features_test)\n",
    "dummy_accuracy = accuracy_score(target_test, predictions)\n",
    "\n",
    "print(\"Accuracy на тестовой выборке у модели, которая просто всегда берет наиболее часто встречающийся класс:\", dummy_accuracy)"
   ]
  },
  {
   "cell_type": "markdown",
   "metadata": {},
   "source": [
    "Наши предположения полностью подвердились. Из-за самой структуры распределения данных в нашем датасете, можно и без построения серьёзных моделей с вероятностью около 70% выдавать верные ответы. Однако, это не будет задачей машинного обучения и, что самое главное, эту ситуацию нельзя будет экстраполировать на другие данные и датасеты, так как в них попросту будет другое распределение и количество классов у целевой переменной."
   ]
  },
  {
   "cell_type": "markdown",
   "metadata": {},
   "source": [
    "**Выводы по результатам исследования**\n",
    "\n",
    "Датасет для проведения исследования содержал данные о поведении клиентов оператора мобильной связи «Мегалайн», которые уже перешли на тарифы «Смарт» или «Ультра». \n",
    "\n",
    "Целью исследования было построение такой модели для задачи бинарной классификации, которая выберет подходящий тариф новым/потенциальным клиентам с наивысшей точностью. Успешность модели мы замеряли с помощью метрики accuracy, показатель которой нам нужно было довести до значения не меньше 0.75.\n",
    "\n",
    "В ходе исследования:\n",
    "    \n",
    "- были загружены данные, получена общая информация по ним, выделены колонки с признаками и целевой переменной,\n",
    "- за неимением отдельной тестовой выборки для проверки качества моделей, полный датасет был разделен на обучающую, валидационную и тестовую выборку в пропорции 3:1:1,\n",
    "\n",
    "\n",
    "- были исследованы три типа моделей для решения задачи классификации: логистическая регрессия, Дерево Решений и Случайный Лес,      \n",
    "- с каждый типом моделей была проведена процедура получения baseline значения метрики accuracy без параметров, а затем были опробованы и получены гиперпраметры и значение той же метрики для наилучшей модели на валидационной выборке,\n",
    "\n",
    "\n",
    "- наилучшим образом для нашей задачи показала себя модель Случайный лес с гиперпараметрами n_estimators=10, criterion=\"entropy\", max_depth=7, min_samples_split=2, min_samples_leaf=4, `accuracy` на валидации для этой модели составила 0.8087,\n",
    "\n",
    "\n",
    "- эта модель была применена для получения предсказаний на тестовой выборке, которую она до этого не видела и был получен `accuracy score` 0.800933, который свидетельствует о том, что наша модель может правильно классифицировать 80% объектов в наших данных,\n",
    "- наша лучшая модель была проверена на адекватность с помощью сравнения ее с DummyClassifier, который строит свои предсказания на выборе наиболее распространенного класса в колонке с целевым признаком, и показала свою состоятельность, так как позволяет делать предсказания на 13% точнее.\n",
    "\n",
    "В результате исследования нам удалось отобрать модель, на которой удалось достичь `accuracy` больше порогового значения 0.75, что и было нашей целью."
   ]
  }
 ],
 "metadata": {
  "ExecuteTimeLog": [
   {
    "duration": 49,
    "start_time": "2022-12-12T10:35:43.201Z"
   },
   {
    "duration": 393,
    "start_time": "2022-12-12T10:36:25.177Z"
   },
   {
    "duration": 118,
    "start_time": "2022-12-12T10:36:26.992Z"
   },
   {
    "duration": 72,
    "start_time": "2022-12-12T10:39:18.059Z"
   },
   {
    "duration": 45,
    "start_time": "2022-12-12T10:40:13.616Z"
   },
   {
    "duration": 4,
    "start_time": "2022-12-12T10:40:21.538Z"
   },
   {
    "duration": 685,
    "start_time": "2022-12-12T10:41:22.041Z"
   },
   {
    "duration": 3,
    "start_time": "2022-12-12T10:43:02.505Z"
   },
   {
    "duration": 11,
    "start_time": "2022-12-12T10:43:45.260Z"
   },
   {
    "duration": 3,
    "start_time": "2022-12-12T10:58:40.444Z"
   },
   {
    "duration": 3,
    "start_time": "2022-12-12T11:07:16.179Z"
   },
   {
    "duration": 7,
    "start_time": "2022-12-12T11:09:52.405Z"
   },
   {
    "duration": 42,
    "start_time": "2022-12-12T11:10:11.564Z"
   },
   {
    "duration": 3,
    "start_time": "2022-12-12T11:10:16.416Z"
   },
   {
    "duration": 4,
    "start_time": "2022-12-12T11:10:33.434Z"
   },
   {
    "duration": 4,
    "start_time": "2022-12-12T11:10:45.755Z"
   },
   {
    "duration": 566,
    "start_time": "2022-12-12T11:16:50.369Z"
   },
   {
    "duration": 41,
    "start_time": "2022-12-12T11:31:37.070Z"
   },
   {
    "duration": 3,
    "start_time": "2022-12-12T11:31:50.192Z"
   },
   {
    "duration": 40,
    "start_time": "2022-12-12T11:31:57.350Z"
   },
   {
    "duration": 28,
    "start_time": "2022-12-12T11:32:49.030Z"
   },
   {
    "duration": 3,
    "start_time": "2022-12-12T11:45:02.899Z"
   },
   {
    "duration": 2778,
    "start_time": "2022-12-12T11:45:03.336Z"
   },
   {
    "duration": 2672,
    "start_time": "2022-12-12T11:48:28.922Z"
   },
   {
    "duration": 3,
    "start_time": "2022-12-12T11:48:59.072Z"
   },
   {
    "duration": 3,
    "start_time": "2022-12-12T11:49:07.671Z"
   },
   {
    "duration": 2776,
    "start_time": "2022-12-12T11:49:08.001Z"
   },
   {
    "duration": 2,
    "start_time": "2022-12-12T11:49:29.877Z"
   },
   {
    "duration": 2696,
    "start_time": "2022-12-12T11:49:30.265Z"
   },
   {
    "duration": 3,
    "start_time": "2022-12-12T11:49:55.849Z"
   },
   {
    "duration": 3483,
    "start_time": "2022-12-12T11:50:19.086Z"
   },
   {
    "duration": 2662,
    "start_time": "2022-12-12T11:50:24.698Z"
   },
   {
    "duration": 2741,
    "start_time": "2022-12-12T11:50:37.769Z"
   },
   {
    "duration": 2687,
    "start_time": "2022-12-12T11:51:11.377Z"
   },
   {
    "duration": 3,
    "start_time": "2022-12-12T11:51:20.814Z"
   },
   {
    "duration": 2628,
    "start_time": "2022-12-12T11:51:22.146Z"
   },
   {
    "duration": 2745,
    "start_time": "2022-12-12T11:52:27.778Z"
   },
   {
    "duration": 2755,
    "start_time": "2022-12-12T11:52:48.335Z"
   },
   {
    "duration": 3,
    "start_time": "2022-12-12T11:52:59.920Z"
   },
   {
    "duration": 2758,
    "start_time": "2022-12-12T11:53:00.748Z"
   },
   {
    "duration": 7422,
    "start_time": "2022-12-12T11:53:11.263Z"
   },
   {
    "duration": 7363,
    "start_time": "2022-12-12T11:55:46.576Z"
   },
   {
    "duration": 7319,
    "start_time": "2022-12-12T11:56:54.762Z"
   },
   {
    "duration": 7281,
    "start_time": "2022-12-12T11:57:20.560Z"
   },
   {
    "duration": 3,
    "start_time": "2022-12-12T12:09:43.010Z"
   },
   {
    "duration": 7338,
    "start_time": "2022-12-12T12:09:43.423Z"
   },
   {
    "duration": 2,
    "start_time": "2022-12-12T12:10:08.612Z"
   },
   {
    "duration": 3,
    "start_time": "2022-12-12T12:12:13.252Z"
   },
   {
    "duration": 3,
    "start_time": "2022-12-12T12:12:35.075Z"
   },
   {
    "duration": 15,
    "start_time": "2022-12-12T12:13:56.591Z"
   },
   {
    "duration": 11,
    "start_time": "2022-12-12T12:26:52.904Z"
   },
   {
    "duration": 2,
    "start_time": "2022-12-12T12:26:57.282Z"
   },
   {
    "duration": 15,
    "start_time": "2022-12-12T12:26:57.610Z"
   },
   {
    "duration": 15,
    "start_time": "2022-12-12T12:27:14.643Z"
   },
   {
    "duration": 1210,
    "start_time": "2022-12-12T12:27:21.874Z"
   },
   {
    "duration": 1154,
    "start_time": "2022-12-12T12:29:30.261Z"
   },
   {
    "duration": 1684,
    "start_time": "2022-12-12T12:30:21.428Z"
   },
   {
    "duration": 71,
    "start_time": "2022-12-12T12:30:51.481Z"
   },
   {
    "duration": 1683,
    "start_time": "2022-12-12T12:31:00.503Z"
   },
   {
    "duration": 3,
    "start_time": "2022-12-12T12:31:23.747Z"
   },
   {
    "duration": 1599,
    "start_time": "2022-12-12T12:31:24.381Z"
   },
   {
    "duration": 3,
    "start_time": "2022-12-12T12:31:41.985Z"
   },
   {
    "duration": 1746,
    "start_time": "2022-12-12T12:31:42.624Z"
   },
   {
    "duration": 1684,
    "start_time": "2022-12-12T12:31:49.327Z"
   },
   {
    "duration": 1647,
    "start_time": "2022-12-12T12:31:53.304Z"
   },
   {
    "duration": 4252,
    "start_time": "2022-12-12T12:35:49.711Z"
   },
   {
    "duration": 4307,
    "start_time": "2022-12-12T12:36:10.500Z"
   },
   {
    "duration": 386,
    "start_time": "2022-12-12T12:38:00.331Z"
   },
   {
    "duration": 2,
    "start_time": "2022-12-12T12:44:08.188Z"
   },
   {
    "duration": 13,
    "start_time": "2022-12-12T12:47:57.041Z"
   },
   {
    "duration": 126132,
    "start_time": "2022-12-12T12:48:16.800Z"
   },
   {
    "duration": 0,
    "start_time": "2022-12-12T12:50:22.934Z"
   },
   {
    "duration": 185209,
    "start_time": "2022-12-12T12:50:26.673Z"
   },
   {
    "duration": 342475,
    "start_time": "2022-12-12T12:55:48.342Z"
   },
   {
    "duration": 4,
    "start_time": "2022-12-12T13:02:53.284Z"
   },
   {
    "duration": 37,
    "start_time": "2022-12-12T13:08:38.540Z"
   },
   {
    "duration": 11,
    "start_time": "2022-12-12T13:30:12.138Z"
   },
   {
    "duration": 3,
    "start_time": "2022-12-12T13:30:41.864Z"
   },
   {
    "duration": 6,
    "start_time": "2022-12-12T13:30:45.367Z"
   },
   {
    "duration": 6,
    "start_time": "2022-12-12T13:30:58.242Z"
   },
   {
    "duration": 5,
    "start_time": "2022-12-12T13:35:42.761Z"
   },
   {
    "duration": 71,
    "start_time": "2022-12-12T13:58:23.817Z"
   },
   {
    "duration": 1077,
    "start_time": "2022-12-12T14:24:31.790Z"
   },
   {
    "duration": 72,
    "start_time": "2022-12-12T14:24:32.869Z"
   },
   {
    "duration": 10,
    "start_time": "2022-12-12T14:24:32.943Z"
   },
   {
    "duration": 7,
    "start_time": "2022-12-12T14:24:32.955Z"
   },
   {
    "duration": 367,
    "start_time": "2022-12-12T14:24:32.964Z"
   },
   {
    "duration": 5,
    "start_time": "2022-12-12T14:24:33.332Z"
   },
   {
    "duration": 7,
    "start_time": "2022-12-12T14:24:33.339Z"
   },
   {
    "duration": 8,
    "start_time": "2022-12-12T14:24:33.348Z"
   },
   {
    "duration": 8,
    "start_time": "2022-12-12T14:24:33.357Z"
   },
   {
    "duration": 10,
    "start_time": "2022-12-12T14:24:33.366Z"
   },
   {
    "duration": 12,
    "start_time": "2022-12-12T14:24:33.377Z"
   },
   {
    "duration": 8,
    "start_time": "2022-12-12T14:24:33.390Z"
   },
   {
    "duration": 30,
    "start_time": "2022-12-12T14:24:33.400Z"
   },
   {
    "duration": 3,
    "start_time": "2022-12-12T14:24:33.433Z"
   },
   {
    "duration": 7564,
    "start_time": "2022-12-12T14:24:33.437Z"
   },
   {
    "duration": 18,
    "start_time": "2022-12-12T14:24:41.005Z"
   },
   {
    "duration": 6,
    "start_time": "2022-12-12T14:24:41.024Z"
   },
   {
    "duration": 4343,
    "start_time": "2022-12-12T14:24:41.032Z"
   },
   {
    "duration": 364,
    "start_time": "2022-12-12T14:24:45.377Z"
   },
   {
    "duration": 3,
    "start_time": "2022-12-12T14:24:45.742Z"
   },
   {
    "duration": 345402,
    "start_time": "2022-12-12T14:24:45.746Z"
   },
   {
    "duration": 5,
    "start_time": "2022-12-12T14:30:31.149Z"
   },
   {
    "duration": 52,
    "start_time": "2022-12-12T14:30:31.156Z"
   },
   {
    "duration": 5,
    "start_time": "2022-12-12T14:30:31.209Z"
   },
   {
    "duration": 65,
    "start_time": "2022-12-12T16:21:02.281Z"
   },
   {
    "duration": 138,
    "start_time": "2022-12-12T16:30:59.817Z"
   }
  ],
  "kernelspec": {
   "display_name": "Python 3 (ipykernel)",
   "language": "python",
   "name": "python3"
  },
  "language_info": {
   "codemirror_mode": {
    "name": "ipython",
    "version": 3
   },
   "file_extension": ".py",
   "mimetype": "text/x-python",
   "name": "python",
   "nbconvert_exporter": "python",
   "pygments_lexer": "ipython3",
   "version": "3.10.10"
  },
  "toc": {
   "base_numbering": 1,
   "nav_menu": {},
   "number_sections": true,
   "sideBar": true,
   "skip_h1_title": true,
   "title_cell": "Table of Contents",
   "title_sidebar": "Contents",
   "toc_cell": false,
   "toc_position": {},
   "toc_section_display": true,
   "toc_window_display": false
  }
 },
 "nbformat": 4,
 "nbformat_minor": 2
}
