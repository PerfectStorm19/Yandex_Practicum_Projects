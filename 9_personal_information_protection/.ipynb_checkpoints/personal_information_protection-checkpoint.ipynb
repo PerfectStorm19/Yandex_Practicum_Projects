{
 "cells": [
  {
   "cell_type": "markdown",
   "metadata": {},
   "source": [
    "# Защита персональных данных клиентов"
   ]
  },
  {
   "cell_type": "markdown",
   "metadata": {
    "toc": true
   },
   "source": [
    "<h1>Содержание<span class=\"tocSkip\"></span></h1>\n",
    "<div class=\"toc\"><ul class=\"toc-item\"><li><span><a href=\"#Загрузка-данных\" data-toc-modified-id=\"Загрузка-данных-1\"><span class=\"toc-item-num\">1&nbsp;&nbsp;</span>Загрузка данных</a></span></li><li><span><a href=\"#Умножение-матриц\" data-toc-modified-id=\"Умножение-матриц-2\"><span class=\"toc-item-num\">2&nbsp;&nbsp;</span>Умножение матриц</a></span></li><li><span><a href=\"#Алгоритм-преобразования\" data-toc-modified-id=\"Алгоритм-преобразования-3\"><span class=\"toc-item-num\">3&nbsp;&nbsp;</span>Алгоритм преобразования</a></span></li><li><span><a href=\"#Проверка-алгоритма\" data-toc-modified-id=\"Проверка-алгоритма-4\"><span class=\"toc-item-num\">4&nbsp;&nbsp;</span>Проверка алгоритма</a></span></li><li><span><a href=\"#Выводы-по-работе\" data-toc-modified-id=\"Выводы-по-работе-5\"><span class=\"toc-item-num\">5&nbsp;&nbsp;</span>Выводы по работе</a></span></li><li><span><a href=\"#Чек-лист-проверки\" data-toc-modified-id=\"Чек-лист-проверки-6\"><span class=\"toc-item-num\">6&nbsp;&nbsp;</span>Чек-лист проверки</a></span></li><li><span><a href=\"#Финальные-комментарии-ревьюера\" data-toc-modified-id=\"Финальные-комментарии-ревьюера-7\"><span class=\"toc-item-num\">7&nbsp;&nbsp;</span>Финальные комментарии ревьюера</a></span></li></ul></div>"
   ]
  },
  {
   "cell_type": "markdown",
   "metadata": {},
   "source": [
    "Вам нужно защитить данные клиентов страховой компании «Хоть потоп». Разработайте такой метод преобразования данных, чтобы по ним было сложно восстановить персональную информацию. Обоснуйте корректность его работы.\n",
    "\n",
    "Нужно защитить данные, чтобы при преобразовании качество моделей машинного обучения не ухудшилось. Подбирать наилучшую модель не требуется."
   ]
  },
  {
   "cell_type": "code",
   "execution_count": 2,
   "metadata": {},
   "outputs": [],
   "source": [
    "# импорт библиотек\n",
    "\n",
    "import pandas as pd\n",
    "import numpy as np\n",
    "import matplotlib.pyplot as plt\n",
    "import seaborn as sns\n",
    "\n",
    "import sklearn\n",
    "from sklearn.linear_model import LinearRegression\n",
    "from sklearn.metrics import mean_squared_error, r2_score\n",
    "\n",
    "sns.set(font_scale=2,\n",
    "        style='whitegrid',\n",
    "        rc={'figure.figsize': (20, 16)})\n",
    "\n",
    "import warnings\n",
    "warnings.filterwarnings(\"ignore\")"
   ]
  },
  {
   "cell_type": "markdown",
   "metadata": {},
   "source": [
    "## Загрузка данных"
   ]
  },
  {
   "cell_type": "markdown",
   "metadata": {},
   "source": [
    "Загрузим данные безопасным способом, выведем случайные 5 строк, общую информацию о датасете (вместе с информацией об абсолютном и относительном количестве пропусков), основные статистики по столбцам и количество явных дубликатов.\n",
    "\n",
    "Для удобства работы весь процесс реализуем через функции."
   ]
  },
  {
   "cell_type": "code",
   "execution_count": 3,
   "metadata": {},
   "outputs": [],
   "source": [
    "try:\n",
    "    data = pd.read_csv('/datasets/insurance.csv')\n",
    "except:\n",
    "    data = pd.read_csv('insurance.csv')"
   ]
  },
  {
   "cell_type": "code",
   "execution_count": 4,
   "metadata": {},
   "outputs": [
    {
     "data": {
      "text/html": [
       "<div>\n",
       "<style scoped>\n",
       "    .dataframe tbody tr th:only-of-type {\n",
       "        vertical-align: middle;\n",
       "    }\n",
       "\n",
       "    .dataframe tbody tr th {\n",
       "        vertical-align: top;\n",
       "    }\n",
       "\n",
       "    .dataframe thead th {\n",
       "        text-align: right;\n",
       "    }\n",
       "</style>\n",
       "<table border=\"1\" class=\"dataframe\">\n",
       "  <thead>\n",
       "    <tr style=\"text-align: right;\">\n",
       "      <th></th>\n",
       "      <th>Пол</th>\n",
       "      <th>Возраст</th>\n",
       "      <th>Зарплата</th>\n",
       "      <th>Члены семьи</th>\n",
       "      <th>Страховые выплаты</th>\n",
       "    </tr>\n",
       "  </thead>\n",
       "  <tbody>\n",
       "    <tr>\n",
       "      <th>0</th>\n",
       "      <td>1</td>\n",
       "      <td>41.0</td>\n",
       "      <td>49600.0</td>\n",
       "      <td>1</td>\n",
       "      <td>0</td>\n",
       "    </tr>\n",
       "    <tr>\n",
       "      <th>1</th>\n",
       "      <td>0</td>\n",
       "      <td>46.0</td>\n",
       "      <td>38000.0</td>\n",
       "      <td>1</td>\n",
       "      <td>1</td>\n",
       "    </tr>\n",
       "    <tr>\n",
       "      <th>2</th>\n",
       "      <td>0</td>\n",
       "      <td>29.0</td>\n",
       "      <td>21000.0</td>\n",
       "      <td>0</td>\n",
       "      <td>0</td>\n",
       "    </tr>\n",
       "    <tr>\n",
       "      <th>3</th>\n",
       "      <td>0</td>\n",
       "      <td>21.0</td>\n",
       "      <td>41700.0</td>\n",
       "      <td>2</td>\n",
       "      <td>0</td>\n",
       "    </tr>\n",
       "    <tr>\n",
       "      <th>4</th>\n",
       "      <td>1</td>\n",
       "      <td>28.0</td>\n",
       "      <td>26100.0</td>\n",
       "      <td>0</td>\n",
       "      <td>0</td>\n",
       "    </tr>\n",
       "  </tbody>\n",
       "</table>\n",
       "</div>"
      ],
      "text/plain": [
       "   Пол  Возраст  Зарплата  Члены семьи  Страховые выплаты\n",
       "0    1     41.0   49600.0            1                  0\n",
       "1    0     46.0   38000.0            1                  1\n",
       "2    0     29.0   21000.0            0                  0\n",
       "3    0     21.0   41700.0            2                  0\n",
       "4    1     28.0   26100.0            0                  0"
      ]
     },
     "execution_count": 4,
     "metadata": {},
     "output_type": "execute_result"
    }
   ],
   "source": [
    "data.head()"
   ]
  },
  {
   "cell_type": "code",
   "execution_count": 6,
   "metadata": {},
   "outputs": [],
   "source": [
    "def nans(df):\n",
    "    '''функция выводит количество пропусков в каждом столбце и их долю от общего количества данных в столбце'''\n",
    "    \n",
    "    count_missing = df.isna().sum()\n",
    "    percent_missing = round(df.isna().sum() * 100 / len(df), 2)\n",
    "    \n",
    "    missing_value_df = pd.DataFrame({'num_missing': count_missing,\n",
    "                                     'percent_missing': percent_missing})\n",
    "    \n",
    "    return missing_value_df.reset_index().rename(columns={'index':'column'})"
   ]
  },
  {
   "cell_type": "code",
   "execution_count": 7,
   "metadata": {},
   "outputs": [],
   "source": [
    "def info_dataframe(data, details=False):\n",
    "    '''функция преобразует df.info() в датафрейм'''\n",
    "    \n",
    "    dfInfo = data.columns.to_frame(name='column')\n",
    "    dfInfo['dtype'] = data.dtypes\n",
    "    dfInfo['non_null_count'] = data.notna().sum()  \n",
    "    dfInfo.reset_index(drop=True, inplace=True)\n",
    "    \n",
    "    if details:\n",
    "        rangeIndex = (dfInfo['non_null_count'].min(), dfInfo['non_null_count'].min())\n",
    "        totalColumns = dfInfo['column'].count()\n",
    "        dtypesCount = dfInfo['dtype'].value_counts()\n",
    "        totalMemory = dfInfo.memory_usage().sum()\n",
    "        return dfInfo, rangeIndex, totalColumns, dtypesCount, totalMemory\n",
    "    else:\n",
    "        return dfInfo"
   ]
  },
  {
   "cell_type": "code",
   "execution_count": 8,
   "metadata": {},
   "outputs": [],
   "source": [
    "def all_info(df):\n",
    "    '''функция выводит случайные 5 строк, информацию по датафрейму, включая пропуски и их долю, статистики и кол-во дубликатов'''\n",
    "    \n",
    "    display(df.sample(5))\n",
    "    print(f'Датафрейм содержит {df.shape[0]} записей и {df.shape[1]} колонки')\n",
    "    all_info_df = info_dataframe(df).merge(nans(df), on='column')\n",
    "    display(all_info_df)\n",
    "    display(df.describe()) \n",
    "    print(f'Количество явных дубликатов в датафрейме {df.duplicated().sum()}')"
   ]
  },
  {
   "cell_type": "code",
   "execution_count": 9,
   "metadata": {},
   "outputs": [
    {
     "data": {
      "text/html": [
       "<div>\n",
       "<style scoped>\n",
       "    .dataframe tbody tr th:only-of-type {\n",
       "        vertical-align: middle;\n",
       "    }\n",
       "\n",
       "    .dataframe tbody tr th {\n",
       "        vertical-align: top;\n",
       "    }\n",
       "\n",
       "    .dataframe thead th {\n",
       "        text-align: right;\n",
       "    }\n",
       "</style>\n",
       "<table border=\"1\" class=\"dataframe\">\n",
       "  <thead>\n",
       "    <tr style=\"text-align: right;\">\n",
       "      <th></th>\n",
       "      <th>Пол</th>\n",
       "      <th>Возраст</th>\n",
       "      <th>Зарплата</th>\n",
       "      <th>Члены семьи</th>\n",
       "      <th>Страховые выплаты</th>\n",
       "    </tr>\n",
       "  </thead>\n",
       "  <tbody>\n",
       "    <tr>\n",
       "      <th>1411</th>\n",
       "      <td>1</td>\n",
       "      <td>31.0</td>\n",
       "      <td>21600.0</td>\n",
       "      <td>0</td>\n",
       "      <td>0</td>\n",
       "    </tr>\n",
       "    <tr>\n",
       "      <th>3256</th>\n",
       "      <td>1</td>\n",
       "      <td>26.0</td>\n",
       "      <td>46800.0</td>\n",
       "      <td>2</td>\n",
       "      <td>0</td>\n",
       "    </tr>\n",
       "    <tr>\n",
       "      <th>4544</th>\n",
       "      <td>1</td>\n",
       "      <td>31.0</td>\n",
       "      <td>21000.0</td>\n",
       "      <td>1</td>\n",
       "      <td>0</td>\n",
       "    </tr>\n",
       "    <tr>\n",
       "      <th>205</th>\n",
       "      <td>0</td>\n",
       "      <td>25.0</td>\n",
       "      <td>45000.0</td>\n",
       "      <td>0</td>\n",
       "      <td>0</td>\n",
       "    </tr>\n",
       "    <tr>\n",
       "      <th>876</th>\n",
       "      <td>1</td>\n",
       "      <td>38.0</td>\n",
       "      <td>42700.0</td>\n",
       "      <td>1</td>\n",
       "      <td>0</td>\n",
       "    </tr>\n",
       "  </tbody>\n",
       "</table>\n",
       "</div>"
      ],
      "text/plain": [
       "      Пол  Возраст  Зарплата  Члены семьи  Страховые выплаты\n",
       "1411    1     31.0   21600.0            0                  0\n",
       "3256    1     26.0   46800.0            2                  0\n",
       "4544    1     31.0   21000.0            1                  0\n",
       "205     0     25.0   45000.0            0                  0\n",
       "876     1     38.0   42700.0            1                  0"
      ]
     },
     "metadata": {},
     "output_type": "display_data"
    },
    {
     "name": "stdout",
     "output_type": "stream",
     "text": [
      "Датафрейм содержит 5000 записей и 5 колонки\n"
     ]
    },
    {
     "data": {
      "text/html": [
       "<div>\n",
       "<style scoped>\n",
       "    .dataframe tbody tr th:only-of-type {\n",
       "        vertical-align: middle;\n",
       "    }\n",
       "\n",
       "    .dataframe tbody tr th {\n",
       "        vertical-align: top;\n",
       "    }\n",
       "\n",
       "    .dataframe thead th {\n",
       "        text-align: right;\n",
       "    }\n",
       "</style>\n",
       "<table border=\"1\" class=\"dataframe\">\n",
       "  <thead>\n",
       "    <tr style=\"text-align: right;\">\n",
       "      <th></th>\n",
       "      <th>column</th>\n",
       "      <th>dtype</th>\n",
       "      <th>non_null_count</th>\n",
       "      <th>num_missing</th>\n",
       "      <th>percent_missing</th>\n",
       "    </tr>\n",
       "  </thead>\n",
       "  <tbody>\n",
       "    <tr>\n",
       "      <th>0</th>\n",
       "      <td>Пол</td>\n",
       "      <td>int64</td>\n",
       "      <td>5000</td>\n",
       "      <td>0</td>\n",
       "      <td>0.0</td>\n",
       "    </tr>\n",
       "    <tr>\n",
       "      <th>1</th>\n",
       "      <td>Возраст</td>\n",
       "      <td>float64</td>\n",
       "      <td>5000</td>\n",
       "      <td>0</td>\n",
       "      <td>0.0</td>\n",
       "    </tr>\n",
       "    <tr>\n",
       "      <th>2</th>\n",
       "      <td>Зарплата</td>\n",
       "      <td>float64</td>\n",
       "      <td>5000</td>\n",
       "      <td>0</td>\n",
       "      <td>0.0</td>\n",
       "    </tr>\n",
       "    <tr>\n",
       "      <th>3</th>\n",
       "      <td>Члены семьи</td>\n",
       "      <td>int64</td>\n",
       "      <td>5000</td>\n",
       "      <td>0</td>\n",
       "      <td>0.0</td>\n",
       "    </tr>\n",
       "    <tr>\n",
       "      <th>4</th>\n",
       "      <td>Страховые выплаты</td>\n",
       "      <td>int64</td>\n",
       "      <td>5000</td>\n",
       "      <td>0</td>\n",
       "      <td>0.0</td>\n",
       "    </tr>\n",
       "  </tbody>\n",
       "</table>\n",
       "</div>"
      ],
      "text/plain": [
       "              column    dtype  non_null_count  num_missing  percent_missing\n",
       "0                Пол    int64            5000            0              0.0\n",
       "1            Возраст  float64            5000            0              0.0\n",
       "2           Зарплата  float64            5000            0              0.0\n",
       "3        Члены семьи    int64            5000            0              0.0\n",
       "4  Страховые выплаты    int64            5000            0              0.0"
      ]
     },
     "metadata": {},
     "output_type": "display_data"
    },
    {
     "data": {
      "text/html": [
       "<div>\n",
       "<style scoped>\n",
       "    .dataframe tbody tr th:only-of-type {\n",
       "        vertical-align: middle;\n",
       "    }\n",
       "\n",
       "    .dataframe tbody tr th {\n",
       "        vertical-align: top;\n",
       "    }\n",
       "\n",
       "    .dataframe thead th {\n",
       "        text-align: right;\n",
       "    }\n",
       "</style>\n",
       "<table border=\"1\" class=\"dataframe\">\n",
       "  <thead>\n",
       "    <tr style=\"text-align: right;\">\n",
       "      <th></th>\n",
       "      <th>Пол</th>\n",
       "      <th>Возраст</th>\n",
       "      <th>Зарплата</th>\n",
       "      <th>Члены семьи</th>\n",
       "      <th>Страховые выплаты</th>\n",
       "    </tr>\n",
       "  </thead>\n",
       "  <tbody>\n",
       "    <tr>\n",
       "      <th>count</th>\n",
       "      <td>5000.000000</td>\n",
       "      <td>5000.000000</td>\n",
       "      <td>5000.000000</td>\n",
       "      <td>5000.000000</td>\n",
       "      <td>5000.000000</td>\n",
       "    </tr>\n",
       "    <tr>\n",
       "      <th>mean</th>\n",
       "      <td>0.499000</td>\n",
       "      <td>30.952800</td>\n",
       "      <td>39916.360000</td>\n",
       "      <td>1.194200</td>\n",
       "      <td>0.148000</td>\n",
       "    </tr>\n",
       "    <tr>\n",
       "      <th>std</th>\n",
       "      <td>0.500049</td>\n",
       "      <td>8.440807</td>\n",
       "      <td>9900.083569</td>\n",
       "      <td>1.091387</td>\n",
       "      <td>0.463183</td>\n",
       "    </tr>\n",
       "    <tr>\n",
       "      <th>min</th>\n",
       "      <td>0.000000</td>\n",
       "      <td>18.000000</td>\n",
       "      <td>5300.000000</td>\n",
       "      <td>0.000000</td>\n",
       "      <td>0.000000</td>\n",
       "    </tr>\n",
       "    <tr>\n",
       "      <th>25%</th>\n",
       "      <td>0.000000</td>\n",
       "      <td>24.000000</td>\n",
       "      <td>33300.000000</td>\n",
       "      <td>0.000000</td>\n",
       "      <td>0.000000</td>\n",
       "    </tr>\n",
       "    <tr>\n",
       "      <th>50%</th>\n",
       "      <td>0.000000</td>\n",
       "      <td>30.000000</td>\n",
       "      <td>40200.000000</td>\n",
       "      <td>1.000000</td>\n",
       "      <td>0.000000</td>\n",
       "    </tr>\n",
       "    <tr>\n",
       "      <th>75%</th>\n",
       "      <td>1.000000</td>\n",
       "      <td>37.000000</td>\n",
       "      <td>46600.000000</td>\n",
       "      <td>2.000000</td>\n",
       "      <td>0.000000</td>\n",
       "    </tr>\n",
       "    <tr>\n",
       "      <th>max</th>\n",
       "      <td>1.000000</td>\n",
       "      <td>65.000000</td>\n",
       "      <td>79000.000000</td>\n",
       "      <td>6.000000</td>\n",
       "      <td>5.000000</td>\n",
       "    </tr>\n",
       "  </tbody>\n",
       "</table>\n",
       "</div>"
      ],
      "text/plain": [
       "               Пол      Возраст      Зарплата  Члены семьи  Страховые выплаты\n",
       "count  5000.000000  5000.000000   5000.000000  5000.000000        5000.000000\n",
       "mean      0.499000    30.952800  39916.360000     1.194200           0.148000\n",
       "std       0.500049     8.440807   9900.083569     1.091387           0.463183\n",
       "min       0.000000    18.000000   5300.000000     0.000000           0.000000\n",
       "25%       0.000000    24.000000  33300.000000     0.000000           0.000000\n",
       "50%       0.000000    30.000000  40200.000000     1.000000           0.000000\n",
       "75%       1.000000    37.000000  46600.000000     2.000000           0.000000\n",
       "max       1.000000    65.000000  79000.000000     6.000000           5.000000"
      ]
     },
     "metadata": {},
     "output_type": "display_data"
    },
    {
     "name": "stdout",
     "output_type": "stream",
     "text": [
      "Количество явных дубликатов в датафрейме 153\n"
     ]
    }
   ],
   "source": [
    "all_info(data)"
   ]
  },
  {
   "cell_type": "code",
   "execution_count": 10,
   "metadata": {
    "scrolled": false
   },
   "outputs": [
    {
     "data": {
      "image/png": "[encoded data removed]",
      "text/plain": [
       "<Figure size 1440x1152 with 6 Axes>"
      ]
     },
     "metadata": {},
     "output_type": "display_data"
    }
   ],
   "source": [
    "# визуализируем распределение данных во всех столбцах датафрейма\n",
    "data.hist();"
   ]
  },
  {
   "cell_type": "code",
   "execution_count": 11,
   "metadata": {},
   "outputs": [
    {
     "data": {
      "text/plain": [
       "0    4436\n",
       "1     423\n",
       "2     115\n",
       "3      18\n",
       "4       7\n",
       "5       1\n",
       "Name: Страховые выплаты, dtype: int64"
      ]
     },
     "execution_count": 11,
     "metadata": {},
     "output_type": "execute_result"
    }
   ],
   "source": [
    "# более точно посмотрим на распределение значений в столбце с целевым признаком \n",
    "data['Страховые выплаты'].value_counts()"
   ]
  },
  {
   "cell_type": "markdown",
   "metadata": {},
   "source": [
    "Проверим корреляцию наших признаков между собой и с таргетом."
   ]
  },
  {
   "cell_type": "code",
   "execution_count": 12,
   "metadata": {},
   "outputs": [
    {
     "data": {
      "text/html": [
       "<div>\n",
       "<style scoped>\n",
       "    .dataframe tbody tr th:only-of-type {\n",
       "        vertical-align: middle;\n",
       "    }\n",
       "\n",
       "    .dataframe tbody tr th {\n",
       "        vertical-align: top;\n",
       "    }\n",
       "\n",
       "    .dataframe thead th {\n",
       "        text-align: right;\n",
       "    }\n",
       "</style>\n",
       "<table border=\"1\" class=\"dataframe\">\n",
       "  <thead>\n",
       "    <tr style=\"text-align: right;\">\n",
       "      <th></th>\n",
       "      <th>Пол</th>\n",
       "      <th>Возраст</th>\n",
       "      <th>Зарплата</th>\n",
       "      <th>Члены семьи</th>\n",
       "      <th>Страховые выплаты</th>\n",
       "    </tr>\n",
       "  </thead>\n",
       "  <tbody>\n",
       "    <tr>\n",
       "      <th>Пол</th>\n",
       "      <td>1.000000</td>\n",
       "      <td>0.002074</td>\n",
       "      <td>0.014910</td>\n",
       "      <td>-0.008991</td>\n",
       "      <td>0.010140</td>\n",
       "    </tr>\n",
       "    <tr>\n",
       "      <th>Возраст</th>\n",
       "      <td>0.002074</td>\n",
       "      <td>1.000000</td>\n",
       "      <td>-0.019093</td>\n",
       "      <td>-0.006692</td>\n",
       "      <td>0.651030</td>\n",
       "    </tr>\n",
       "    <tr>\n",
       "      <th>Зарплата</th>\n",
       "      <td>0.014910</td>\n",
       "      <td>-0.019093</td>\n",
       "      <td>1.000000</td>\n",
       "      <td>-0.030296</td>\n",
       "      <td>-0.014963</td>\n",
       "    </tr>\n",
       "    <tr>\n",
       "      <th>Члены семьи</th>\n",
       "      <td>-0.008991</td>\n",
       "      <td>-0.006692</td>\n",
       "      <td>-0.030296</td>\n",
       "      <td>1.000000</td>\n",
       "      <td>-0.036290</td>\n",
       "    </tr>\n",
       "    <tr>\n",
       "      <th>Страховые выплаты</th>\n",
       "      <td>0.010140</td>\n",
       "      <td>0.651030</td>\n",
       "      <td>-0.014963</td>\n",
       "      <td>-0.036290</td>\n",
       "      <td>1.000000</td>\n",
       "    </tr>\n",
       "  </tbody>\n",
       "</table>\n",
       "</div>"
      ],
      "text/plain": [
       "                        Пол   Возраст  Зарплата  Члены семьи  \\\n",
       "Пол                1.000000  0.002074  0.014910    -0.008991   \n",
       "Возраст            0.002074  1.000000 -0.019093    -0.006692   \n",
       "Зарплата           0.014910 -0.019093  1.000000    -0.030296   \n",
       "Члены семьи       -0.008991 -0.006692 -0.030296     1.000000   \n",
       "Страховые выплаты  0.010140  0.651030 -0.014963    -0.036290   \n",
       "\n",
       "                   Страховые выплаты  \n",
       "Пол                         0.010140  \n",
       "Возраст                     0.651030  \n",
       "Зарплата                   -0.014963  \n",
       "Члены семьи                -0.036290  \n",
       "Страховые выплаты           1.000000  "
      ]
     },
     "execution_count": 12,
     "metadata": {},
     "output_type": "execute_result"
    }
   ],
   "source": [
    "data.corr()"
   ]
  },
  {
   "cell_type": "markdown",
   "metadata": {},
   "source": [
    "Сильной корреляции между признаками не обнаружено (что хорошо, так как для обычной линейной регрессии это было бы критично). Имееется достаточно высокая корреляция 0.65 между таргетом `Страховые выплаты` и  признаком `Возраст` клиента - тут наоборот, чем выше корреляция, тем лучше."
   ]
  },
  {
   "cell_type": "markdown",
   "metadata": {},
   "source": [
    "**Выводы**\n",
    "\n",
    "Таким образом, наш датасет содержит 5 колонок и 5000 строк: каждая строка содержит полную доступную нам информацию по некоторому клиенту страховой компании «Хоть потоп», а столбцы определяют \"признаки\" (или \"фичи\") данного клиента:\n",
    "\n",
    "- пол, \n",
    "- возраст,\n",
    "- зарплата застрахованного, \n",
    "- количество членов его семьи.\n",
    "\n",
    "Столбец `Страховые выплаты` заключает в себе целевой признак - количество страховых выплат клиенту за последние 5 лет.\n",
    "\n",
    "Пропусков в датасете не обнаружено, однако, есть 153 явных дубликата. Столбцы с указанием возраста и зарплаты можно перевести в целочисленный тип int, так как все значение в них целые. \n",
    "\n",
    "\n",
    "Распределение клиентов по полу равномерное, по зарплате нормальное (гауссовское), а вот распределение по возрасту смещено к возрастному периоду 20-40 лет с медианой в 30. Преобладающее количество членов семьи у клиентов 0 или 1 (одинокие или с партнером без детей). Целевой признак также дисбалансно распределен: несмотря на то, что у нас есть клиенты с максимальным размером выплат 5, более 75% всех клиентов не получали страховые выплаты в течение 5 лет. \n",
    "\n",
    "Сильной корреляции между признаками не обнаружено."
   ]
  },
  {
   "cell_type": "markdown",
   "metadata": {},
   "source": [
    "## Умножение матриц"
   ]
  },
  {
   "cell_type": "markdown",
   "metadata": {},
   "source": [
    "В этом задании вы можете записывать формулы в *Jupyter Notebook.*\n",
    "\n",
    "Чтобы записать формулу внутри текста, окружите её символами доллара \\\\$; если снаружи —  двойными символами \\\\$\\\\$. Эти формулы записываются на языке вёрстки *LaTeX.* \n",
    "\n",
    "Для примера мы записали формулы линейной регрессии. Можете их скопировать и отредактировать, чтобы решить задачу.\n",
    "\n",
    "Работать в *LaTeX* необязательно."
   ]
  },
  {
   "cell_type": "markdown",
   "metadata": {},
   "source": [
    "Обозначения:\n",
    "\n",
    "- $X$ — матрица признаков (нулевой столбец состоит из единиц)\n",
    "\n",
    "- $y$ — вектор целевого признака\n",
    "\n",
    "- $P$ — матрица, на которую умножаются признаки\n",
    "\n",
    "- $w$ — вектор весов линейной регрессии (нулевой элемент равен сдвигу)"
   ]
  },
  {
   "cell_type": "markdown",
   "metadata": {},
   "source": [
    "Предсказания:\n",
    "\n",
    "$$\n",
    "a = Xw\n",
    "$$\n",
    "\n",
    "Задача обучения:\n",
    "\n",
    "$$\n",
    "w = \\arg\\min_w MSE(Xw, y)\n",
    "$$\n",
    "\n",
    "Формула обучения:\n",
    "\n",
    "$$\n",
    "w = (X^T X)^{-1} X^T y\n",
    "$$"
   ]
  },
  {
   "cell_type": "markdown",
   "metadata": {},
   "source": [
    "**Вопрос:**\n",
    "\n",
    "Признаки умножают на обратимую матрицу. Изменится ли качество линейной регрессии?"
   ]
  },
  {
   "cell_type": "markdown",
   "metadata": {},
   "source": [
    "**Обоснование:**"
   ]
  },
  {
   "cell_type": "markdown",
   "metadata": {},
   "source": [
    "По правилам умножения матриц имеем\n",
    "\n",
    "1. $ АЕ = ЕА = А $\n",
    "2. $ (AB)^{T} = B^{T}A^{T} $\n",
    "3. $ AA^{-1} = E $\n",
    "4. $ (AB)^{-1} = B^{-1}A^{-1} $\n",
    "\n",
    "Следовательно, для ответа на этот вопрос, нужно:\n",
    "\n",
    "- матрицу признаков $X$ умножить на некую обратимую матрицу $P$ (матрица преобразования), \n",
    "- подставить в формулу для вектора весов линейной регрессии $w$, \n",
    "- полученные выражения $XP$ и $w'$ подставить в формулу для предсказаний $a = Xw$, \n",
    "- а затем проверить, изменятся ли от этого предказания модели линейной регрессии и, соответственно, качество модели."
   ]
  },
  {
   "cell_type": "markdown",
   "metadata": {},
   "source": [
    "Возьмем исходное уравнение весов:\n",
    "$$\n",
    "w = (X^{T}X)^{-1}X^{T}y\n",
    "$$\n",
    "\n",
    "Подставляем в него вместо $Х$ произведение $XP$:\n",
    "\n",
    "$$ w' = ((XP)^{T}(XP))^{-1}(XP)^{T}y $$\n",
    "\n",
    "Раскрываем скобки, исходя из правил 2 и 4 (см.выше):\n",
    "\n",
    "$$ w' = (P^{T}X^{T}XP)^{-1}P^{T}X^{T}y = P^{-1}(X^{T}X)^{-1}P^{T^{-1}}P^{T}X^{T}y$$\n",
    "\n",
    "Исходя из правила 3\n",
    "\n",
    "$$P^{T^{-1}}P^{T} = E$$\n",
    "\n",
    "и учитывая, что по правилу 1 \n",
    "\n",
    "$$EX^{T} = X^{T}$$\n",
    "\n",
    "в итоге имеем новый вектор весов в виде\n",
    "\n",
    "$$w'=P^{-1}*[(X^{T}X)^{-1}X^{T}y]=P^{-1}w$$ \n",
    "\n",
    "Теперь подставляем это выражение в формулу предсказаний $a = Xw$ и получаем: \n",
    "\n",
    "$$a' = XP*w' = XPP^{-1}w = XEw = Xw = a$$\n",
    "\n",
    "Таким образом, мы доказали, что преобразование подобного типа не повлияет на предсказания модели, а следовательно, и на ее качество. Однако, изменится сам вектор весов модели."
   ]
  },
  {
   "cell_type": "markdown",
   "metadata": {},
   "source": [
    "**Ответ:** \n",
    "\n",
    "Нет, качество предсказаний модели от такого преобразования НЕ изменится."
   ]
  },
  {
   "cell_type": "markdown",
   "metadata": {},
   "source": [
    "## Алгоритм преобразования"
   ]
  },
  {
   "cell_type": "markdown",
   "metadata": {},
   "source": [
    "**Алгоритм**\n",
    "\n",
    "В основе шифрования данных клиентов будет лежать преобразование вектора признаков $X$ путем умножения его на обратную матрицу $P$, такое, что\n",
    "\n",
    "$$X'=XP$$\n",
    "\n",
    "Таким образом, мы сможем и защитить данные пользователей, и не потерять в качестве нашей модели машинного обучения.\n",
    "\n",
    "Изначальная матрица признаков имеет размерность {5000, 4}, на выходе размерность данных должна остаться неизменной - \n",
    "следовательно, для шифрования нам нужно домножить матрицу признаков $X$ на квадратную обратимую матрицу размерности {4, 4}, значения в которой будут сгенерированы случайным образом с помощью генератора случайных чисел."
   ]
  },
  {
   "cell_type": "markdown",
   "metadata": {},
   "source": [
    "**Обоснование**\n",
    "\n",
    "Сначала опишем процесс шифрования данных математически.\n",
    "\n",
    "В общем виде решение задачи линейной регрессии по нахождению матрицы оптимальных коэффициентов (весов для модели подчиняется \n",
    "\n",
    "$$w=(X^TX)^{-1}X^Ty$$, где $X$ — матрица признаков, $y$ — вектор целевого признака.\n",
    "\n",
    "При этом предсказания модель реализует через формулу $$a=Xw$$, то есть при шифровании матрицы признаков, мы получаем выражение\n",
    "\n",
    "$$a'=X'w'$$, где $X'$ — матрица признаков после шифрования, $w'$ - веса модели, обученной на зашифрованных признаках, $a'$ — предсказания такой модели.\n",
    "\n",
    "Так как $X'=XP$ и $w'=P^{-1}w$ (к этому выводу мы пришли выше), то\n",
    "\n",
    "$$a' = XP(P^{-1}w) = XP*P^{-1}*[(X^{T}X)^{-1}X^{T}y] = XEw = Xw = a$$"
   ]
  },
  {
   "cell_type": "markdown",
   "metadata": {},
   "source": [
    "## Проверка алгоритма"
   ]
  },
  {
   "cell_type": "markdown",
   "metadata": {},
   "source": [
    "Процесс проверки алгоритма будет состоять из следующих этапов:\n",
    "  \n",
    "- выделение матрицы признаков и целевого признака из наших данных,\n",
    "- создание случайной квадратной матрицы, по размерности совпадающей с количеством столбцов матрицы признаков наших данных, \n",
    "- проверка полученной матрицы на обратимость,\n",
    "- шифрование с помощью вспомогательной матрицы изначальной матрицы признаков,\n",
    "- проверка модели линейной регрессии и сравнение полученных значений метрик MSE и R2 на изначальных и зашифрованных данных."
   ]
  },
  {
   "cell_type": "code",
   "execution_count": 13,
   "metadata": {},
   "outputs": [],
   "source": [
    "# небольшая предпобработка, избавимся от дубликатов и изменим тип колонок\n",
    "\n",
    "data['Возраст'] = data['Возраст'].astype(int)\n",
    "data['Зарплата'] = data['Зарплата'].astype(int)\n",
    "#data.drop_duplicates(inplace=True)"
   ]
  },
  {
   "cell_type": "code",
   "execution_count": 16,
   "metadata": {},
   "outputs": [],
   "source": [
    "# выделим в наших данных матрицу признаков и целевой признак\n",
    "features = data.drop('Страховые выплаты', axis=1)\n",
    "target = data['Страховые выплаты']"
   ]
  },
  {
   "cell_type": "code",
   "execution_count": 17,
   "metadata": {},
   "outputs": [
    {
     "data": {
      "text/plain": [
       "array([[7, 4, 8, 7],\n",
       "       [8, 9, 1, 4],\n",
       "       [5, 2, 3, 5],\n",
       "       [3, 4, 5, 4]])"
      ]
     },
     "execution_count": 17,
     "metadata": {},
     "output_type": "execute_result"
    }
   ],
   "source": [
    "# создаем случайную матрицу размерности {4, 4}\n",
    "encryption_matrix = np.random.randint(10, size = (features.shape[1], features.shape[1]))\n",
    "encryption_matrix"
   ]
  },
  {
   "cell_type": "code",
   "execution_count": 18,
   "metadata": {},
   "outputs": [
    {
     "data": {
      "text/plain": [
       "array([[ 0.42007435,  0.11152416, -0.23420074, -0.55390335],\n",
       "       [-0.16728625,  0.07063197, -0.04832714,  0.28252788],\n",
       "       [ 0.31598513, -0.02230483, -0.35315985, -0.08921933],\n",
       "       [-0.54275093, -0.12639405,  0.66542751,  0.49442379]])"
      ]
     },
     "execution_count": 18,
     "metadata": {},
     "output_type": "execute_result"
    }
   ],
   "source": [
    "# проверяем ее на обратимость, чтобы все остальные преобразования имели смысл\n",
    "encryption_matrix_inversed = np.linalg.inv(encryption_matrix)\n",
    "encryption_matrix_inversed"
   ]
  },
  {
   "cell_type": "code",
   "execution_count": 19,
   "metadata": {
    "scrolled": false
   },
   "outputs": [
    {
     "data": {
      "text/html": [
       "<div>\n",
       "<style scoped>\n",
       "    .dataframe tbody tr th:only-of-type {\n",
       "        vertical-align: middle;\n",
       "    }\n",
       "\n",
       "    .dataframe tbody tr th {\n",
       "        vertical-align: top;\n",
       "    }\n",
       "\n",
       "    .dataframe thead th {\n",
       "        text-align: right;\n",
       "    }\n",
       "</style>\n",
       "<table border=\"1\" class=\"dataframe\">\n",
       "  <thead>\n",
       "    <tr style=\"text-align: right;\">\n",
       "      <th></th>\n",
       "      <th>0</th>\n",
       "      <th>1</th>\n",
       "      <th>2</th>\n",
       "      <th>3</th>\n",
       "    </tr>\n",
       "  </thead>\n",
       "  <tbody>\n",
       "    <tr>\n",
       "      <th>0</th>\n",
       "      <td>248338</td>\n",
       "      <td>99577</td>\n",
       "      <td>148854</td>\n",
       "      <td>248175</td>\n",
       "    </tr>\n",
       "    <tr>\n",
       "      <th>1</th>\n",
       "      <td>190371</td>\n",
       "      <td>76418</td>\n",
       "      <td>114051</td>\n",
       "      <td>190188</td>\n",
       "    </tr>\n",
       "    <tr>\n",
       "      <th>2</th>\n",
       "      <td>105232</td>\n",
       "      <td>42261</td>\n",
       "      <td>63029</td>\n",
       "      <td>105116</td>\n",
       "    </tr>\n",
       "    <tr>\n",
       "      <th>3</th>\n",
       "      <td>208674</td>\n",
       "      <td>83597</td>\n",
       "      <td>125131</td>\n",
       "      <td>208592</td>\n",
       "    </tr>\n",
       "    <tr>\n",
       "      <th>4</th>\n",
       "      <td>130731</td>\n",
       "      <td>52456</td>\n",
       "      <td>78336</td>\n",
       "      <td>130619</td>\n",
       "    </tr>\n",
       "    <tr>\n",
       "      <th>...</th>\n",
       "      <td>...</td>\n",
       "      <td>...</td>\n",
       "      <td>...</td>\n",
       "      <td>...</td>\n",
       "    </tr>\n",
       "    <tr>\n",
       "      <th>4995</th>\n",
       "      <td>178730</td>\n",
       "      <td>71660</td>\n",
       "      <td>107138</td>\n",
       "      <td>178620</td>\n",
       "    </tr>\n",
       "    <tr>\n",
       "      <th>4996</th>\n",
       "      <td>262275</td>\n",
       "      <td>105110</td>\n",
       "      <td>157239</td>\n",
       "      <td>262140</td>\n",
       "    </tr>\n",
       "    <tr>\n",
       "      <th>4997</th>\n",
       "      <td>169666</td>\n",
       "      <td>67988</td>\n",
       "      <td>101730</td>\n",
       "      <td>169588</td>\n",
       "    </tr>\n",
       "    <tr>\n",
       "      <th>4998</th>\n",
       "      <td>163692</td>\n",
       "      <td>65614</td>\n",
       "      <td>98145</td>\n",
       "      <td>163607</td>\n",
       "    </tr>\n",
       "    <tr>\n",
       "      <th>4999</th>\n",
       "      <td>203234</td>\n",
       "      <td>81460</td>\n",
       "      <td>121841</td>\n",
       "      <td>203123</td>\n",
       "    </tr>\n",
       "  </tbody>\n",
       "</table>\n",
       "<p>5000 rows × 4 columns</p>\n",
       "</div>"
      ],
      "text/plain": [
       "           0       1       2       3\n",
       "0     248338   99577  148854  248175\n",
       "1     190371   76418  114051  190188\n",
       "2     105232   42261   63029  105116\n",
       "3     208674   83597  125131  208592\n",
       "4     130731   52456   78336  130619\n",
       "...      ...     ...     ...     ...\n",
       "4995  178730   71660  107138  178620\n",
       "4996  262275  105110  157239  262140\n",
       "4997  169666   67988  101730  169588\n",
       "4998  163692   65614   98145  163607\n",
       "4999  203234   81460  121841  203123\n",
       "\n",
       "[5000 rows x 4 columns]"
      ]
     },
     "execution_count": 19,
     "metadata": {},
     "output_type": "execute_result"
    }
   ],
   "source": [
    "# зашифруем данные путем перемножения изнаальной матрицы признаков и нашей слуайной матрицы\n",
    "features_new = features @ encryption_matrix\n",
    "features_new"
   ]
  },
  {
   "cell_type": "markdown",
   "metadata": {},
   "source": [
    "Напишем класс линейной регрессии, который будет реализовывать нужное нам поведение и преобразования."
   ]
  },
  {
   "cell_type": "code",
   "execution_count": 20,
   "metadata": {},
   "outputs": [],
   "source": [
    "class LinearRegression:\n",
    "    \n",
    "    def fit(self, features, target):\n",
    "        \n",
    "        # задаем матрицу признаков\n",
    "        X = np.concatenate((np.ones((features.shape[0], 1)), features), axis=1)\n",
    "        y = target\n",
    "        \n",
    "        # задаем как рассчитывается вектор весов\n",
    "        w =  np.linalg.inv(X.T.dot(X)).dot(X.T).dot(y)\n",
    "        \n",
    "        # задаем веса\n",
    "        self.w = w[1:]\n",
    "        self.w0 = w[0]\n",
    "        \n",
    "    def predict(self, features):\n",
    "        return features.dot(self.w) + self.w0"
   ]
  },
  {
   "cell_type": "code",
   "execution_count": 21,
   "metadata": {},
   "outputs": [],
   "source": [
    "# создаем модель как объект нашего класса, обучаем ее и делаем предсказания\n",
    "model = LinearRegression()\n",
    "model.fit(features, target)\n",
    "predictions = model.predict(features)"
   ]
  },
  {
   "cell_type": "code",
   "execution_count": 22,
   "metadata": {},
   "outputs": [
    {
     "name": "stdout",
     "output_type": "stream",
     "text": [
      "MSE модели: 0.12334688937098945\n",
      "R2 до преобразования признаков: 0.42494550308169177\n"
     ]
    }
   ],
   "source": [
    "# считаем качество с помощью метрик MSE и R2\n",
    "mse = mean_squared_error(target, predictions)\n",
    "r2 = r2_score(target, predictions)\n",
    "print('MSE модели:', mse)\n",
    "print('R2 до преобразования признаков:', r2)"
   ]
  },
  {
   "cell_type": "code",
   "execution_count": 23,
   "metadata": {},
   "outputs": [
    {
     "name": "stdout",
     "output_type": "stream",
     "text": [
      "MSE новой модели: 0.12334688937141655\n",
      "R2 после преобразованных признаков: 0.4249455030797006\n"
     ]
    }
   ],
   "source": [
    "# проведем то же самое, но с зашифрованными признаками\n",
    "\n",
    "model = LinearRegression()\n",
    "model.fit(features_new, target)\n",
    "predictions = model.predict(features_new)\n",
    "\n",
    "mse = mean_squared_error(target, predictions)\n",
    "r2 = r2_score(target, predictions)\n",
    "\n",
    "print('MSE новой модели:', mse)\n",
    "print('R2 после преобразованных признаков:', r2)"
   ]
  },
  {
   "cell_type": "markdown",
   "metadata": {},
   "source": [
    "Таким образом, как мы видим, домножение матрицы признаков на произвольную обратимую квадратную матрицу помогло нам зашифровать данные пользователей, но при этом, не повлияло на точность предсказаний модели линейной регрессии, а, как следствие, и на ее качество."
   ]
  },
  {
   "cell_type": "markdown",
   "metadata": {},
   "source": [
    "## Выводы по работе"
   ]
  },
  {
   "cell_type": "markdown",
   "metadata": {},
   "source": [
    "Перед нами стояла цель, разработать такой алгоритм шифрования данных, который помог бы нам защитить персональную иинформацию клиентов страховой компании «Хоть потоп».\n",
    "\n",
    "В ходе исследования:\n",
    "    \n",
    "- были загружены и изучены даннные,\n",
    "- приведены математические выкладки процесса умножения матриц, в ходе которых было показано, что умножение матрицы признаков на обратимую матрицу не меняет качество линейной регрессии,\n",
    "- на основании этих предпосылок был предложен и обоснован алгоритм шифрования исходных данных с помощью умножения матрицы признаков клиентов, полученной из исходного датасета, на сгенерированную случайным образом обратимую квадратную матрицу, по размерности совпадающую с количеством столбцов матрицы признаков наших данных, \n",
    "- эта стратегия была проверена с помощью самописного класса линейной регрессии и были получены такие метрики как MSE и R2 (коэффициент детерминации между реальными таргетными значениями и предсказываемыми),\n",
    "- сравнение обоих коэффициентов, полученных на исходных фичах и фичах после шифрования, показало, что они практически не отличаются, а следовательно, наш механизм шифрования помогает защитить данные пользователя, но не влияет на качество модели линейной регрессии, с помощью которой мы получаем прогноз страховых выплат."
   ]
  }
 ],
 "metadata": {
  "ExecuteTimeLog": [
   {
    "duration": 1191,
    "start_time": "2023-02-14T10:04:40.528Z"
   },
   {
    "duration": 90,
    "start_time": "2023-02-14T10:28:35.474Z"
   },
   {
    "duration": 22,
    "start_time": "2023-02-14T10:28:45.313Z"
   },
   {
    "duration": 5,
    "start_time": "2023-02-14T10:35:28.411Z"
   },
   {
    "duration": 5,
    "start_time": "2023-02-14T10:35:38.497Z"
   },
   {
    "duration": 4,
    "start_time": "2023-02-14T10:35:47.775Z"
   },
   {
    "duration": 51,
    "start_time": "2023-02-14T10:36:03.030Z"
   },
   {
    "duration": 955,
    "start_time": "2023-02-14T10:51:35.998Z"
   },
   {
    "duration": 523,
    "start_time": "2023-02-14T10:51:40.715Z"
   },
   {
    "duration": 84,
    "start_time": "2023-02-14T10:52:47.416Z"
   },
   {
    "duration": 812,
    "start_time": "2023-02-14T10:52:51.637Z"
   },
   {
    "duration": 8,
    "start_time": "2023-02-14T10:53:30.335Z"
   },
   {
    "duration": 1469,
    "start_time": "2023-02-16T03:25:09.149Z"
   },
   {
    "duration": 30,
    "start_time": "2023-02-16T03:25:10.620Z"
   },
   {
    "duration": 14,
    "start_time": "2023-02-16T03:25:10.652Z"
   },
   {
    "duration": 5,
    "start_time": "2023-02-16T03:25:10.668Z"
   },
   {
    "duration": 6,
    "start_time": "2023-02-16T03:25:10.675Z"
   },
   {
    "duration": 6,
    "start_time": "2023-02-16T03:25:10.682Z"
   },
   {
    "duration": 44,
    "start_time": "2023-02-16T03:25:10.690Z"
   },
   {
    "duration": 700,
    "start_time": "2023-02-16T03:25:10.736Z"
   },
   {
    "duration": 5,
    "start_time": "2023-02-16T03:25:11.437Z"
   },
   {
    "duration": 12,
    "start_time": "2023-02-16T03:25:11.444Z"
   },
   {
    "duration": 7,
    "start_time": "2023-02-16T03:25:11.458Z"
   },
   {
    "duration": 4,
    "start_time": "2023-02-16T03:25:11.466Z"
   },
   {
    "duration": 14,
    "start_time": "2023-02-16T03:25:11.472Z"
   },
   {
    "duration": 7,
    "start_time": "2023-02-16T03:25:11.489Z"
   },
   {
    "duration": 76,
    "start_time": "2023-02-16T03:25:11.497Z"
   },
   {
    "duration": 7,
    "start_time": "2023-02-16T03:25:11.575Z"
   },
   {
    "duration": 93,
    "start_time": "2023-02-16T03:25:11.584Z"
   },
   {
    "duration": 200,
    "start_time": "2023-02-16T03:25:11.679Z"
   },
   {
    "duration": 13,
    "start_time": "2023-02-16T03:25:11.881Z"
   },
   {
    "duration": 53,
    "start_time": "2023-02-16T07:03:19.690Z"
   },
   {
    "duration": 1797,
    "start_time": "2023-02-16T07:03:21.991Z"
   },
   {
    "duration": 91,
    "start_time": "2023-02-16T07:03:24.979Z"
   },
   {
    "duration": 14,
    "start_time": "2023-02-16T07:03:50.330Z"
   },
   {
    "duration": 79,
    "start_time": "2023-02-16T07:04:22.822Z"
   },
   {
    "duration": 4,
    "start_time": "2023-02-16T07:04:30.361Z"
   },
   {
    "duration": 4,
    "start_time": "2023-02-16T07:04:30.851Z"
   },
   {
    "duration": 4,
    "start_time": "2023-02-16T07:04:31.672Z"
   },
   {
    "duration": 57,
    "start_time": "2023-02-16T07:04:33.604Z"
   },
   {
    "duration": 844,
    "start_time": "2023-02-16T07:04:36.020Z"
   },
   {
    "duration": 6,
    "start_time": "2023-02-16T07:04:38.351Z"
   },
   {
    "duration": 12,
    "start_time": "2023-02-16T07:04:39.237Z"
   },
   {
    "duration": 5,
    "start_time": "2023-02-16T07:04:59.656Z"
   },
   {
    "duration": 12,
    "start_time": "2023-02-16T07:05:06.501Z"
   },
   {
    "duration": 71,
    "start_time": "2023-02-16T07:05:43.817Z"
   },
   {
    "duration": 5,
    "start_time": "2023-02-16T07:05:53.162Z"
   },
   {
    "duration": 4,
    "start_time": "2023-02-16T07:05:53.555Z"
   },
   {
    "duration": 13,
    "start_time": "2023-02-16T07:05:54.257Z"
   },
   {
    "duration": 9,
    "start_time": "2023-02-16T07:05:55.904Z"
   },
   {
    "duration": 5,
    "start_time": "2023-02-16T07:05:57.748Z"
   },
   {
    "duration": 5,
    "start_time": "2023-02-16T07:05:58.986Z"
   },
   {
    "duration": 6,
    "start_time": "2023-02-16T07:05:59.314Z"
   },
   {
    "duration": 11,
    "start_time": "2023-02-16T07:06:01.546Z"
   },
   {
    "duration": 74,
    "start_time": "2023-02-16T07:10:11.616Z"
   }
  ],
  "kernelspec": {
   "display_name": "Python 3 (ipykernel)",
   "language": "python",
   "name": "python3"
  },
  "language_info": {
   "codemirror_mode": {
    "name": "ipython",
    "version": 3
   },
   "file_extension": ".py",
   "mimetype": "text/x-python",
   "name": "python",
   "nbconvert_exporter": "python",
   "pygments_lexer": "ipython3",
   "version": "3.10.10"
  },
  "toc": {
   "base_numbering": 1,
   "nav_menu": {},
   "number_sections": true,
   "sideBar": true,
   "skip_h1_title": true,
   "title_cell": "Содержание",
   "title_sidebar": "Contents",
   "toc_cell": true,
   "toc_position": {},
   "toc_section_display": true,
   "toc_window_display": true
  }
 },
 "nbformat": 4,
 "nbformat_minor": 2
}
