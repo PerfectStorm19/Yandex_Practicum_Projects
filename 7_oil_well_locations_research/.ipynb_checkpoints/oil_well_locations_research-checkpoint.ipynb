{
 "cells": [
  {
   "cell_type": "markdown",
   "metadata": {},
   "source": [
    "# Выбор локации для скважины"
   ]
  },
  {
   "cell_type": "markdown",
   "metadata": {},
   "source": [
    "Допустим, вы работаете в добывающей компании «ГлавРосГосНефть». Нужно решить, где бурить новую скважину.\n",
    "\n",
    "Вам предоставлены пробы нефти в трёх регионах: в каждом 10 000 месторождений, где измерили качество нефти и объём её запасов. Постройте модель машинного обучения, которая поможет определить регион, где добыча принесёт наибольшую прибыль. Проанализируйте возможную прибыль и риски техникой *Bootstrap.*\n",
    "\n",
    "Шаги для выбора локации:\n",
    "\n",
    "- В избранном регионе ищут месторождения, для каждого определяют значения признаков;\n",
    "- Строят модель и оценивают объём запасов;\n",
    "- Выбирают месторождения с самым высокими оценками значений. Количество месторождений зависит от бюджета компании и стоимости разработки одной скважины;\n",
    "- Прибыль равна суммарной прибыли отобранных месторождений."
   ]
  },
  {
   "cell_type": "markdown",
   "metadata": {},
   "source": [
    "## Загрузка и подготовка данных"
   ]
  },
  {
   "cell_type": "code",
   "execution_count": 1,
   "metadata": {},
   "outputs": [],
   "source": [
    "import pandas as pd\n",
    "import numpy as np\n",
    "import matplotlib.pyplot as plt\n",
    "import seaborn as sns\n",
    "\n",
    "from sklearn.model_selection import train_test_split\n",
    "from sklearn.preprocessing import StandardScaler\n",
    "from sklearn.linear_model import LinearRegression\n",
    "from sklearn.metrics import mean_squared_error\n",
    "\n",
    "sns.set(font_scale=2,\n",
    "        style='whitegrid',\n",
    "        rc={'figure.figsize': (20, 16)})\n",
    "\n",
    "import warnings\n",
    "warnings.filterwarnings(\"ignore\")\n",
    "\n",
    "# тут задам глобальную переменную рандома, чтобы не прописывать ее вручную каждый раз\n",
    "\n",
    "RANDOM = 12345"
   ]
  },
  {
   "cell_type": "markdown",
   "metadata": {},
   "source": [
    "Прочитаем наши данные и выведем по ним полную информацию (включая процент пропусков по колонкам и дубликаты) с помощью вспомогательных функций."
   ]
  },
  {
   "cell_type": "code",
   "execution_count": 2,
   "metadata": {},
   "outputs": [],
   "source": [
    "try:\n",
    "    data_0 = pd.read_csv('/datasets/geo_data_0.csv')\n",
    "    data_1 = pd.read_csv('/datasets/geo_data_1.csv')\n",
    "    data_2 = pd.read_csv('/datasets/geo_data_2.csv')\n",
    "    \n",
    "except:\n",
    "    data_0 = pd.read_csv('geo_data_0.csv')\n",
    "    data_1 = pd.read_csv('geo_data_1.csv')\n",
    "    data_2 = pd.read_csv('geo_data_2.csv')"
   ]
  },
  {
   "cell_type": "code",
   "execution_count": 3,
   "metadata": {},
   "outputs": [],
   "source": [
    "# выведем количество пропусков в каждом столбце и их долю от общего количества данных в столбце\n",
    "\n",
    "def nans(df):\n",
    "    \n",
    "    count_missing = df.isna().sum()\n",
    "    percent_missing = round(df.isna().sum() * 100 / len(df), 2)\n",
    "    \n",
    "    missing_value_df = pd.DataFrame({'num_missing': count_missing,\n",
    "                                     'percent_missing': percent_missing})\n",
    "    \n",
    "    return missing_value_df"
   ]
  },
  {
   "cell_type": "code",
   "execution_count": 4,
   "metadata": {},
   "outputs": [],
   "source": [
    "# выведем первые 5 строк, информацию по датасету, статистики в удобной форме, информацию по пропускам и дубликатам\n",
    "\n",
    "def all_statistics(df):\n",
    "    \n",
    "    display(df.head())\n",
    "    print(df.info())\n",
    "    display(df.describe(include='all').T)\n",
    "    display(nans(df))\n",
    "    print('количество явных дубликатов', df.duplicated().sum())"
   ]
  },
  {
   "cell_type": "markdown",
   "metadata": {},
   "source": [
    "**Регион 0**"
   ]
  },
  {
   "cell_type": "code",
   "execution_count": 5,
   "metadata": {},
   "outputs": [
    {
     "data": {
      "text/html": [
       "<div>\n",
       "<style scoped>\n",
       "    .dataframe tbody tr th:only-of-type {\n",
       "        vertical-align: middle;\n",
       "    }\n",
       "\n",
       "    .dataframe tbody tr th {\n",
       "        vertical-align: top;\n",
       "    }\n",
       "\n",
       "    .dataframe thead th {\n",
       "        text-align: right;\n",
       "    }\n",
       "</style>\n",
       "<table border=\"1\" class=\"dataframe\">\n",
       "  <thead>\n",
       "    <tr style=\"text-align: right;\">\n",
       "      <th></th>\n",
       "      <th>id</th>\n",
       "      <th>f0</th>\n",
       "      <th>f1</th>\n",
       "      <th>f2</th>\n",
       "      <th>product</th>\n",
       "    </tr>\n",
       "  </thead>\n",
       "  <tbody>\n",
       "    <tr>\n",
       "      <th>0</th>\n",
       "      <td>txEyH</td>\n",
       "      <td>0.705745</td>\n",
       "      <td>-0.497823</td>\n",
       "      <td>1.221170</td>\n",
       "      <td>105.280062</td>\n",
       "    </tr>\n",
       "    <tr>\n",
       "      <th>1</th>\n",
       "      <td>2acmU</td>\n",
       "      <td>1.334711</td>\n",
       "      <td>-0.340164</td>\n",
       "      <td>4.365080</td>\n",
       "      <td>73.037750</td>\n",
       "    </tr>\n",
       "    <tr>\n",
       "      <th>2</th>\n",
       "      <td>409Wp</td>\n",
       "      <td>1.022732</td>\n",
       "      <td>0.151990</td>\n",
       "      <td>1.419926</td>\n",
       "      <td>85.265647</td>\n",
       "    </tr>\n",
       "    <tr>\n",
       "      <th>3</th>\n",
       "      <td>iJLyR</td>\n",
       "      <td>-0.032172</td>\n",
       "      <td>0.139033</td>\n",
       "      <td>2.978566</td>\n",
       "      <td>168.620776</td>\n",
       "    </tr>\n",
       "    <tr>\n",
       "      <th>4</th>\n",
       "      <td>Xdl7t</td>\n",
       "      <td>1.988431</td>\n",
       "      <td>0.155413</td>\n",
       "      <td>4.751769</td>\n",
       "      <td>154.036647</td>\n",
       "    </tr>\n",
       "  </tbody>\n",
       "</table>\n",
       "</div>"
      ],
      "text/plain": [
       "      id        f0        f1        f2     product\n",
       "0  txEyH  0.705745 -0.497823  1.221170  105.280062\n",
       "1  2acmU  1.334711 -0.340164  4.365080   73.037750\n",
       "2  409Wp  1.022732  0.151990  1.419926   85.265647\n",
       "3  iJLyR -0.032172  0.139033  2.978566  168.620776\n",
       "4  Xdl7t  1.988431  0.155413  4.751769  154.036647"
      ]
     },
     "metadata": {},
     "output_type": "display_data"
    },
    {
     "name": "stdout",
     "output_type": "stream",
     "text": [
      "<class 'pandas.core.frame.DataFrame'>\n",
      "RangeIndex: 100000 entries, 0 to 99999\n",
      "Data columns (total 5 columns):\n",
      " #   Column   Non-Null Count   Dtype  \n",
      "---  ------   --------------   -----  \n",
      " 0   id       100000 non-null  object \n",
      " 1   f0       100000 non-null  float64\n",
      " 2   f1       100000 non-null  float64\n",
      " 3   f2       100000 non-null  float64\n",
      " 4   product  100000 non-null  float64\n",
      "dtypes: float64(4), object(1)\n",
      "memory usage: 3.8+ MB\n",
      "None\n"
     ]
    },
    {
     "data": {
      "text/html": [
       "<div>\n",
       "<style scoped>\n",
       "    .dataframe tbody tr th:only-of-type {\n",
       "        vertical-align: middle;\n",
       "    }\n",
       "\n",
       "    .dataframe tbody tr th {\n",
       "        vertical-align: top;\n",
       "    }\n",
       "\n",
       "    .dataframe thead th {\n",
       "        text-align: right;\n",
       "    }\n",
       "</style>\n",
       "<table border=\"1\" class=\"dataframe\">\n",
       "  <thead>\n",
       "    <tr style=\"text-align: right;\">\n",
       "      <th></th>\n",
       "      <th>count</th>\n",
       "      <th>unique</th>\n",
       "      <th>top</th>\n",
       "      <th>freq</th>\n",
       "      <th>mean</th>\n",
       "      <th>std</th>\n",
       "      <th>min</th>\n",
       "      <th>25%</th>\n",
       "      <th>50%</th>\n",
       "      <th>75%</th>\n",
       "      <th>max</th>\n",
       "    </tr>\n",
       "  </thead>\n",
       "  <tbody>\n",
       "    <tr>\n",
       "      <th>id</th>\n",
       "      <td>100000</td>\n",
       "      <td>99990</td>\n",
       "      <td>HZww2</td>\n",
       "      <td>2</td>\n",
       "      <td>NaN</td>\n",
       "      <td>NaN</td>\n",
       "      <td>NaN</td>\n",
       "      <td>NaN</td>\n",
       "      <td>NaN</td>\n",
       "      <td>NaN</td>\n",
       "      <td>NaN</td>\n",
       "    </tr>\n",
       "    <tr>\n",
       "      <th>f0</th>\n",
       "      <td>100000.0</td>\n",
       "      <td>NaN</td>\n",
       "      <td>NaN</td>\n",
       "      <td>NaN</td>\n",
       "      <td>0.500419</td>\n",
       "      <td>0.871832</td>\n",
       "      <td>-1.408605</td>\n",
       "      <td>-0.07258</td>\n",
       "      <td>0.50236</td>\n",
       "      <td>1.073581</td>\n",
       "      <td>2.362331</td>\n",
       "    </tr>\n",
       "    <tr>\n",
       "      <th>f1</th>\n",
       "      <td>100000.0</td>\n",
       "      <td>NaN</td>\n",
       "      <td>NaN</td>\n",
       "      <td>NaN</td>\n",
       "      <td>0.250143</td>\n",
       "      <td>0.504433</td>\n",
       "      <td>-0.848218</td>\n",
       "      <td>-0.200881</td>\n",
       "      <td>0.250252</td>\n",
       "      <td>0.700646</td>\n",
       "      <td>1.343769</td>\n",
       "    </tr>\n",
       "    <tr>\n",
       "      <th>f2</th>\n",
       "      <td>100000.0</td>\n",
       "      <td>NaN</td>\n",
       "      <td>NaN</td>\n",
       "      <td>NaN</td>\n",
       "      <td>2.502647</td>\n",
       "      <td>3.248248</td>\n",
       "      <td>-12.088328</td>\n",
       "      <td>0.287748</td>\n",
       "      <td>2.515969</td>\n",
       "      <td>4.715088</td>\n",
       "      <td>16.00379</td>\n",
       "    </tr>\n",
       "    <tr>\n",
       "      <th>product</th>\n",
       "      <td>100000.0</td>\n",
       "      <td>NaN</td>\n",
       "      <td>NaN</td>\n",
       "      <td>NaN</td>\n",
       "      <td>92.5</td>\n",
       "      <td>44.288691</td>\n",
       "      <td>0.0</td>\n",
       "      <td>56.497507</td>\n",
       "      <td>91.849972</td>\n",
       "      <td>128.564089</td>\n",
       "      <td>185.364347</td>\n",
       "    </tr>\n",
       "  </tbody>\n",
       "</table>\n",
       "</div>"
      ],
      "text/plain": [
       "            count unique    top freq      mean        std        min  \\\n",
       "id         100000  99990  HZww2    2       NaN        NaN        NaN   \n",
       "f0       100000.0    NaN    NaN  NaN  0.500419   0.871832  -1.408605   \n",
       "f1       100000.0    NaN    NaN  NaN  0.250143   0.504433  -0.848218   \n",
       "f2       100000.0    NaN    NaN  NaN  2.502647   3.248248 -12.088328   \n",
       "product  100000.0    NaN    NaN  NaN      92.5  44.288691        0.0   \n",
       "\n",
       "               25%        50%         75%         max  \n",
       "id             NaN        NaN         NaN         NaN  \n",
       "f0        -0.07258    0.50236    1.073581    2.362331  \n",
       "f1       -0.200881   0.250252    0.700646    1.343769  \n",
       "f2        0.287748   2.515969    4.715088    16.00379  \n",
       "product  56.497507  91.849972  128.564089  185.364347  "
      ]
     },
     "metadata": {},
     "output_type": "display_data"
    },
    {
     "data": {
      "text/html": [
       "<div>\n",
       "<style scoped>\n",
       "    .dataframe tbody tr th:only-of-type {\n",
       "        vertical-align: middle;\n",
       "    }\n",
       "\n",
       "    .dataframe tbody tr th {\n",
       "        vertical-align: top;\n",
       "    }\n",
       "\n",
       "    .dataframe thead th {\n",
       "        text-align: right;\n",
       "    }\n",
       "</style>\n",
       "<table border=\"1\" class=\"dataframe\">\n",
       "  <thead>\n",
       "    <tr style=\"text-align: right;\">\n",
       "      <th></th>\n",
       "      <th>num_missing</th>\n",
       "      <th>percent_missing</th>\n",
       "    </tr>\n",
       "  </thead>\n",
       "  <tbody>\n",
       "    <tr>\n",
       "      <th>id</th>\n",
       "      <td>0</td>\n",
       "      <td>0.0</td>\n",
       "    </tr>\n",
       "    <tr>\n",
       "      <th>f0</th>\n",
       "      <td>0</td>\n",
       "      <td>0.0</td>\n",
       "    </tr>\n",
       "    <tr>\n",
       "      <th>f1</th>\n",
       "      <td>0</td>\n",
       "      <td>0.0</td>\n",
       "    </tr>\n",
       "    <tr>\n",
       "      <th>f2</th>\n",
       "      <td>0</td>\n",
       "      <td>0.0</td>\n",
       "    </tr>\n",
       "    <tr>\n",
       "      <th>product</th>\n",
       "      <td>0</td>\n",
       "      <td>0.0</td>\n",
       "    </tr>\n",
       "  </tbody>\n",
       "</table>\n",
       "</div>"
      ],
      "text/plain": [
       "         num_missing  percent_missing\n",
       "id                 0              0.0\n",
       "f0                 0              0.0\n",
       "f1                 0              0.0\n",
       "f2                 0              0.0\n",
       "product            0              0.0"
      ]
     },
     "metadata": {},
     "output_type": "display_data"
    },
    {
     "name": "stdout",
     "output_type": "stream",
     "text": [
      "количество явных дубликатов 0\n"
     ]
    }
   ],
   "source": [
    "all_statistics(data_0)"
   ]
  },
  {
   "cell_type": "markdown",
   "metadata": {},
   "source": [
    "**Регион 1**"
   ]
  },
  {
   "cell_type": "code",
   "execution_count": 6,
   "metadata": {},
   "outputs": [
    {
     "data": {
      "text/html": [
       "<div>\n",
       "<style scoped>\n",
       "    .dataframe tbody tr th:only-of-type {\n",
       "        vertical-align: middle;\n",
       "    }\n",
       "\n",
       "    .dataframe tbody tr th {\n",
       "        vertical-align: top;\n",
       "    }\n",
       "\n",
       "    .dataframe thead th {\n",
       "        text-align: right;\n",
       "    }\n",
       "</style>\n",
       "<table border=\"1\" class=\"dataframe\">\n",
       "  <thead>\n",
       "    <tr style=\"text-align: right;\">\n",
       "      <th></th>\n",
       "      <th>id</th>\n",
       "      <th>f0</th>\n",
       "      <th>f1</th>\n",
       "      <th>f2</th>\n",
       "      <th>product</th>\n",
       "    </tr>\n",
       "  </thead>\n",
       "  <tbody>\n",
       "    <tr>\n",
       "      <th>0</th>\n",
       "      <td>kBEdx</td>\n",
       "      <td>-15.001348</td>\n",
       "      <td>-8.276000</td>\n",
       "      <td>-0.005876</td>\n",
       "      <td>3.179103</td>\n",
       "    </tr>\n",
       "    <tr>\n",
       "      <th>1</th>\n",
       "      <td>62mP7</td>\n",
       "      <td>14.272088</td>\n",
       "      <td>-3.475083</td>\n",
       "      <td>0.999183</td>\n",
       "      <td>26.953261</td>\n",
       "    </tr>\n",
       "    <tr>\n",
       "      <th>2</th>\n",
       "      <td>vyE1P</td>\n",
       "      <td>6.263187</td>\n",
       "      <td>-5.948386</td>\n",
       "      <td>5.001160</td>\n",
       "      <td>134.766305</td>\n",
       "    </tr>\n",
       "    <tr>\n",
       "      <th>3</th>\n",
       "      <td>KcrkZ</td>\n",
       "      <td>-13.081196</td>\n",
       "      <td>-11.506057</td>\n",
       "      <td>4.999415</td>\n",
       "      <td>137.945408</td>\n",
       "    </tr>\n",
       "    <tr>\n",
       "      <th>4</th>\n",
       "      <td>AHL4O</td>\n",
       "      <td>12.702195</td>\n",
       "      <td>-8.147433</td>\n",
       "      <td>5.004363</td>\n",
       "      <td>134.766305</td>\n",
       "    </tr>\n",
       "  </tbody>\n",
       "</table>\n",
       "</div>"
      ],
      "text/plain": [
       "      id         f0         f1        f2     product\n",
       "0  kBEdx -15.001348  -8.276000 -0.005876    3.179103\n",
       "1  62mP7  14.272088  -3.475083  0.999183   26.953261\n",
       "2  vyE1P   6.263187  -5.948386  5.001160  134.766305\n",
       "3  KcrkZ -13.081196 -11.506057  4.999415  137.945408\n",
       "4  AHL4O  12.702195  -8.147433  5.004363  134.766305"
      ]
     },
     "metadata": {},
     "output_type": "display_data"
    },
    {
     "name": "stdout",
     "output_type": "stream",
     "text": [
      "<class 'pandas.core.frame.DataFrame'>\n",
      "RangeIndex: 100000 entries, 0 to 99999\n",
      "Data columns (total 5 columns):\n",
      " #   Column   Non-Null Count   Dtype  \n",
      "---  ------   --------------   -----  \n",
      " 0   id       100000 non-null  object \n",
      " 1   f0       100000 non-null  float64\n",
      " 2   f1       100000 non-null  float64\n",
      " 3   f2       100000 non-null  float64\n",
      " 4   product  100000 non-null  float64\n",
      "dtypes: float64(4), object(1)\n",
      "memory usage: 3.8+ MB\n",
      "None\n"
     ]
    },
    {
     "data": {
      "text/html": [
       "<div>\n",
       "<style scoped>\n",
       "    .dataframe tbody tr th:only-of-type {\n",
       "        vertical-align: middle;\n",
       "    }\n",
       "\n",
       "    .dataframe tbody tr th {\n",
       "        vertical-align: top;\n",
       "    }\n",
       "\n",
       "    .dataframe thead th {\n",
       "        text-align: right;\n",
       "    }\n",
       "</style>\n",
       "<table border=\"1\" class=\"dataframe\">\n",
       "  <thead>\n",
       "    <tr style=\"text-align: right;\">\n",
       "      <th></th>\n",
       "      <th>count</th>\n",
       "      <th>unique</th>\n",
       "      <th>top</th>\n",
       "      <th>freq</th>\n",
       "      <th>mean</th>\n",
       "      <th>std</th>\n",
       "      <th>min</th>\n",
       "      <th>25%</th>\n",
       "      <th>50%</th>\n",
       "      <th>75%</th>\n",
       "      <th>max</th>\n",
       "    </tr>\n",
       "  </thead>\n",
       "  <tbody>\n",
       "    <tr>\n",
       "      <th>id</th>\n",
       "      <td>100000</td>\n",
       "      <td>99996</td>\n",
       "      <td>LHZR0</td>\n",
       "      <td>2</td>\n",
       "      <td>NaN</td>\n",
       "      <td>NaN</td>\n",
       "      <td>NaN</td>\n",
       "      <td>NaN</td>\n",
       "      <td>NaN</td>\n",
       "      <td>NaN</td>\n",
       "      <td>NaN</td>\n",
       "    </tr>\n",
       "    <tr>\n",
       "      <th>f0</th>\n",
       "      <td>100000.0</td>\n",
       "      <td>NaN</td>\n",
       "      <td>NaN</td>\n",
       "      <td>NaN</td>\n",
       "      <td>1.141296</td>\n",
       "      <td>8.965932</td>\n",
       "      <td>-31.609576</td>\n",
       "      <td>-6.298551</td>\n",
       "      <td>1.153055</td>\n",
       "      <td>8.621015</td>\n",
       "      <td>29.421755</td>\n",
       "    </tr>\n",
       "    <tr>\n",
       "      <th>f1</th>\n",
       "      <td>100000.0</td>\n",
       "      <td>NaN</td>\n",
       "      <td>NaN</td>\n",
       "      <td>NaN</td>\n",
       "      <td>-4.796579</td>\n",
       "      <td>5.119872</td>\n",
       "      <td>-26.358598</td>\n",
       "      <td>-8.267985</td>\n",
       "      <td>-4.813172</td>\n",
       "      <td>-1.332816</td>\n",
       "      <td>18.734063</td>\n",
       "    </tr>\n",
       "    <tr>\n",
       "      <th>f2</th>\n",
       "      <td>100000.0</td>\n",
       "      <td>NaN</td>\n",
       "      <td>NaN</td>\n",
       "      <td>NaN</td>\n",
       "      <td>2.494541</td>\n",
       "      <td>1.703572</td>\n",
       "      <td>-0.018144</td>\n",
       "      <td>1.000021</td>\n",
       "      <td>2.011479</td>\n",
       "      <td>3.999904</td>\n",
       "      <td>5.019721</td>\n",
       "    </tr>\n",
       "    <tr>\n",
       "      <th>product</th>\n",
       "      <td>100000.0</td>\n",
       "      <td>NaN</td>\n",
       "      <td>NaN</td>\n",
       "      <td>NaN</td>\n",
       "      <td>68.825</td>\n",
       "      <td>45.944423</td>\n",
       "      <td>0.0</td>\n",
       "      <td>26.953261</td>\n",
       "      <td>57.085625</td>\n",
       "      <td>107.813044</td>\n",
       "      <td>137.945408</td>\n",
       "    </tr>\n",
       "  </tbody>\n",
       "</table>\n",
       "</div>"
      ],
      "text/plain": [
       "            count unique    top freq      mean        std        min  \\\n",
       "id         100000  99996  LHZR0    2       NaN        NaN        NaN   \n",
       "f0       100000.0    NaN    NaN  NaN  1.141296   8.965932 -31.609576   \n",
       "f1       100000.0    NaN    NaN  NaN -4.796579   5.119872 -26.358598   \n",
       "f2       100000.0    NaN    NaN  NaN  2.494541   1.703572  -0.018144   \n",
       "product  100000.0    NaN    NaN  NaN    68.825  45.944423        0.0   \n",
       "\n",
       "               25%        50%         75%         max  \n",
       "id             NaN        NaN         NaN         NaN  \n",
       "f0       -6.298551   1.153055    8.621015   29.421755  \n",
       "f1       -8.267985  -4.813172   -1.332816   18.734063  \n",
       "f2        1.000021   2.011479    3.999904    5.019721  \n",
       "product  26.953261  57.085625  107.813044  137.945408  "
      ]
     },
     "metadata": {},
     "output_type": "display_data"
    },
    {
     "data": {
      "text/html": [
       "<div>\n",
       "<style scoped>\n",
       "    .dataframe tbody tr th:only-of-type {\n",
       "        vertical-align: middle;\n",
       "    }\n",
       "\n",
       "    .dataframe tbody tr th {\n",
       "        vertical-align: top;\n",
       "    }\n",
       "\n",
       "    .dataframe thead th {\n",
       "        text-align: right;\n",
       "    }\n",
       "</style>\n",
       "<table border=\"1\" class=\"dataframe\">\n",
       "  <thead>\n",
       "    <tr style=\"text-align: right;\">\n",
       "      <th></th>\n",
       "      <th>num_missing</th>\n",
       "      <th>percent_missing</th>\n",
       "    </tr>\n",
       "  </thead>\n",
       "  <tbody>\n",
       "    <tr>\n",
       "      <th>id</th>\n",
       "      <td>0</td>\n",
       "      <td>0.0</td>\n",
       "    </tr>\n",
       "    <tr>\n",
       "      <th>f0</th>\n",
       "      <td>0</td>\n",
       "      <td>0.0</td>\n",
       "    </tr>\n",
       "    <tr>\n",
       "      <th>f1</th>\n",
       "      <td>0</td>\n",
       "      <td>0.0</td>\n",
       "    </tr>\n",
       "    <tr>\n",
       "      <th>f2</th>\n",
       "      <td>0</td>\n",
       "      <td>0.0</td>\n",
       "    </tr>\n",
       "    <tr>\n",
       "      <th>product</th>\n",
       "      <td>0</td>\n",
       "      <td>0.0</td>\n",
       "    </tr>\n",
       "  </tbody>\n",
       "</table>\n",
       "</div>"
      ],
      "text/plain": [
       "         num_missing  percent_missing\n",
       "id                 0              0.0\n",
       "f0                 0              0.0\n",
       "f1                 0              0.0\n",
       "f2                 0              0.0\n",
       "product            0              0.0"
      ]
     },
     "metadata": {},
     "output_type": "display_data"
    },
    {
     "name": "stdout",
     "output_type": "stream",
     "text": [
      "количество явных дубликатов 0\n"
     ]
    }
   ],
   "source": [
    "all_statistics(data_1)"
   ]
  },
  {
   "cell_type": "markdown",
   "metadata": {},
   "source": [
    "**Регион 2**"
   ]
  },
  {
   "cell_type": "code",
   "execution_count": 7,
   "metadata": {},
   "outputs": [
    {
     "data": {
      "text/html": [
       "<div>\n",
       "<style scoped>\n",
       "    .dataframe tbody tr th:only-of-type {\n",
       "        vertical-align: middle;\n",
       "    }\n",
       "\n",
       "    .dataframe tbody tr th {\n",
       "        vertical-align: top;\n",
       "    }\n",
       "\n",
       "    .dataframe thead th {\n",
       "        text-align: right;\n",
       "    }\n",
       "</style>\n",
       "<table border=\"1\" class=\"dataframe\">\n",
       "  <thead>\n",
       "    <tr style=\"text-align: right;\">\n",
       "      <th></th>\n",
       "      <th>id</th>\n",
       "      <th>f0</th>\n",
       "      <th>f1</th>\n",
       "      <th>f2</th>\n",
       "      <th>product</th>\n",
       "    </tr>\n",
       "  </thead>\n",
       "  <tbody>\n",
       "    <tr>\n",
       "      <th>0</th>\n",
       "      <td>fwXo0</td>\n",
       "      <td>-1.146987</td>\n",
       "      <td>0.963328</td>\n",
       "      <td>-0.828965</td>\n",
       "      <td>27.758673</td>\n",
       "    </tr>\n",
       "    <tr>\n",
       "      <th>1</th>\n",
       "      <td>WJtFt</td>\n",
       "      <td>0.262778</td>\n",
       "      <td>0.269839</td>\n",
       "      <td>-2.530187</td>\n",
       "      <td>56.069697</td>\n",
       "    </tr>\n",
       "    <tr>\n",
       "      <th>2</th>\n",
       "      <td>ovLUW</td>\n",
       "      <td>0.194587</td>\n",
       "      <td>0.289035</td>\n",
       "      <td>-5.586433</td>\n",
       "      <td>62.871910</td>\n",
       "    </tr>\n",
       "    <tr>\n",
       "      <th>3</th>\n",
       "      <td>q6cA6</td>\n",
       "      <td>2.236060</td>\n",
       "      <td>-0.553760</td>\n",
       "      <td>0.930038</td>\n",
       "      <td>114.572842</td>\n",
       "    </tr>\n",
       "    <tr>\n",
       "      <th>4</th>\n",
       "      <td>WPMUX</td>\n",
       "      <td>-0.515993</td>\n",
       "      <td>1.716266</td>\n",
       "      <td>5.899011</td>\n",
       "      <td>149.600746</td>\n",
       "    </tr>\n",
       "  </tbody>\n",
       "</table>\n",
       "</div>"
      ],
      "text/plain": [
       "      id        f0        f1        f2     product\n",
       "0  fwXo0 -1.146987  0.963328 -0.828965   27.758673\n",
       "1  WJtFt  0.262778  0.269839 -2.530187   56.069697\n",
       "2  ovLUW  0.194587  0.289035 -5.586433   62.871910\n",
       "3  q6cA6  2.236060 -0.553760  0.930038  114.572842\n",
       "4  WPMUX -0.515993  1.716266  5.899011  149.600746"
      ]
     },
     "metadata": {},
     "output_type": "display_data"
    },
    {
     "name": "stdout",
     "output_type": "stream",
     "text": [
      "<class 'pandas.core.frame.DataFrame'>\n",
      "RangeIndex: 100000 entries, 0 to 99999\n",
      "Data columns (total 5 columns):\n",
      " #   Column   Non-Null Count   Dtype  \n",
      "---  ------   --------------   -----  \n",
      " 0   id       100000 non-null  object \n",
      " 1   f0       100000 non-null  float64\n",
      " 2   f1       100000 non-null  float64\n",
      " 3   f2       100000 non-null  float64\n",
      " 4   product  100000 non-null  float64\n",
      "dtypes: float64(4), object(1)\n",
      "memory usage: 3.8+ MB\n",
      "None\n"
     ]
    },
    {
     "data": {
      "text/html": [
       "<div>\n",
       "<style scoped>\n",
       "    .dataframe tbody tr th:only-of-type {\n",
       "        vertical-align: middle;\n",
       "    }\n",
       "\n",
       "    .dataframe tbody tr th {\n",
       "        vertical-align: top;\n",
       "    }\n",
       "\n",
       "    .dataframe thead th {\n",
       "        text-align: right;\n",
       "    }\n",
       "</style>\n",
       "<table border=\"1\" class=\"dataframe\">\n",
       "  <thead>\n",
       "    <tr style=\"text-align: right;\">\n",
       "      <th></th>\n",
       "      <th>count</th>\n",
       "      <th>unique</th>\n",
       "      <th>top</th>\n",
       "      <th>freq</th>\n",
       "      <th>mean</th>\n",
       "      <th>std</th>\n",
       "      <th>min</th>\n",
       "      <th>25%</th>\n",
       "      <th>50%</th>\n",
       "      <th>75%</th>\n",
       "      <th>max</th>\n",
       "    </tr>\n",
       "  </thead>\n",
       "  <tbody>\n",
       "    <tr>\n",
       "      <th>id</th>\n",
       "      <td>100000</td>\n",
       "      <td>99996</td>\n",
       "      <td>xCHr8</td>\n",
       "      <td>2</td>\n",
       "      <td>NaN</td>\n",
       "      <td>NaN</td>\n",
       "      <td>NaN</td>\n",
       "      <td>NaN</td>\n",
       "      <td>NaN</td>\n",
       "      <td>NaN</td>\n",
       "      <td>NaN</td>\n",
       "    </tr>\n",
       "    <tr>\n",
       "      <th>f0</th>\n",
       "      <td>100000.0</td>\n",
       "      <td>NaN</td>\n",
       "      <td>NaN</td>\n",
       "      <td>NaN</td>\n",
       "      <td>0.002023</td>\n",
       "      <td>1.732045</td>\n",
       "      <td>-8.760004</td>\n",
       "      <td>-1.162288</td>\n",
       "      <td>0.009424</td>\n",
       "      <td>1.158535</td>\n",
       "      <td>7.238262</td>\n",
       "    </tr>\n",
       "    <tr>\n",
       "      <th>f1</th>\n",
       "      <td>100000.0</td>\n",
       "      <td>NaN</td>\n",
       "      <td>NaN</td>\n",
       "      <td>NaN</td>\n",
       "      <td>-0.002081</td>\n",
       "      <td>1.730417</td>\n",
       "      <td>-7.08402</td>\n",
       "      <td>-1.17482</td>\n",
       "      <td>-0.009482</td>\n",
       "      <td>1.163678</td>\n",
       "      <td>7.844801</td>\n",
       "    </tr>\n",
       "    <tr>\n",
       "      <th>f2</th>\n",
       "      <td>100000.0</td>\n",
       "      <td>NaN</td>\n",
       "      <td>NaN</td>\n",
       "      <td>NaN</td>\n",
       "      <td>2.495128</td>\n",
       "      <td>3.473445</td>\n",
       "      <td>-11.970335</td>\n",
       "      <td>0.130359</td>\n",
       "      <td>2.484236</td>\n",
       "      <td>4.858794</td>\n",
       "      <td>16.739402</td>\n",
       "    </tr>\n",
       "    <tr>\n",
       "      <th>product</th>\n",
       "      <td>100000.0</td>\n",
       "      <td>NaN</td>\n",
       "      <td>NaN</td>\n",
       "      <td>NaN</td>\n",
       "      <td>95.0</td>\n",
       "      <td>44.749921</td>\n",
       "      <td>0.0</td>\n",
       "      <td>59.450441</td>\n",
       "      <td>94.925613</td>\n",
       "      <td>130.595027</td>\n",
       "      <td>190.029838</td>\n",
       "    </tr>\n",
       "  </tbody>\n",
       "</table>\n",
       "</div>"
      ],
      "text/plain": [
       "            count unique    top freq      mean        std        min  \\\n",
       "id         100000  99996  xCHr8    2       NaN        NaN        NaN   \n",
       "f0       100000.0    NaN    NaN  NaN  0.002023   1.732045  -8.760004   \n",
       "f1       100000.0    NaN    NaN  NaN -0.002081   1.730417   -7.08402   \n",
       "f2       100000.0    NaN    NaN  NaN  2.495128   3.473445 -11.970335   \n",
       "product  100000.0    NaN    NaN  NaN      95.0  44.749921        0.0   \n",
       "\n",
       "               25%        50%         75%         max  \n",
       "id             NaN        NaN         NaN         NaN  \n",
       "f0       -1.162288   0.009424    1.158535    7.238262  \n",
       "f1        -1.17482  -0.009482    1.163678    7.844801  \n",
       "f2        0.130359   2.484236    4.858794   16.739402  \n",
       "product  59.450441  94.925613  130.595027  190.029838  "
      ]
     },
     "metadata": {},
     "output_type": "display_data"
    },
    {
     "data": {
      "text/html": [
       "<div>\n",
       "<style scoped>\n",
       "    .dataframe tbody tr th:only-of-type {\n",
       "        vertical-align: middle;\n",
       "    }\n",
       "\n",
       "    .dataframe tbody tr th {\n",
       "        vertical-align: top;\n",
       "    }\n",
       "\n",
       "    .dataframe thead th {\n",
       "        text-align: right;\n",
       "    }\n",
       "</style>\n",
       "<table border=\"1\" class=\"dataframe\">\n",
       "  <thead>\n",
       "    <tr style=\"text-align: right;\">\n",
       "      <th></th>\n",
       "      <th>num_missing</th>\n",
       "      <th>percent_missing</th>\n",
       "    </tr>\n",
       "  </thead>\n",
       "  <tbody>\n",
       "    <tr>\n",
       "      <th>id</th>\n",
       "      <td>0</td>\n",
       "      <td>0.0</td>\n",
       "    </tr>\n",
       "    <tr>\n",
       "      <th>f0</th>\n",
       "      <td>0</td>\n",
       "      <td>0.0</td>\n",
       "    </tr>\n",
       "    <tr>\n",
       "      <th>f1</th>\n",
       "      <td>0</td>\n",
       "      <td>0.0</td>\n",
       "    </tr>\n",
       "    <tr>\n",
       "      <th>f2</th>\n",
       "      <td>0</td>\n",
       "      <td>0.0</td>\n",
       "    </tr>\n",
       "    <tr>\n",
       "      <th>product</th>\n",
       "      <td>0</td>\n",
       "      <td>0.0</td>\n",
       "    </tr>\n",
       "  </tbody>\n",
       "</table>\n",
       "</div>"
      ],
      "text/plain": [
       "         num_missing  percent_missing\n",
       "id                 0              0.0\n",
       "f0                 0              0.0\n",
       "f1                 0              0.0\n",
       "f2                 0              0.0\n",
       "product            0              0.0"
      ]
     },
     "metadata": {},
     "output_type": "display_data"
    },
    {
     "name": "stdout",
     "output_type": "stream",
     "text": [
      "количество явных дубликатов 0\n"
     ]
    }
   ],
   "source": [
    "all_statistics(data_2)"
   ]
  },
  {
   "cell_type": "markdown",
   "metadata": {},
   "source": [
    "Таким образом, все наши датасеты содержат по 5 колонок и 10000 строк: каждая строка содержит полную доступную нам информацию по отдельному месторождению нефти, а столбцы определяют \"признаки\" (или \"фичи\") данного месторождения:\n",
    "    \n",
    "- `id` — уникальный идентификатор скважины (типа object);\n",
    "- `f0`, `f1`, `f2` — три признака точек (типа float);\n",
    "- `product` — объём запасов в скважине в тыс. баррелей (типа float).\n",
    "\n",
    "Столбец `product` заключает в себе целевой признак для данного исследования.\n",
    "\n",
    "Явного расхождения типа данных некоторого столбца и информации, которую он содержит, не обнаружено.\n",
    "Пропусков и явных дубликатов в датасетах также нет."
   ]
  },
  {
   "cell_type": "markdown",
   "metadata": {},
   "source": [
    "Чтобы окончательно подготовить наши данные к обучению моделей, удалим колонки с несущественными для составления прогнозов данными - у нас таким признаком является название конкретного месторождения."
   ]
  },
  {
   "cell_type": "code",
   "execution_count": 8,
   "metadata": {},
   "outputs": [],
   "source": [
    "data_0 = data_0.drop('id', axis=1)\n",
    "data_1 = data_1.drop('id', axis=1)\n",
    "data_2 = data_2.drop('id', axis=1)"
   ]
  },
  {
   "cell_type": "markdown",
   "metadata": {},
   "source": [
    "Разделим фичи и таргет для каждого набора данных по регионам."
   ]
  },
  {
   "cell_type": "code",
   "execution_count": 9,
   "metadata": {},
   "outputs": [],
   "source": [
    "features_0 = data_0.drop('product', axis=1)\n",
    "target_0 = data_0['product']\n",
    "\n",
    "features_1 = data_1.drop('product', axis=1)\n",
    "target_1 = data_1['product']\n",
    "\n",
    "features_2 = data_2.drop('product', axis=1)\n",
    "target_2 = data_2['product']"
   ]
  },
  {
   "cell_type": "markdown",
   "metadata": {},
   "source": [
    "Теперь наши данные готовы для передачи в модели."
   ]
  },
  {
   "cell_type": "markdown",
   "metadata": {},
   "source": [
    "Напоследок посмотрим на распределение целевого признака (объём запасов в скважине в тыс. баррелей) по отдельным скважинам, чтобы лучше понимать его природу."
   ]
  },
  {
   "cell_type": "code",
   "execution_count": 10,
   "metadata": {},
   "outputs": [
    {
     "data": {
      "image/png": "[encoded data removed]",
      "text/plain": [
       "<Figure size 1296x432 with 2 Axes>"
      ]
     },
     "metadata": {},
     "output_type": "display_data"
    },
    {
     "data": {
      "image/png": "[encoded data removed]",
      "text/plain": [
       "<Figure size 1296x432 with 2 Axes>"
      ]
     },
     "metadata": {},
     "output_type": "display_data"
    },
    {
     "data": {
      "image/png": "[encoded data removed]",
      "text/plain": [
       "<Figure size 1296x432 with 2 Axes>"
      ]
     },
     "metadata": {},
     "output_type": "display_data"
    }
   ],
   "source": [
    "for index, target in enumerate([target_0, target_1, target_2]):\n",
    "    \n",
    "    fig, axs = plt.subplots(ncols=2, figsize=(18, 6))\n",
    "    sns.distplot(target, ax=axs[0], kde=False).set_title(f'\\nГистограмма частот для Регион {index}\\n', fontsize=22);\n",
    "    sns.boxplot(target, ax=axs[1]).set_title(f'\\nГрафик boxplot для Регион {index}\\n', fontsize=22);  "
   ]
  },
  {
   "cell_type": "code",
   "execution_count": 11,
   "metadata": {},
   "outputs": [
    {
     "name": "stdout",
     "output_type": "stream",
     "text": [
      "Количество скважин с нулевыми запасами сырья для Регион 0: 1\n",
      "Количество скважин с нулевыми запасами сырья для Регион 1: 8235\n",
      "Количество скважин с нулевыми запасами сырья для Регион 2: 1\n"
     ]
    }
   ],
   "source": [
    "print(f\"Количество скважин с нулевыми запасами сырья для Регион 0: {data_0.query('product == 0').shape[0]}\")\n",
    "print(f\"Количество скважин с нулевыми запасами сырья для Регион 1: {data_1.query('product == 0').shape[0]}\")\n",
    "print(f\"Количество скважин с нулевыми запасами сырья для Регион 2: {data_2.query('product == 0').shape[0]}\")"
   ]
  },
  {
   "cell_type": "markdown",
   "metadata": {},
   "source": [
    "Как мы видим, распределение объемов сырья по скважинам Регион 1 сильно отличается от такового у Регион 0 / Регион 2:\n",
    "\n",
    "- У Регион 0 распределение целевого признака близко к нормальному, 25-процентиль соответствует 56.5 тыс.баррелей, 75-процентиль 128.5 тыс.баррелей, в среднем же скважины содержат по 91.8 тыс. баррелей с пиком в 185.3 тыс.баррелей.\n",
    "- Подобное же нормальное распределение объемов сырья по скважинам мы видим и у Регион 2, только средние показатели по всем процентилям больше на 3-5 тысяч баррелей.\n",
    "- Картина сильно отличается для Регион 1, здесь присутствуют 8235 скважин с нулевыми запасами, 25-процентиль составляет всего 27 тыс.баррелей, 75-процентиль 107.8 тыс.баррелей, в среднем в скважинах по 57 тыс.баррелей с пиком в 138 тыс.баррелей."
   ]
  },
  {
   "cell_type": "markdown",
   "metadata": {},
   "source": [
    "**Выводы**\n",
    "\n",
    "Нами были рассмотрены датасеты с информацией о пробах нефти по трем регионам (`data_0` представляет регион 0 , `data_1` регион 1 и `data_2` регион 2). \n",
    "\n",
    "Каждый набор данных имеет 5 колонок и 10000 строк: каждая строка содержит полную доступную нам информацию по отдельному месторождению нефти, а столбцы определяют \"признаки\" (или \"фичи\") данного месторождения. Столбец `product` заключает в себе целевой признак для данного исследования.\n",
    "\n",
    "В процессе предобработки:\n",
    "\n",
    "- было выявлено отсутствие пропусков и полных дубликатов в данных,\n",
    "- удалена колонка `id` с несущественным для составления прогноза идентификатором конкретной скважины,\n",
    "- для каждого датасета отдельно выделены фичи и таргет,\n",
    "- для целевого признака `product` построены визуализации и объяснено его распределение."
   ]
  },
  {
   "cell_type": "markdown",
   "metadata": {},
   "source": [
    "## Обучение и проверка модели"
   ]
  },
  {
   "cell_type": "markdown",
   "metadata": {},
   "source": [
    "Так как целевой признак, который нам нужно предсказать - численный, а не категориальный, то для обучения моделей будем использовать модель линейной регрессии через библиотеку `sklearn`\n",
    "\n",
    "\n",
    "https://scikit-learn.org/stable/modules/generated/sklearn.linear_model.LinearRegression.html\n",
    "    \n",
    "Напишем вспомогательную функцию, которая для каждого датасета будет реализовывать полный пайплайн прогнозирования:\n",
    "\n",
    "- масштабирование поступающих данных,\n",
    "- объявление объекта модели соответствующего класса, \n",
    "- обучение модели на обучающей выборке и составление предсказания на валидационной,\n",
    "- подсчет и вывод запасов сырья и метрики RMSE.\n",
    "\n",
    "Ключевая метрика RMSE, по которой мы будем оценивать качество нашей модели, представляет из себя квадратный корень из MSE - среднеквадратичной ошибки\n",
    "\n",
    "https://scikit-learn.org/stable/modules/generated/sklearn.metrics.mean_squared_error.html"
   ]
  },
  {
   "cell_type": "markdown",
   "metadata": {},
   "source": [
    "Осталось только разбить наши данные по каждому датасету на обучающую и валидационную выборки в соотношении 75 : 25 и можно подавать их внутрь функции."
   ]
  },
  {
   "cell_type": "code",
   "execution_count": 12,
   "metadata": {},
   "outputs": [],
   "source": [
    "# разбиваем данные по каждому датасету на обучающую и валидационную выборки в соотношении 75 : 25\n",
    "\n",
    "features_train_0, features_val_0, target_train_0, target_val_0 = train_test_split(features_0,\n",
    "                                                                                  target_0,\n",
    "                                                                                  test_size=0.25,\n",
    "                                                                                  random_state=RANDOM)\n",
    "\n",
    "features_train_1, features_val_1, target_train_1, target_val_1 = train_test_split(features_1,\n",
    "                                                                                  target_1,\n",
    "                                                                                  test_size=0.25,\n",
    "                                                                                  random_state=RANDOM)\n",
    "\n",
    "features_train_2, features_val_2, target_train_2, target_val_2 = train_test_split(features_2,\n",
    "                                                                                  target_2,\n",
    "                                                                                  test_size=0.25,\n",
    "                                                                                  random_state=RANDOM)"
   ]
  },
  {
   "cell_type": "code",
   "execution_count": 13,
   "metadata": {},
   "outputs": [
    {
     "data": {
      "text/plain": [
       "((75000, 3), (25000, 3), (75000,), (25000,))"
      ]
     },
     "execution_count": 13,
     "metadata": {},
     "output_type": "execute_result"
    }
   ],
   "source": [
    "# проверим правильность разбиения, например, на первом регионе\n",
    "\n",
    "features_train_0.shape, features_val_0.shape, target_train_0.shape, target_val_0.shape"
   ]
  },
  {
   "cell_type": "code",
   "execution_count": 14,
   "metadata": {},
   "outputs": [],
   "source": [
    "def pipeline_linear_regression(total_target, \n",
    "                               features_train, features_val, \n",
    "                               target_train, target_val, \n",
    "                               region_number):\n",
    "    '''Функция для обучения модели линейной регрессии, составления предсказаний и оценке метрик\n",
    "    среднего запаса предсказанного сырья и ошибки RMSE'''\n",
    "    \n",
    "    # приводим данные к единому масштабу с помощью скейлера\n",
    "    scaler = StandardScaler()\n",
    "    features_train = scaler.fit_transform(features_train)\n",
    "    features_val = scaler.transform(features_val)\n",
    "    \n",
    "    # определяем и обучаем модель на обучающей выборке, делаем предсказания\n",
    "    model = LinearRegression()\n",
    "    model.fit(features_train, target_train)\n",
    "    predictions = model.predict(features_val)\n",
    "    predictions = pd.Series(predictions)\n",
    "    \n",
    "    # определяем и выводим средние запасы сырья и метрику RMSE - корень из средней квадратичной ошибки предсказаний\n",
    "    mean_real_stock = total_target.mean()\n",
    "    mean_predicted_stock = predictions.mean()\n",
    "    rmse = np.sqrt(mean_squared_error(target_val, predictions))\n",
    "    \n",
    "    print(f'Средний реальный запас сырья для региона {region_number}: {mean_real_stock:.5f} тыс. баррелей')\n",
    "    print(f'Cредний предсказанный запас сырья для региона {region_number}: {mean_predicted_stock:.5f} тыс. баррелей')\n",
    "    print(f'Показатель метрики RMSE для региона {region_number}: {rmse:.3f}')\n",
    "                 \n",
    "    return predictions, mean_real_stock, mean_predicted_stock, rmse"
   ]
  },
  {
   "cell_type": "markdown",
   "metadata": {},
   "source": [
    "Передаем данные по каждому региону в нашу функцию."
   ]
  },
  {
   "cell_type": "markdown",
   "metadata": {},
   "source": [
    "**Регион 0**"
   ]
  },
  {
   "cell_type": "code",
   "execution_count": 15,
   "metadata": {},
   "outputs": [
    {
     "name": "stdout",
     "output_type": "stream",
     "text": [
      "Средний реальный запас сырья для региона 0: 92.50000 тыс. баррелей\n",
      "Cредний предсказанный запас сырья для региона 0: 92.59257 тыс. баррелей\n",
      "Показатель метрики RMSE для региона 0: 37.579\n"
     ]
    }
   ],
   "source": [
    "predictions_0, mean_real_stock_0, mean_predicted_stock_0, rmse_0 = pipeline_linear_regression(target_0, \n",
    "                                                                                              features_train_0, \n",
    "                                                                                              features_val_0, \n",
    "                                                                                              target_train_0, \n",
    "                                                                                              target_val_0,\n",
    "                                                                                              '0')"
   ]
  },
  {
   "cell_type": "markdown",
   "metadata": {},
   "source": [
    "**Регион 1**"
   ]
  },
  {
   "cell_type": "code",
   "execution_count": 16,
   "metadata": {},
   "outputs": [
    {
     "name": "stdout",
     "output_type": "stream",
     "text": [
      "Средний реальный запас сырья для региона 1: 68.82500 тыс. баррелей\n",
      "Cредний предсказанный запас сырья для региона 1: 68.72855 тыс. баррелей\n",
      "Показатель метрики RMSE для региона 1: 0.893\n"
     ]
    }
   ],
   "source": [
    "predictions_1, mean_real_stock_1, mean_predicted_stock_1, rmse_1 = pipeline_linear_regression(target_1, \n",
    "                                                                                              features_train_1, \n",
    "                                                                                              features_val_1, \n",
    "                                                                                              target_train_1, \n",
    "                                                                                              target_val_1,\n",
    "                                                                                              '1')"
   ]
  },
  {
   "cell_type": "markdown",
   "metadata": {},
   "source": [
    "**Регион 2**"
   ]
  },
  {
   "cell_type": "code",
   "execution_count": 17,
   "metadata": {},
   "outputs": [
    {
     "name": "stdout",
     "output_type": "stream",
     "text": [
      "Средний реальный запас сырья для региона 2: 95.00000 тыс. баррелей\n",
      "Cредний предсказанный запас сырья для региона 2: 94.96505 тыс. баррелей\n",
      "Показатель метрики RMSE для региона 2: 40.030\n"
     ]
    }
   ],
   "source": [
    "predictions_2, mean_real_stock_2, mean_predicted_stock_2, rmse_2 = pipeline_linear_regression(target_2, \n",
    "                                                                                              features_train_2, \n",
    "                                                                                              features_val_2, \n",
    "                                                                                              target_train_2, \n",
    "                                                                                              target_val_2,\n",
    "                                                                                              '2')"
   ]
  },
  {
   "cell_type": "code",
   "execution_count": 18,
   "metadata": {},
   "outputs": [],
   "source": [
    "# вспомогательное преобразование таргета для дальнейших функций\n",
    "\n",
    "target_val_0 = target_val_0.reset_index(drop=True)\n",
    "target_val_1 = target_val_1.reset_index(drop=True)\n",
    "target_val_2 = target_val_2.reset_index(drop=True)"
   ]
  },
  {
   "cell_type": "markdown",
   "metadata": {},
   "source": [
    "**Выводы**\n",
    "\n",
    "Мы построили модель для предсказания объёма запасов в новых скважинах, она основана на линейной регрессии.\n",
    "\n",
    "- Наша модель хорошо предсказывает средний запас сырья.\n",
    "- Средний запас предсказанного сырья в Регионе 1 всего 68.72855 тыс. баррелей, что меньше чем в Регионе 0 (92.59257 тыс. баррелей) и Регионе 2 (94.96505 тыс. баррелей).\n",
    "- Однако, по Региону 1 достигаются лучшие показатели ключевой метрики RMSE - всего 0.893, то есть мы можем с большей уверенностью полагаться на предсказание запасов в этом регионе, прогноз носит более точный характер, а это непосредственно отражается на финансовых рисках разработки месторождения."
   ]
  },
  {
   "cell_type": "markdown",
   "metadata": {},
   "source": [
    "## Подготовка к расчёту прибыли"
   ]
  },
  {
   "cell_type": "markdown",
   "metadata": {},
   "source": [
    "Исходя из технического описания нашего исследования:\n",
    "\n",
    "- При разведке региона исследуют 500 точек, из которых с помощью машинного обучения нужно выбрать 200 лучших для разработки.\n",
    "- Бюджет на разработку скважин в регионе — 10 млрд рублей.\n",
    "- При нынешних ценах один баррель сырья приносит 450 рублей дохода (доход с каждой единицы продукта составляет 450 тыс. рублей, поскольку объём указан в тысячах баррелей).\n",
    "- После оценки рисков нужно оставить лишь те регионы, в которых вероятность убытков меньше 2.5% (cреди них выбирают регион с наибольшей средней прибылью).\n",
    "\n",
    "Вынесем все ключевые значения для расчётов в отдельные переменные."
   ]
  },
  {
   "cell_type": "code",
   "execution_count": 19,
   "metadata": {},
   "outputs": [],
   "source": [
    "TOTAL_WELLS = 500\n",
    "BEST_WELLS = 200\n",
    "\n",
    "TOTAL_BUDGET = 10_000_000_000 \n",
    "PROFIT_PER_BARREL = 450_000\n",
    "\n",
    "CRITICAL_RISK_RATE = 2.5"
   ]
  },
  {
   "cell_type": "markdown",
   "metadata": {},
   "source": [
    "Теперь мы можем рассчитать достаточный объём сырья для безубыточной разработки новой скважины."
   ]
  },
  {
   "cell_type": "code",
   "execution_count": 20,
   "metadata": {},
   "outputs": [
    {
     "name": "stdout",
     "output_type": "stream",
     "text": [
      "Бюджет на бурение одного месторождения: 50000000.0 руб.\n"
     ]
    }
   ],
   "source": [
    "# вычислим бюджет, закладываемый на бурение одной скважины\n",
    "\n",
    "budget_per_well = TOTAL_BUDGET / BEST_WELLS\n",
    "print(f'Бюджет на бурение одного месторождения: {budget_per_well} руб.')"
   ]
  },
  {
   "cell_type": "code",
   "execution_count": 21,
   "metadata": {},
   "outputs": [
    {
     "name": "stdout",
     "output_type": "stream",
     "text": [
      "Достаточный объём сырья для безубыточной разработки нового месторождения: 111.111 тыс. баррелей\n"
     ]
    }
   ],
   "source": [
    "# вычислим точку безубыточности одной скважины\n",
    "\n",
    "well_breakeven = budget_per_well / PROFIT_PER_BARREL\n",
    "print(f'Достаточный объём сырья для безубыточной разработки нового месторождения: {well_breakeven:.3f} тыс. баррелей')"
   ]
  },
  {
   "cell_type": "code",
   "execution_count": 22,
   "metadata": {},
   "outputs": [
    {
     "name": "stdout",
     "output_type": "stream",
     "text": [
      "Потенциальная валовая прибыль с лучших месторождений для региона 0 = 16.635 млрд. руб.\n",
      "Потенциальная валовая прибыль с худших месторождений для региона 0 = 0.045 млрд. руб.\n",
      "Средний объем сырья по лучшим месторождениям для региона 0 = 184.834 тыс. баррелей\n",
      "Средний объем сырья для региона 0 = 92.500 тыс. баррелей\n",
      "\n",
      "Потенциальная валовая прибыль с лучших месторождений для региона 1 = 12.415 млрд. руб.\n",
      "Потенциальная валовая прибыль с худших месторождений для региона 1 = 0.000 млрд. руб.\n",
      "Средний объем сырья по лучшим месторождениям для региона 1 = 137.945 тыс. баррелей\n",
      "Средний объем сырья для региона 1 = 68.825 тыс. баррелей\n",
      "\n",
      "Потенциальная валовая прибыль с лучших месторождений для региона 2 = 17.060 млрд. руб.\n",
      "Потенциальная валовая прибыль с худших месторождений для региона 2 = 0.045 млрд. руб.\n",
      "Средний объем сырья по лучшим месторождениям для региона 2 = 189.551 тыс. баррелей\n",
      "Средний объем сырья для региона 2 = 95.000 тыс. баррелей\n",
      "\n"
     ]
    }
   ],
   "source": [
    "for index, target in enumerate([target_0, target_1, target_2]):\n",
    "    \n",
    "    # посчитаем валовую прибыль с лучших и худших месторождений региона\n",
    "    profit_best_wells = target.sort_values(ascending=False)[:BEST_WELLS].sum() * PROFIT_PER_BARREL / 1e9\n",
    "    profit_worst_wells = target.sort_values()[:BEST_WELLS].sum() * PROFIT_PER_BARREL / 1e9\n",
    "    \n",
    "    # посчитаем средний объем сырья по лучшим месторождениям региона\n",
    "    potential_best_wells = target.sort_values(ascending=False)[:BEST_WELLS].mean()\n",
    "    \n",
    "    print(f'Потенциальная валовая прибыль с лучших месторождений для региона {index} = {profit_best_wells:.3f} млрд. руб.')\n",
    "    print(f'Потенциальная валовая прибыль с худших месторождений для региона {index} = {profit_worst_wells:.3f} млрд. руб.')\n",
    "    print(f'Средний объем сырья по лучшим месторождениям для региона {index} = {(potential_best_wells):.3f} тыс. баррелей')\n",
    "    print(f'Средний объем сырья для региона {index} = {(target.mean()):.3f} тыс. баррелей\\n')"
   ]
  },
  {
   "cell_type": "markdown",
   "metadata": {},
   "source": [
    "**Выводы**\n",
    "\n",
    "- Мы перевели ТЗ заказчика на язык констант для удобства дальнейших вычислений.\n",
    "- При общем бюджете на разработку скважин в регионе в 10 млрд рублей, разработка каждой из 200 наиболее перспективных скважин будет стоить 50 млн.руб.\n",
    "- При действующем уровне цен в 450 тыс.руб. за тыс. баррелей, для безубыточной разработки нового месторождения необходимо, чтобы в нем было не менее 111,2 тыс. баррелей сырья.\n",
    "- Такие запасы сырья есть во всех представленных регионах, ПРИ УСЛОВИИ разработки только лучших месторождений.\n",
    "- В противном случае разработка может стать убыточной, так как средние показатели объемов сырья по всех скважинам региона ниже точки безубыточности.\n",
    "- Таким образом, для предсказания лучших месторождений нужна точная и эффективная модель, так как бурение скважин без предварительной оценки связано с рисками потери бюджетов."
   ]
  },
  {
   "cell_type": "markdown",
   "metadata": {},
   "source": [
    "## Расчёт прибыли и рисков "
   ]
  },
  {
   "cell_type": "markdown",
   "metadata": {},
   "source": [
    "Напишем функцию для расчёта прибыли по выбранным скважинам и предсказаниям модели. \n",
    "Для этого нам потребуется:\n",
    "    \n",
    "- выбрать скважины с максимальными значениями предсказаний, \n",
    "- просуммировать целевое значение объёма сырья, соответствующее этим предсказаниям,\n",
    "- рассчитать прибыль для полученного объёма сырья."
   ]
  },
  {
   "cell_type": "code",
   "execution_count": 23,
   "metadata": {},
   "outputs": [],
   "source": [
    "def profit_wells(predictions, target):\n",
    "    '''Функция расчёта прибыли по выбранным скважинам и предсказаниям модели'''\n",
    "    preds_wells = predictions.sort_values(ascending=False)\n",
    "    interesting_wells = target[preds_wells.index][:BEST_WELLS]\n",
    "    revenue = interesting_wells.sum() * PROFIT_PER_BARREL - TOTAL_BUDGET\n",
    "    return revenue"
   ]
  },
  {
   "cell_type": "code",
   "execution_count": 24,
   "metadata": {},
   "outputs": [
    {
     "name": "stdout",
     "output_type": "stream",
     "text": [
      "Потенциальная прибыль лучших месторождений для региона 0 = 3.321 млрд. руб.\n"
     ]
    }
   ],
   "source": [
    "revenue_0 = profit_wells(predictions_0, target_val_0)\n",
    "\n",
    "print(f'Потенциальная прибыль лучших месторождений для региона 0 = {(revenue_0 / 1e9):.3f} млрд. руб.')"
   ]
  },
  {
   "cell_type": "code",
   "execution_count": 25,
   "metadata": {},
   "outputs": [
    {
     "name": "stdout",
     "output_type": "stream",
     "text": [
      "Потенциальная прибыль лучших месторождений для региона 1 = 2.415 млрд. руб.\n"
     ]
    }
   ],
   "source": [
    "revenue_1 = profit_wells(predictions_1, target_val_1)\n",
    "\n",
    "print(f'Потенциальная прибыль лучших месторождений для региона 1 = {(revenue_1 / 1e9):.3f} млрд. руб.')"
   ]
  },
  {
   "cell_type": "code",
   "execution_count": 26,
   "metadata": {},
   "outputs": [
    {
     "name": "stdout",
     "output_type": "stream",
     "text": [
      "Потенциальная прибыль лучших месторождений для региона 2 = 2.710 млрд. руб.\n"
     ]
    }
   ],
   "source": [
    "revenue_2 = profit_wells(predictions_2, target_val_2)\n",
    "\n",
    "print(f'Потенциальная прибыль лучших месторождений для региона 2 = {(revenue_2 / 1e9):.3f} млрд. руб.')"
   ]
  },
  {
   "cell_type": "markdown",
   "metadata": {},
   "source": [
    "Теперь мы можем посчитайть риски и прибыль для каждого региона с помощью техники `Bootstrap`. Для этого напишем функцию, которая \n",
    "\n",
    "- будет делать 1000 подвыборок из начальных данных для получения распределение прибыли, \n",
    "- а затем рассчитывать и выводить среднюю прибыль, 95%-й доверительный интервал и риск убытков для региона."
   ]
  },
  {
   "cell_type": "code",
   "execution_count": 27,
   "metadata": {},
   "outputs": [],
   "source": [
    "state = np.random.RandomState(RANDOM)\n",
    "\n",
    "def bootstrap(predictions, target, region_number):\n",
    "    '''Функция для рассчета средней прибыли, 95%-го доверительного интервала и риска убытков техникой Bootstrap'''\n",
    "    \n",
    "    values = []\n",
    "    \n",
    "    for i in range(1000):\n",
    "        \n",
    "        # делаем семплирование 1000 случайных подвыборок из 500 значений целевого признака\n",
    "        target_subsample = target.sample(n=500, replace=True, random_state=state)\n",
    "        # извлекаем предсказания для этих подвыборок\n",
    "        preds_subsample = predictions[target_subsample.index]\n",
    "        \n",
    "        target_subsample = target_subsample.reset_index(drop=True)\n",
    "        preds_subsample = preds_subsample.reset_index(drop=True)\n",
    "        \n",
    "        # на каждой итерации вносим в список прибыль, рассчитываемую функцией profit_wells\n",
    "        values.append(profit_wells(preds_subsample, target_subsample))\n",
    "    \n",
    "    # берем среднее по всем прибылям\n",
    "    values = pd.Series(values)\n",
    "    mean_profit = np.mean(values) / 1e6\n",
    "    \n",
    "    # считаем границы 95%-доверительного интервала 2.5 и 97.5 процентилям \n",
    "    lower = values.quantile(0.025) / 1e6\n",
    "    upper = values.quantile(0.975) / 1e6\n",
    "    confidence_interval = (lower, upper)\n",
    "    \n",
    "    # считаем риски в процентном выражении\n",
    "    risk_rate = (values < 0).sum() / values.count() * 100\n",
    "    \n",
    "    print(f'Для региона {region_number}:\\n')\n",
    "    print(f'Средняя прибыль {mean_profit:.3f} млн.руб.')\n",
    "    print(f'Границы 95% доверительного интервала по прибыли ({lower:.3f} , {upper:.3f}) млн.руб.')\n",
    "    print(f'Риск убытков {round(risk_rate, 1)}%')\n",
    "    \n",
    "    if risk_rate > CRITICAL_RISK_RATE:\n",
    "        print('Слишком высокий риск!')\n",
    "    else:\n",
    "        print('Риски нас устраивают')"
   ]
  },
  {
   "cell_type": "code",
   "execution_count": 28,
   "metadata": {},
   "outputs": [
    {
     "name": "stdout",
     "output_type": "stream",
     "text": [
      "Для региона 0:\n",
      "\n",
      "Средняя прибыль 396.165 млн.руб.\n",
      "Границы 95% доверительного интервала по прибыли (-111.216 , 909.767) млн.руб.\n",
      "Риск убытков 6.9%\n",
      "Слишком высокий риск!\n"
     ]
    }
   ],
   "source": [
    "region_0 = bootstrap(predictions_0, target_val_0, '0')"
   ]
  },
  {
   "cell_type": "code",
   "execution_count": 29,
   "metadata": {},
   "outputs": [
    {
     "name": "stdout",
     "output_type": "stream",
     "text": [
      "Для региона 1:\n",
      "\n",
      "Средняя прибыль 461.156 млн.руб.\n",
      "Границы 95% доверительного интервала по прибыли (78.051 , 862.952) млн.руб.\n",
      "Риск убытков 0.7%\n",
      "Риски нас устраивают\n"
     ]
    }
   ],
   "source": [
    "region_1 = bootstrap(predictions_1, target_val_1, '1')"
   ]
  },
  {
   "cell_type": "code",
   "execution_count": 30,
   "metadata": {},
   "outputs": [
    {
     "name": "stdout",
     "output_type": "stream",
     "text": [
      "Для региона 2:\n",
      "\n",
      "Средняя прибыль 392.950 млн.руб.\n",
      "Границы 95% доверительного интервала по прибыли (-112.228 , 934.563) млн.руб.\n",
      "Риск убытков 6.5%\n",
      "Слишком высокий риск!\n"
     ]
    }
   ],
   "source": [
    "region_2 = bootstrap(predictions_2, target_val_2, '2')"
   ]
  },
  {
   "cell_type": "markdown",
   "metadata": {},
   "source": [
    "**Выводы**\n",
    "\n",
    "Сведя воедино наши данные о распределении целевого признака `product` по регионам, показателям ключевой метрики RMSE для моделей линейной регрессии и рассчета рисков и прибыли по каждому региону с техникой бутстрапирования выборок можно придти к тому, что:\n",
    "    \n",
    "- Регионы отличаются по средней прибыльности и вероятности того, что вложения принесут прибыль.\n",
    "- Регион 0 и Регион 2 являются высокорискованными, так как для них показатели риска выше, чем критический `risk_rate`, установленный для нашего исследования на пороге в 2.5%.\n",
    "- Границы 95% доверительного интервала для Региона 0 и Региона 2 показывают, что потенциальные показатели прибыли сильно варьируются, велико стандартное отклонение значений относительно среднего.\n",
    "А это и означает высокую вероятность получения убытков.\n",
    "- Регион 1 имеет самый низкий риск потери вложений 0.7% и самый узкий интервал по значениям прибыли. Кроме того, нижняя граница интервала ваше 0, а следовательно, минимальная прибыль будет извлечена.\n",
    "- Регион 1 также опережает остальные регионы по средней прибыли: 461.156 млн.руб. против порядка 396 млн. руб. \n",
    "- Для Региона 1 наша модель показывает самый низкий показатель RMSE для предсказаний, что означает бОльшую уверенность в предсказаниях и стабильность получаемых со скважин этого региона объемов сырья.         \n",
    "\n",
    "Таким образом, самым перспективным и безопасным относительно вложений является Регион 1."
   ]
  },
  {
   "cell_type": "markdown",
   "metadata": {},
   "source": [
    "## Выводы по исследованию\n",
    "\n",
    "Датасеты для проведения исследования содержали пробы нефти в трёх регионах: в каждом по 10 000 месторождений, где измерили качество нефти и объём её запасов.\n",
    "\n",
    "Целью исследования было построение такой модели машинного обучения, которая поможет определить регион, где добыча принесёт наибольшую прибыль, а также анализ возможной прибыли и рисков вложения в бурение, с последующей рекомендацией самого перспективного региона.\n",
    "\n",
    "В качестве модели для предсказаний была выбрала линейная регрессия, эффективность которой оценивалась по метрике RMSE. Также нужно было учитывать вводные от заказчика:\n",
    "\n",
    "- При разведке региона исследуют 500 точек, из которых с помощью машинного обучения выбирают 200 лучших для разработки.\n",
    "- Бюджет на разработку скважин в регионе — 10 млрд рублей.\n",
    "- При нынешних ценах один баррель сырья приносит 450 рублей дохода (т.е. доход с каждой единицы продукта составляет 450 тыс. рублей, поскольку объём указан в тысячах баррелей).\n",
    "- После оценки рисков нужно оставить лишь те регионы, в которых вероятность убытков меньше 2.5%.\n",
    "\n",
    "В ходе исследования:\n",
    "\n",
    "- были загружены данные, получена общая информация по ним, выделены колонки с признаками и целевой признак, проведен визуальный анализ целевого признака;\n",
    "- данные по каждому датасету были поделены на обучающую и валидационную выборки в соотношении 75 : 25, и далее поданы в функцию, реализующую полный пайплан масштабирования значений, определения и обучения модели линейной регрессии;\n",
    "- была проведена подготовка к рассчету прибыли, получены показатели бюджета на бурение одного месторождения и достаточный объём сырья для безубыточной разработки нового месторождения, а также выведены потенциальная валовая прибыль с лучших месторождений для каждого региона и средние объемы содержащегося в предпочтительных скважинах сырья;\n",
    "- с помощью техники `Bootstrap` были сделаны 1000 подвыборок по 500 значений из начальных данных для получения распределения прибыли, а далее рассчитаны средняя прибыль, 95% доверительный интервал и риск убытков по регионам.\n",
    "\n",
    "В результате исследования нам удалось выявить Регион 1 как самый перспективный для разработки и безопасный относительно вложений , а также приложить доказательную базу под свой выбор."
   ]
  }
 ],
 "metadata": {
  "ExecuteTimeLog": [
   {
    "duration": 1679,
    "start_time": "2023-01-17T11:44:00.685Z"
   },
   {
    "duration": 1489,
    "start_time": "2023-01-17T11:44:43.047Z"
   },
   {
    "duration": 53,
    "start_time": "2023-01-17T11:46:20.011Z"
   },
   {
    "duration": 116,
    "start_time": "2023-01-17T11:49:16.523Z"
   },
   {
    "duration": 4,
    "start_time": "2023-01-17T11:49:16.854Z"
   },
   {
    "duration": 4,
    "start_time": "2023-01-17T11:49:26.502Z"
   },
   {
    "duration": 4,
    "start_time": "2023-01-17T11:49:26.943Z"
   },
   {
    "duration": 128,
    "start_time": "2023-01-17T11:49:28.593Z"
   },
   {
    "duration": 3,
    "start_time": "2023-01-17T11:49:40.580Z"
   },
   {
    "duration": 3,
    "start_time": "2023-01-17T11:49:51.592Z"
   },
   {
    "duration": 129,
    "start_time": "2023-01-17T11:49:52.586Z"
   },
   {
    "duration": 3,
    "start_time": "2023-01-17T11:50:05.783Z"
   },
   {
    "duration": 194,
    "start_time": "2023-01-17T11:50:06.478Z"
   },
   {
    "duration": 153,
    "start_time": "2023-01-17T11:50:29.268Z"
   },
   {
    "duration": 136,
    "start_time": "2023-01-17T11:50:33.629Z"
   },
   {
    "duration": 4,
    "start_time": "2023-01-17T11:53:04.250Z"
   },
   {
    "duration": 201,
    "start_time": "2023-01-17T11:53:05.080Z"
   },
   {
    "duration": 172,
    "start_time": "2023-01-17T11:53:08.424Z"
   },
   {
    "duration": 201,
    "start_time": "2023-01-17T11:53:10.625Z"
   },
   {
    "duration": 61,
    "start_time": "2023-01-17T11:59:20.848Z"
   },
   {
    "duration": 22,
    "start_time": "2023-01-17T12:05:50.480Z"
   },
   {
    "duration": 12,
    "start_time": "2023-01-17T12:07:13.474Z"
   },
   {
    "duration": 16,
    "start_time": "2023-01-17T12:07:17.839Z"
   },
   {
    "duration": 10,
    "start_time": "2023-01-17T12:16:00.320Z"
   },
   {
    "duration": 0,
    "start_time": "2023-01-17T12:16:38.812Z"
   },
   {
    "duration": 1145353,
    "start_time": "2023-01-17T12:16:39.970Z"
   },
   {
    "duration": 8,
    "start_time": "2023-01-17T12:35:45.326Z"
   },
   {
    "duration": 47,
    "start_time": "2023-01-17T12:35:45.336Z"
   },
   {
    "duration": 63,
    "start_time": "2023-01-17T12:35:58.279Z"
   },
   {
    "duration": 5,
    "start_time": "2023-01-17T12:36:05.945Z"
   },
   {
    "duration": 4,
    "start_time": "2023-01-17T12:38:46.621Z"
   },
   {
    "duration": 261,
    "start_time": "2023-01-17T12:38:48.868Z"
   },
   {
    "duration": 5,
    "start_time": "2023-01-17T12:39:05.935Z"
   },
   {
    "duration": 28,
    "start_time": "2023-01-17T12:39:13.706Z"
   },
   {
    "duration": 31,
    "start_time": "2023-01-17T12:40:46.408Z"
   },
   {
    "duration": 5,
    "start_time": "2023-01-17T12:41:02.183Z"
   },
   {
    "duration": 4,
    "start_time": "2023-01-17T12:41:20.603Z"
   },
   {
    "duration": 6,
    "start_time": "2023-01-17T12:43:45.467Z"
   },
   {
    "duration": 6,
    "start_time": "2023-01-17T12:48:13.018Z"
   },
   {
    "duration": 8,
    "start_time": "2023-01-17T12:49:37.356Z"
   },
   {
    "duration": 13,
    "start_time": "2023-01-17T12:50:06.625Z"
   },
   {
    "duration": 65,
    "start_time": "2023-01-17T12:50:11.930Z"
   },
   {
    "duration": 1491,
    "start_time": "2023-01-17T12:50:37.748Z"
   },
   {
    "duration": 500,
    "start_time": "2023-01-17T12:50:39.242Z"
   },
   {
    "duration": 4,
    "start_time": "2023-01-17T12:50:39.744Z"
   },
   {
    "duration": 33,
    "start_time": "2023-01-17T12:50:39.750Z"
   },
   {
    "duration": 317,
    "start_time": "2023-01-17T12:50:39.787Z"
   },
   {
    "duration": 279,
    "start_time": "2023-01-17T12:50:40.107Z"
   },
   {
    "duration": 222,
    "start_time": "2023-01-17T12:50:40.388Z"
   },
   {
    "duration": 23,
    "start_time": "2023-01-17T12:50:40.613Z"
   },
   {
    "duration": 22,
    "start_time": "2023-01-17T12:50:40.639Z"
   },
   {
    "duration": 18,
    "start_time": "2023-01-17T12:50:40.663Z"
   },
   {
    "duration": 44,
    "start_time": "2023-01-17T12:50:40.684Z"
   },
   {
    "duration": 5,
    "start_time": "2023-01-17T12:50:40.731Z"
   },
   {
    "duration": 352,
    "start_time": "2023-01-17T12:50:40.738Z"
   },
   {
    "duration": 5,
    "start_time": "2023-01-17T12:51:01.658Z"
   },
   {
    "duration": 38,
    "start_time": "2023-01-17T12:51:03.239Z"
   },
   {
    "duration": 5,
    "start_time": "2023-01-17T12:51:03.680Z"
   },
   {
    "duration": 24,
    "start_time": "2023-01-17T12:51:04.777Z"
   },
   {
    "duration": 35,
    "start_time": "2023-01-17T12:52:51.054Z"
   },
   {
    "duration": 39,
    "start_time": "2023-01-17T12:55:00.485Z"
   },
   {
    "duration": 27,
    "start_time": "2023-01-17T12:55:02.234Z"
   },
   {
    "duration": 22,
    "start_time": "2023-01-17T12:55:03.030Z"
   },
   {
    "duration": 8,
    "start_time": "2023-01-17T13:03:30.547Z"
   },
   {
    "duration": 29,
    "start_time": "2023-01-17T13:03:34.137Z"
   },
   {
    "duration": 7,
    "start_time": "2023-01-17T13:03:48.023Z"
   },
   {
    "duration": 77,
    "start_time": "2023-01-17T13:03:52.109Z"
   },
   {
    "duration": 5,
    "start_time": "2023-01-17T13:07:44.987Z"
   },
   {
    "duration": 23,
    "start_time": "2023-01-17T13:07:48.629Z"
   },
   {
    "duration": 17,
    "start_time": "2023-01-17T13:07:49.122Z"
   },
   {
    "duration": 15,
    "start_time": "2023-01-17T13:07:49.619Z"
   },
   {
    "duration": 3,
    "start_time": "2023-01-17T13:22:08.656Z"
   },
   {
    "duration": 14,
    "start_time": "2023-01-17T14:25:57.689Z"
   },
   {
    "duration": 5,
    "start_time": "2023-01-17T14:26:12.890Z"
   },
   {
    "duration": 35,
    "start_time": "2023-01-17T14:26:13.357Z"
   },
   {
    "duration": 5,
    "start_time": "2023-01-17T14:26:26.418Z"
   },
   {
    "duration": 30,
    "start_time": "2023-01-17T14:26:26.805Z"
   },
   {
    "duration": 59,
    "start_time": "2023-01-17T14:26:46.628Z"
   },
   {
    "duration": 29,
    "start_time": "2023-01-17T14:26:56.191Z"
   },
   {
    "duration": 5,
    "start_time": "2023-01-17T14:27:35.666Z"
   },
   {
    "duration": 26,
    "start_time": "2023-01-17T14:27:36.324Z"
   },
   {
    "duration": 98,
    "start_time": "2023-01-17T14:27:36.984Z"
   },
   {
    "duration": 84,
    "start_time": "2023-01-17T14:27:37.398Z"
   },
   {
    "duration": 6,
    "start_time": "2023-01-17T15:14:21.571Z"
   },
   {
    "duration": 36,
    "start_time": "2023-01-17T15:14:22.275Z"
   },
   {
    "duration": 28,
    "start_time": "2023-01-17T15:14:26.027Z"
   },
   {
    "duration": 35,
    "start_time": "2023-01-17T15:14:27.564Z"
   },
   {
    "duration": 5,
    "start_time": "2023-01-17T15:16:14.797Z"
   },
   {
    "duration": 28,
    "start_time": "2023-01-17T15:16:15.181Z"
   },
   {
    "duration": 28,
    "start_time": "2023-01-17T15:16:15.593Z"
   },
   {
    "duration": 100,
    "start_time": "2023-01-17T15:16:15.983Z"
   },
   {
    "duration": 11,
    "start_time": "2023-01-17T15:23:54.238Z"
   },
   {
    "duration": 6,
    "start_time": "2023-01-17T15:23:56.297Z"
   },
   {
    "duration": 50,
    "start_time": "2023-01-17T15:23:57.719Z"
   },
   {
    "duration": 5,
    "start_time": "2023-01-17T15:23:58.077Z"
   },
   {
    "duration": 4,
    "start_time": "2023-01-17T15:24:42.823Z"
   },
   {
    "duration": 6,
    "start_time": "2023-01-17T15:31:32.706Z"
   },
   {
    "duration": 28,
    "start_time": "2023-01-17T15:31:33.037Z"
   },
   {
    "duration": 32,
    "start_time": "2023-01-17T15:31:33.420Z"
   },
   {
    "duration": 26,
    "start_time": "2023-01-17T15:31:34.464Z"
   },
   {
    "duration": 3,
    "start_time": "2023-01-17T15:31:55.469Z"
   },
   {
    "duration": 3,
    "start_time": "2023-01-17T15:32:14.810Z"
   },
   {
    "duration": 5,
    "start_time": "2023-01-17T15:33:27.462Z"
   },
   {
    "duration": 4,
    "start_time": "2023-01-17T15:39:52.291Z"
   },
   {
    "duration": 4,
    "start_time": "2023-01-17T15:40:24.788Z"
   },
   {
    "duration": 22,
    "start_time": "2023-01-17T15:41:06.091Z"
   },
   {
    "duration": 6,
    "start_time": "2023-01-17T15:41:36.258Z"
   },
   {
    "duration": 31,
    "start_time": "2023-01-17T15:41:36.612Z"
   },
   {
    "duration": 5,
    "start_time": "2023-01-17T15:46:20.268Z"
   },
   {
    "duration": 38,
    "start_time": "2023-01-17T15:46:20.570Z"
   },
   {
    "duration": 5,
    "start_time": "2023-01-17T15:46:32.136Z"
   },
   {
    "duration": 13,
    "start_time": "2023-01-17T15:46:32.440Z"
   },
   {
    "duration": 9,
    "start_time": "2023-01-17T15:46:46.140Z"
   },
   {
    "duration": 4,
    "start_time": "2023-01-17T15:46:48.806Z"
   },
   {
    "duration": 6,
    "start_time": "2023-01-17T15:49:36.891Z"
   },
   {
    "duration": 32,
    "start_time": "2023-01-17T15:49:37.309Z"
   },
   {
    "duration": 7,
    "start_time": "2023-01-17T15:49:54.894Z"
   },
   {
    "duration": 4,
    "start_time": "2023-01-17T15:50:10.275Z"
   },
   {
    "duration": 23,
    "start_time": "2023-01-17T15:50:10.745Z"
   },
   {
    "duration": 5,
    "start_time": "2023-01-17T15:50:54.894Z"
   },
   {
    "duration": 31,
    "start_time": "2023-01-17T15:50:55.233Z"
   },
   {
    "duration": 4,
    "start_time": "2023-01-17T15:51:25.169Z"
   },
   {
    "duration": 28,
    "start_time": "2023-01-17T15:51:25.444Z"
   },
   {
    "duration": 3,
    "start_time": "2023-01-17T15:51:31.461Z"
   },
   {
    "duration": 5,
    "start_time": "2023-01-17T15:51:33.111Z"
   },
   {
    "duration": 4,
    "start_time": "2023-01-17T15:51:42.655Z"
   },
   {
    "duration": 6,
    "start_time": "2023-01-17T15:51:47.193Z"
   },
   {
    "duration": 26,
    "start_time": "2023-01-17T15:51:47.685Z"
   },
   {
    "duration": 4,
    "start_time": "2023-01-17T15:54:09.754Z"
   },
   {
    "duration": 25,
    "start_time": "2023-01-17T15:54:10.198Z"
   },
   {
    "duration": 4,
    "start_time": "2023-01-17T15:56:04.648Z"
   },
   {
    "duration": 21,
    "start_time": "2023-01-17T15:56:04.975Z"
   },
   {
    "duration": 6,
    "start_time": "2023-01-17T15:56:57.826Z"
   },
   {
    "duration": 20,
    "start_time": "2023-01-17T15:56:58.179Z"
   },
   {
    "duration": 21,
    "start_time": "2023-01-17T15:57:11.909Z"
   },
   {
    "duration": 6,
    "start_time": "2023-01-17T15:57:49.058Z"
   },
   {
    "duration": 20,
    "start_time": "2023-01-17T15:57:49.610Z"
   },
   {
    "duration": 1622,
    "start_time": "2023-01-17T15:58:20.052Z"
   },
   {
    "duration": 402,
    "start_time": "2023-01-17T15:58:21.677Z"
   },
   {
    "duration": 6,
    "start_time": "2023-01-17T15:58:22.081Z"
   },
   {
    "duration": 11,
    "start_time": "2023-01-17T15:58:22.089Z"
   },
   {
    "duration": 233,
    "start_time": "2023-01-17T15:58:22.103Z"
   },
   {
    "duration": 266,
    "start_time": "2023-01-17T15:58:22.338Z"
   },
   {
    "duration": 253,
    "start_time": "2023-01-17T15:58:22.607Z"
   },
   {
    "duration": 38,
    "start_time": "2023-01-17T15:58:22.862Z"
   },
   {
    "duration": 15,
    "start_time": "2023-01-17T15:58:22.902Z"
   },
   {
    "duration": 56,
    "start_time": "2023-01-17T15:58:22.919Z"
   },
   {
    "duration": 0,
    "start_time": "2023-01-17T15:58:22.978Z"
   },
   {
    "duration": 0,
    "start_time": "2023-01-17T15:58:22.979Z"
   },
   {
    "duration": 0,
    "start_time": "2023-01-17T15:58:22.981Z"
   },
   {
    "duration": 0,
    "start_time": "2023-01-17T15:58:22.984Z"
   },
   {
    "duration": 1,
    "start_time": "2023-01-17T15:58:22.984Z"
   },
   {
    "duration": 0,
    "start_time": "2023-01-17T15:58:22.986Z"
   },
   {
    "duration": 0,
    "start_time": "2023-01-17T15:58:22.987Z"
   },
   {
    "duration": 0,
    "start_time": "2023-01-17T15:58:22.988Z"
   },
   {
    "duration": 0,
    "start_time": "2023-01-17T15:58:22.989Z"
   },
   {
    "duration": 0,
    "start_time": "2023-01-17T15:58:22.990Z"
   },
   {
    "duration": 0,
    "start_time": "2023-01-17T15:58:22.991Z"
   },
   {
    "duration": 0,
    "start_time": "2023-01-17T15:58:22.992Z"
   },
   {
    "duration": 8,
    "start_time": "2023-01-17T15:58:34.499Z"
   },
   {
    "duration": 48,
    "start_time": "2023-01-17T15:58:34.762Z"
   },
   {
    "duration": 44,
    "start_time": "2023-01-17T15:58:35.094Z"
   },
   {
    "duration": 47,
    "start_time": "2023-01-17T15:58:35.437Z"
   },
   {
    "duration": 43,
    "start_time": "2023-01-17T15:58:35.799Z"
   },
   {
    "duration": 4,
    "start_time": "2023-01-17T15:58:40.808Z"
   },
   {
    "duration": 14,
    "start_time": "2023-01-17T15:58:43.409Z"
   },
   {
    "duration": 5,
    "start_time": "2023-01-17T15:58:44.560Z"
   },
   {
    "duration": 91,
    "start_time": "2023-01-17T15:58:46.117Z"
   },
   {
    "duration": 9,
    "start_time": "2023-01-17T15:58:52.934Z"
   },
   {
    "duration": 112,
    "start_time": "2023-01-17T15:58:53.208Z"
   },
   {
    "duration": 5,
    "start_time": "2023-01-17T16:03:22.517Z"
   },
   {
    "duration": 39,
    "start_time": "2023-01-17T16:04:19.412Z"
   },
   {
    "duration": 5,
    "start_time": "2023-01-17T16:05:39.453Z"
   },
   {
    "duration": 10,
    "start_time": "2023-01-17T16:07:48.787Z"
   },
   {
    "duration": 5,
    "start_time": "2023-01-17T16:07:54.612Z"
   },
   {
    "duration": 204,
    "start_time": "2023-01-17T16:07:55.078Z"
   },
   {
    "duration": 71,
    "start_time": "2023-01-17T16:07:57.024Z"
   },
   {
    "duration": 92,
    "start_time": "2023-01-17T16:07:58.289Z"
   },
   {
    "duration": 4,
    "start_time": "2023-01-17T16:08:07.389Z"
   },
   {
    "duration": 5,
    "start_time": "2023-01-17T16:08:08.296Z"
   },
   {
    "duration": 4,
    "start_time": "2023-01-17T16:08:09.667Z"
   },
   {
    "duration": 5,
    "start_time": "2023-01-17T16:08:14.942Z"
   },
   {
    "duration": 22,
    "start_time": "2023-01-17T16:08:18.808Z"
   },
   {
    "duration": 4,
    "start_time": "2023-01-17T16:08:42.413Z"
   },
   {
    "duration": 18,
    "start_time": "2023-01-17T16:08:43.865Z"
   },
   {
    "duration": 5,
    "start_time": "2023-01-17T16:08:52.393Z"
   },
   {
    "duration": 16,
    "start_time": "2023-01-17T16:08:52.778Z"
   },
   {
    "duration": 44,
    "start_time": "2023-01-17T16:08:57.192Z"
   },
   {
    "duration": 4,
    "start_time": "2023-01-17T16:09:02.676Z"
   },
   {
    "duration": 32,
    "start_time": "2023-01-17T16:09:03.360Z"
   },
   {
    "duration": 4,
    "start_time": "2023-01-17T16:09:29.073Z"
   },
   {
    "duration": 17,
    "start_time": "2023-01-17T16:09:29.401Z"
   },
   {
    "duration": 5,
    "start_time": "2023-01-17T16:10:24.921Z"
   },
   {
    "duration": 10,
    "start_time": "2023-01-17T16:10:25.192Z"
   },
   {
    "duration": 9,
    "start_time": "2023-01-17T16:11:12.788Z"
   },
   {
    "duration": 10,
    "start_time": "2023-01-17T16:11:31.049Z"
   },
   {
    "duration": 10,
    "start_time": "2023-01-17T16:12:05.441Z"
   },
   {
    "duration": 10,
    "start_time": "2023-01-17T16:12:05.799Z"
   },
   {
    "duration": 8,
    "start_time": "2023-01-17T16:13:14.247Z"
   },
   {
    "duration": 5,
    "start_time": "2023-01-17T16:20:03.919Z"
   },
   {
    "duration": 5,
    "start_time": "2023-01-17T16:20:57.060Z"
   },
   {
    "duration": 14,
    "start_time": "2023-01-17T16:20:57.308Z"
   },
   {
    "duration": 6,
    "start_time": "2023-01-17T16:21:12.424Z"
   },
   {
    "duration": 14,
    "start_time": "2023-01-17T16:21:12.754Z"
   },
   {
    "duration": 16,
    "start_time": "2023-01-17T16:24:40.882Z"
   },
   {
    "duration": 13,
    "start_time": "2023-01-17T16:24:42.583Z"
   },
   {
    "duration": 34,
    "start_time": "2023-01-17T16:24:43.076Z"
   },
   {
    "duration": 6,
    "start_time": "2023-01-17T16:26:55.736Z"
   },
   {
    "duration": 18,
    "start_time": "2023-01-17T16:26:56.202Z"
   },
   {
    "duration": 1416,
    "start_time": "2023-01-17T16:31:08.348Z"
   },
   {
    "duration": 387,
    "start_time": "2023-01-17T16:31:09.766Z"
   },
   {
    "duration": 4,
    "start_time": "2023-01-17T16:31:10.155Z"
   },
   {
    "duration": 6,
    "start_time": "2023-01-17T16:31:10.160Z"
   },
   {
    "duration": 225,
    "start_time": "2023-01-17T16:31:10.168Z"
   },
   {
    "duration": 213,
    "start_time": "2023-01-17T16:31:10.395Z"
   },
   {
    "duration": 226,
    "start_time": "2023-01-17T16:31:10.611Z"
   },
   {
    "duration": 18,
    "start_time": "2023-01-17T16:31:10.839Z"
   },
   {
    "duration": 25,
    "start_time": "2023-01-17T16:31:10.858Z"
   },
   {
    "duration": 46,
    "start_time": "2023-01-17T16:31:10.884Z"
   },
   {
    "duration": 4,
    "start_time": "2023-01-17T16:31:10.932Z"
   },
   {
    "duration": 5,
    "start_time": "2023-01-17T16:31:10.938Z"
   },
   {
    "duration": 46,
    "start_time": "2023-01-17T16:31:10.945Z"
   },
   {
    "duration": 193,
    "start_time": "2023-01-17T16:31:10.994Z"
   },
   {
    "duration": 210,
    "start_time": "2023-01-17T16:31:11.190Z"
   },
   {
    "duration": 3,
    "start_time": "2023-01-17T16:31:11.402Z"
   },
   {
    "duration": 182,
    "start_time": "2023-01-17T16:31:11.407Z"
   },
   {
    "duration": 7,
    "start_time": "2023-01-17T16:31:11.590Z"
   },
   {
    "duration": 7,
    "start_time": "2023-01-17T16:31:11.599Z"
   },
   {
    "duration": 15,
    "start_time": "2023-01-17T16:31:11.607Z"
   },
   {
    "duration": 10,
    "start_time": "2023-01-17T16:31:11.623Z"
   },
   {
    "duration": 9,
    "start_time": "2023-01-17T16:31:11.636Z"
   },
   {
    "duration": 11,
    "start_time": "2023-01-17T16:31:11.647Z"
   },
   {
    "duration": 120,
    "start_time": "2023-01-17T16:31:11.682Z"
   },
   {
    "duration": 4,
    "start_time": "2023-01-17T16:31:59.120Z"
   },
   {
    "duration": 16,
    "start_time": "2023-01-17T16:31:59.641Z"
   },
   {
    "duration": 4,
    "start_time": "2023-01-17T16:32:36.197Z"
   },
   {
    "duration": 9,
    "start_time": "2023-01-17T16:32:36.842Z"
   },
   {
    "duration": 10,
    "start_time": "2023-01-17T16:32:37.830Z"
   },
   {
    "duration": 9,
    "start_time": "2023-01-17T16:32:38.460Z"
   },
   {
    "duration": 6,
    "start_time": "2023-01-17T16:32:44.818Z"
   },
   {
    "duration": 14,
    "start_time": "2023-01-17T16:32:45.881Z"
   },
   {
    "duration": 9,
    "start_time": "2023-01-17T16:33:36.394Z"
   },
   {
    "duration": 20,
    "start_time": "2023-01-17T16:33:36.834Z"
   },
   {
    "duration": 5,
    "start_time": "2023-01-17T16:34:40.336Z"
   },
   {
    "duration": 73,
    "start_time": "2023-01-17T16:34:40.720Z"
   },
   {
    "duration": 25,
    "start_time": "2023-01-17T16:34:42.039Z"
   },
   {
    "duration": 27,
    "start_time": "2023-01-17T16:34:43.680Z"
   },
   {
    "duration": 3,
    "start_time": "2023-01-17T16:34:45.720Z"
   },
   {
    "duration": 4,
    "start_time": "2023-01-17T16:34:47.038Z"
   },
   {
    "duration": 3,
    "start_time": "2023-01-17T16:34:47.455Z"
   },
   {
    "duration": 4,
    "start_time": "2023-01-17T16:34:50.664Z"
   },
   {
    "duration": 9,
    "start_time": "2023-01-17T16:34:52.067Z"
   },
   {
    "duration": 11,
    "start_time": "2023-01-17T16:34:53.048Z"
   },
   {
    "duration": 10,
    "start_time": "2023-01-17T16:34:53.489Z"
   },
   {
    "duration": 7,
    "start_time": "2023-01-17T16:34:55.026Z"
   },
   {
    "duration": 20,
    "start_time": "2023-01-17T16:34:55.745Z"
   },
   {
    "duration": 1347,
    "start_time": "2023-01-17T16:35:20.025Z"
   },
   {
    "duration": 397,
    "start_time": "2023-01-17T16:35:21.373Z"
   },
   {
    "duration": 4,
    "start_time": "2023-01-17T16:35:21.771Z"
   },
   {
    "duration": 9,
    "start_time": "2023-01-17T16:35:21.777Z"
   },
   {
    "duration": 182,
    "start_time": "2023-01-17T16:35:21.788Z"
   },
   {
    "duration": 184,
    "start_time": "2023-01-17T16:35:21.972Z"
   },
   {
    "duration": 243,
    "start_time": "2023-01-17T16:35:22.158Z"
   },
   {
    "duration": 18,
    "start_time": "2023-01-17T16:35:22.404Z"
   },
   {
    "duration": 20,
    "start_time": "2023-01-17T16:35:22.424Z"
   },
   {
    "duration": 57,
    "start_time": "2023-01-17T16:35:22.446Z"
   },
   {
    "duration": 5,
    "start_time": "2023-01-17T16:35:22.506Z"
   },
   {
    "duration": 18,
    "start_time": "2023-01-17T16:35:22.513Z"
   },
   {
    "duration": 52,
    "start_time": "2023-01-17T16:35:22.533Z"
   },
   {
    "duration": 109,
    "start_time": "2023-01-17T16:35:22.586Z"
   },
   {
    "duration": 111,
    "start_time": "2023-01-17T16:35:22.782Z"
   },
   {
    "duration": 4,
    "start_time": "2023-01-17T16:35:22.895Z"
   },
   {
    "duration": 86,
    "start_time": "2023-01-17T16:35:22.901Z"
   },
   {
    "duration": 102,
    "start_time": "2023-01-17T16:35:22.989Z"
   },
   {
    "duration": 14,
    "start_time": "2023-01-17T16:35:23.092Z"
   },
   {
    "duration": 10,
    "start_time": "2023-01-17T16:35:23.108Z"
   },
   {
    "duration": 10,
    "start_time": "2023-01-17T16:35:23.120Z"
   },
   {
    "duration": 13,
    "start_time": "2023-01-17T16:35:23.132Z"
   },
   {
    "duration": 11,
    "start_time": "2023-01-17T16:35:23.147Z"
   },
   {
    "duration": 168,
    "start_time": "2023-01-17T16:35:23.160Z"
   },
   {
    "duration": 3,
    "start_time": "2023-01-17T16:37:16.730Z"
   },
   {
    "duration": 24,
    "start_time": "2023-01-17T16:37:17.084Z"
   },
   {
    "duration": 1399,
    "start_time": "2023-01-17T16:37:31.302Z"
   },
   {
    "duration": 380,
    "start_time": "2023-01-17T16:37:32.703Z"
   },
   {
    "duration": 4,
    "start_time": "2023-01-17T16:37:33.086Z"
   },
   {
    "duration": 7,
    "start_time": "2023-01-17T16:37:33.092Z"
   },
   {
    "duration": 223,
    "start_time": "2023-01-17T16:37:33.101Z"
   },
   {
    "duration": 198,
    "start_time": "2023-01-17T16:37:33.326Z"
   },
   {
    "duration": 205,
    "start_time": "2023-01-17T16:37:33.526Z"
   },
   {
    "duration": 18,
    "start_time": "2023-01-17T16:37:33.733Z"
   },
   {
    "duration": 28,
    "start_time": "2023-01-17T16:37:33.753Z"
   },
   {
    "duration": 35,
    "start_time": "2023-01-17T16:37:33.785Z"
   },
   {
    "duration": 5,
    "start_time": "2023-01-17T16:37:33.822Z"
   },
   {
    "duration": 12,
    "start_time": "2023-01-17T16:37:33.828Z"
   },
   {
    "duration": 46,
    "start_time": "2023-01-17T16:37:33.841Z"
   },
   {
    "duration": 106,
    "start_time": "2023-01-17T16:37:33.889Z"
   },
   {
    "duration": 112,
    "start_time": "2023-01-17T16:37:34.083Z"
   },
   {
    "duration": 6,
    "start_time": "2023-01-17T16:37:34.280Z"
   },
   {
    "duration": 93,
    "start_time": "2023-01-17T16:37:34.290Z"
   },
   {
    "duration": 11,
    "start_time": "2023-01-17T16:37:34.385Z"
   },
   {
    "duration": 10,
    "start_time": "2023-01-17T16:37:34.398Z"
   },
   {
    "duration": 127,
    "start_time": "2023-01-17T16:37:34.410Z"
   },
   {
    "duration": 0,
    "start_time": "2023-01-17T16:37:34.540Z"
   },
   {
    "duration": 0,
    "start_time": "2023-01-17T16:37:34.541Z"
   },
   {
    "duration": 0,
    "start_time": "2023-01-17T16:37:34.542Z"
   },
   {
    "duration": 0,
    "start_time": "2023-01-17T16:37:34.543Z"
   },
   {
    "duration": 6,
    "start_time": "2023-01-17T16:38:07.360Z"
   },
   {
    "duration": 18,
    "start_time": "2023-01-17T16:38:07.577Z"
   },
   {
    "duration": 5,
    "start_time": "2023-01-17T16:42:39.683Z"
   },
   {
    "duration": 38,
    "start_time": "2023-01-17T16:42:40.644Z"
   },
   {
    "duration": 22,
    "start_time": "2023-01-17T16:42:41.354Z"
   },
   {
    "duration": 19,
    "start_time": "2023-01-17T16:42:41.878Z"
   },
   {
    "duration": 4,
    "start_time": "2023-01-17T16:42:48.501Z"
   },
   {
    "duration": 5,
    "start_time": "2023-01-17T16:42:49.101Z"
   },
   {
    "duration": 5,
    "start_time": "2023-01-17T16:42:49.489Z"
   },
   {
    "duration": 4,
    "start_time": "2023-01-17T16:42:53.299Z"
   },
   {
    "duration": 14,
    "start_time": "2023-01-17T16:42:54.094Z"
   },
   {
    "duration": 5,
    "start_time": "2023-01-17T16:43:51.912Z"
   },
   {
    "duration": 69,
    "start_time": "2023-01-17T16:43:52.213Z"
   },
   {
    "duration": 29,
    "start_time": "2023-01-17T16:43:52.462Z"
   },
   {
    "duration": 20,
    "start_time": "2023-01-17T16:43:52.683Z"
   },
   {
    "duration": 4,
    "start_time": "2023-01-17T16:43:53.573Z"
   },
   {
    "duration": 4,
    "start_time": "2023-01-17T16:43:54.537Z"
   },
   {
    "duration": 3,
    "start_time": "2023-01-17T16:43:55.852Z"
   },
   {
    "duration": 5,
    "start_time": "2023-01-17T16:44:01.247Z"
   },
   {
    "duration": 26,
    "start_time": "2023-01-17T16:44:01.520Z"
   },
   {
    "duration": 6,
    "start_time": "2023-01-17T16:44:35.859Z"
   },
   {
    "duration": 16,
    "start_time": "2023-01-17T16:44:36.274Z"
   },
   {
    "duration": 7,
    "start_time": "2023-01-17T16:44:47.484Z"
   },
   {
    "duration": 1439,
    "start_time": "2023-01-17T16:44:47.953Z"
   },
   {
    "duration": 1448,
    "start_time": "2023-01-17T16:45:10.848Z"
   },
   {
    "duration": 383,
    "start_time": "2023-01-17T16:45:12.298Z"
   },
   {
    "duration": 3,
    "start_time": "2023-01-17T16:45:12.683Z"
   },
   {
    "duration": 6,
    "start_time": "2023-01-17T16:45:12.688Z"
   },
   {
    "duration": 196,
    "start_time": "2023-01-17T16:45:12.697Z"
   },
   {
    "duration": 174,
    "start_time": "2023-01-17T16:45:12.895Z"
   },
   {
    "duration": 192,
    "start_time": "2023-01-17T16:45:13.071Z"
   },
   {
    "duration": 27,
    "start_time": "2023-01-17T16:45:13.265Z"
   },
   {
    "duration": 18,
    "start_time": "2023-01-17T16:45:13.293Z"
   },
   {
    "duration": 49,
    "start_time": "2023-01-17T16:45:13.312Z"
   },
   {
    "duration": 4,
    "start_time": "2023-01-17T16:45:13.363Z"
   },
   {
    "duration": 14,
    "start_time": "2023-01-17T16:45:13.368Z"
   },
   {
    "duration": 36,
    "start_time": "2023-01-17T16:45:13.384Z"
   },
   {
    "duration": 106,
    "start_time": "2023-01-17T16:45:13.484Z"
   },
   {
    "duration": 194,
    "start_time": "2023-01-17T16:45:13.592Z"
   },
   {
    "duration": 95,
    "start_time": "2023-01-17T16:45:13.788Z"
   },
   {
    "duration": 98,
    "start_time": "2023-01-17T16:45:13.885Z"
   },
   {
    "duration": 7,
    "start_time": "2023-01-17T16:45:13.985Z"
   },
   {
    "duration": 6,
    "start_time": "2023-01-17T16:45:13.994Z"
   },
   {
    "duration": 144,
    "start_time": "2023-01-17T16:45:14.002Z"
   },
   {
    "duration": 0,
    "start_time": "2023-01-17T16:45:14.148Z"
   },
   {
    "duration": 0,
    "start_time": "2023-01-17T16:45:14.150Z"
   },
   {
    "duration": 0,
    "start_time": "2023-01-17T16:45:14.151Z"
   },
   {
    "duration": 0,
    "start_time": "2023-01-17T16:45:14.152Z"
   },
   {
    "duration": 6,
    "start_time": "2023-01-17T16:46:47.702Z"
   },
   {
    "duration": 11,
    "start_time": "2023-01-17T16:46:49.140Z"
   },
   {
    "duration": 12,
    "start_time": "2023-01-17T16:46:50.611Z"
   },
   {
    "duration": 9,
    "start_time": "2023-01-17T16:46:50.970Z"
   },
   {
    "duration": 6,
    "start_time": "2023-01-17T16:47:17.558Z"
   },
   {
    "duration": 20,
    "start_time": "2023-01-17T16:47:18.487Z"
   },
   {
    "duration": 6,
    "start_time": "2023-01-17T16:50:40.648Z"
   },
   {
    "duration": 19,
    "start_time": "2023-01-17T16:50:41.831Z"
   },
   {
    "duration": 6,
    "start_time": "2023-01-17T16:50:52.257Z"
   },
   {
    "duration": 12,
    "start_time": "2023-01-17T16:50:53.819Z"
   },
   {
    "duration": 9,
    "start_time": "2023-01-17T16:50:59.779Z"
   },
   {
    "duration": 20,
    "start_time": "2023-01-17T16:51:00.331Z"
   },
   {
    "duration": 1486,
    "start_time": "2023-01-17T16:51:21.611Z"
   },
   {
    "duration": 421,
    "start_time": "2023-01-17T16:51:23.100Z"
   },
   {
    "duration": 4,
    "start_time": "2023-01-17T16:51:23.523Z"
   },
   {
    "duration": 11,
    "start_time": "2023-01-17T16:51:23.529Z"
   },
   {
    "duration": 238,
    "start_time": "2023-01-17T16:51:23.543Z"
   },
   {
    "duration": 236,
    "start_time": "2023-01-17T16:51:23.783Z"
   },
   {
    "duration": 234,
    "start_time": "2023-01-17T16:51:24.021Z"
   },
   {
    "duration": 27,
    "start_time": "2023-01-17T16:51:24.257Z"
   },
   {
    "duration": 14,
    "start_time": "2023-01-17T16:51:24.286Z"
   },
   {
    "duration": 44,
    "start_time": "2023-01-17T16:51:24.301Z"
   },
   {
    "duration": 4,
    "start_time": "2023-01-17T16:51:24.348Z"
   },
   {
    "duration": 28,
    "start_time": "2023-01-17T16:51:24.354Z"
   },
   {
    "duration": 101,
    "start_time": "2023-01-17T16:51:24.384Z"
   },
   {
    "duration": 112,
    "start_time": "2023-01-17T16:51:24.490Z"
   },
   {
    "duration": 181,
    "start_time": "2023-01-17T16:51:24.604Z"
   },
   {
    "duration": 99,
    "start_time": "2023-01-17T16:51:24.787Z"
   },
   {
    "duration": 7,
    "start_time": "2023-01-17T16:51:24.889Z"
   },
   {
    "duration": 7,
    "start_time": "2023-01-17T16:51:24.897Z"
   },
   {
    "duration": 9,
    "start_time": "2023-01-17T16:51:24.906Z"
   },
   {
    "duration": 13,
    "start_time": "2023-01-17T16:51:24.917Z"
   },
   {
    "duration": 21,
    "start_time": "2023-01-17T16:51:24.932Z"
   },
   {
    "duration": 11,
    "start_time": "2023-01-17T16:51:24.955Z"
   },
   {
    "duration": 12,
    "start_time": "2023-01-17T16:51:24.987Z"
   },
   {
    "duration": 130,
    "start_time": "2023-01-17T16:51:25.001Z"
   },
   {
    "duration": 8,
    "start_time": "2023-01-17T16:53:53.008Z"
   },
   {
    "duration": 31,
    "start_time": "2023-01-17T16:53:53.498Z"
   },
   {
    "duration": 40,
    "start_time": "2023-01-17T16:53:53.859Z"
   },
   {
    "duration": 44,
    "start_time": "2023-01-17T16:53:54.469Z"
   },
   {
    "duration": 4,
    "start_time": "2023-01-17T16:53:58.084Z"
   },
   {
    "duration": 4,
    "start_time": "2023-01-17T16:53:58.951Z"
   },
   {
    "duration": 12,
    "start_time": "2023-01-17T16:53:59.194Z"
   },
   {
    "duration": 4,
    "start_time": "2023-01-17T16:54:02.944Z"
   },
   {
    "duration": 18,
    "start_time": "2023-01-17T16:54:04.399Z"
   },
   {
    "duration": 5,
    "start_time": "2023-01-17T16:54:20.112Z"
   },
   {
    "duration": 36,
    "start_time": "2023-01-17T16:54:20.606Z"
   },
   {
    "duration": 25,
    "start_time": "2023-01-17T16:54:20.992Z"
   },
   {
    "duration": 26,
    "start_time": "2023-01-17T16:54:21.241Z"
   },
   {
    "duration": 3,
    "start_time": "2023-01-17T16:54:23.056Z"
   },
   {
    "duration": 4,
    "start_time": "2023-01-17T16:54:23.945Z"
   },
   {
    "duration": 5,
    "start_time": "2023-01-17T16:54:24.331Z"
   },
   {
    "duration": 6,
    "start_time": "2023-01-17T16:54:26.200Z"
   },
   {
    "duration": 21,
    "start_time": "2023-01-17T16:54:27.758Z"
   },
   {
    "duration": 4,
    "start_time": "2023-01-17T16:54:32.632Z"
   },
   {
    "duration": 14,
    "start_time": "2023-01-17T16:54:34.549Z"
   },
   {
    "duration": 4,
    "start_time": "2023-01-17T16:54:41.447Z"
   },
   {
    "duration": 17,
    "start_time": "2023-01-17T16:54:43.285Z"
   },
   {
    "duration": 12,
    "start_time": "2023-01-17T16:54:44.598Z"
   },
   {
    "duration": 10,
    "start_time": "2023-01-17T16:54:45.007Z"
   },
   {
    "duration": 7,
    "start_time": "2023-01-17T16:55:21.317Z"
   },
   {
    "duration": 26,
    "start_time": "2023-01-17T16:56:05.302Z"
   },
   {
    "duration": 7,
    "start_time": "2023-01-17T16:56:09.167Z"
   },
   {
    "duration": 27,
    "start_time": "2023-01-17T16:56:12.558Z"
   },
   {
    "duration": 6,
    "start_time": "2023-01-17T16:56:13.548Z"
   },
   {
    "duration": 5,
    "start_time": "2023-01-17T16:56:21.778Z"
   },
   {
    "duration": 109,
    "start_time": "2023-01-17T16:57:19.993Z"
   },
   {
    "duration": 6,
    "start_time": "2023-01-17T16:57:24.557Z"
   },
   {
    "duration": 30,
    "start_time": "2023-01-17T16:57:24.830Z"
   },
   {
    "duration": 4,
    "start_time": "2023-01-17T16:57:35.632Z"
   },
   {
    "duration": 11,
    "start_time": "2023-01-17T16:57:43.154Z"
   },
   {
    "duration": 6,
    "start_time": "2023-01-17T16:57:46.733Z"
   },
   {
    "duration": 7,
    "start_time": "2023-01-17T16:57:47.453Z"
   },
   {
    "duration": 15,
    "start_time": "2023-01-17T16:57:49.259Z"
   },
   {
    "duration": 13,
    "start_time": "2023-01-17T16:58:42.387Z"
   },
   {
    "duration": 1849,
    "start_time": "2023-01-17T16:58:43.316Z"
   },
   {
    "duration": 1460,
    "start_time": "2023-01-17T17:00:34.604Z"
   },
   {
    "duration": 470,
    "start_time": "2023-01-17T17:00:36.066Z"
   },
   {
    "duration": 4,
    "start_time": "2023-01-17T17:00:36.539Z"
   },
   {
    "duration": 11,
    "start_time": "2023-01-17T17:00:36.545Z"
   },
   {
    "duration": 311,
    "start_time": "2023-01-17T17:00:36.559Z"
   },
   {
    "duration": 212,
    "start_time": "2023-01-17T17:00:36.872Z"
   },
   {
    "duration": 228,
    "start_time": "2023-01-17T17:00:37.086Z"
   },
   {
    "duration": 22,
    "start_time": "2023-01-17T17:00:37.316Z"
   },
   {
    "duration": 17,
    "start_time": "2023-01-17T17:00:37.340Z"
   },
   {
    "duration": 36,
    "start_time": "2023-01-17T17:00:37.381Z"
   },
   {
    "duration": 6,
    "start_time": "2023-01-17T17:00:37.419Z"
   },
   {
    "duration": 10,
    "start_time": "2023-01-17T17:00:37.426Z"
   },
   {
    "duration": 47,
    "start_time": "2023-01-17T17:00:37.438Z"
   },
   {
    "duration": 123,
    "start_time": "2023-01-17T17:00:37.487Z"
   },
   {
    "duration": 112,
    "start_time": "2023-01-17T17:00:37.696Z"
   },
   {
    "duration": 88,
    "start_time": "2023-01-17T17:00:37.811Z"
   },
   {
    "duration": 99,
    "start_time": "2023-01-17T17:00:37.901Z"
   },
   {
    "duration": 25,
    "start_time": "2023-01-17T17:00:38.002Z"
   },
   {
    "duration": 20,
    "start_time": "2023-01-17T17:00:38.028Z"
   },
   {
    "duration": 23,
    "start_time": "2023-01-17T17:00:38.050Z"
   },
   {
    "duration": 30,
    "start_time": "2023-01-17T17:00:38.075Z"
   },
   {
    "duration": 143,
    "start_time": "2023-01-17T17:00:38.107Z"
   },
   {
    "duration": 0,
    "start_time": "2023-01-17T17:00:38.252Z"
   },
   {
    "duration": 0,
    "start_time": "2023-01-17T17:00:38.254Z"
   },
   {
    "duration": 0,
    "start_time": "2023-01-17T17:00:38.255Z"
   },
   {
    "duration": 0,
    "start_time": "2023-01-17T17:00:38.256Z"
   },
   {
    "duration": 5,
    "start_time": "2023-01-17T17:01:10.168Z"
   },
   {
    "duration": 21,
    "start_time": "2023-01-17T17:01:10.830Z"
   },
   {
    "duration": 22,
    "start_time": "2023-01-17T17:01:12.013Z"
   },
   {
    "duration": 24,
    "start_time": "2023-01-17T17:01:12.370Z"
   },
   {
    "duration": 4,
    "start_time": "2023-01-17T17:01:46.515Z"
   },
   {
    "duration": 4,
    "start_time": "2023-01-17T17:01:49.859Z"
   },
   {
    "duration": 4,
    "start_time": "2023-01-17T17:01:50.372Z"
   },
   {
    "duration": 3,
    "start_time": "2023-01-17T17:01:50.621Z"
   },
   {
    "duration": 6,
    "start_time": "2023-01-17T17:01:53.404Z"
   },
   {
    "duration": 9,
    "start_time": "2023-01-17T17:01:54.917Z"
   },
   {
    "duration": 9,
    "start_time": "2023-01-17T17:01:56.015Z"
   },
   {
    "duration": 14,
    "start_time": "2023-01-17T17:01:56.316Z"
   },
   {
    "duration": 6,
    "start_time": "2023-01-17T17:01:58.538Z"
   },
   {
    "duration": 1830,
    "start_time": "2023-01-17T17:01:59.643Z"
   },
   {
    "duration": 9,
    "start_time": "2023-01-17T17:07:09.841Z"
   },
   {
    "duration": 1938,
    "start_time": "2023-01-17T17:07:10.801Z"
   },
   {
    "duration": 7,
    "start_time": "2023-01-17T17:07:47.422Z"
   },
   {
    "duration": 1958,
    "start_time": "2023-01-17T17:07:47.835Z"
   },
   {
    "duration": 7,
    "start_time": "2023-01-17T17:08:09.062Z"
   },
   {
    "duration": 2089,
    "start_time": "2023-01-17T17:08:09.474Z"
   },
   {
    "duration": 3,
    "start_time": "2023-01-17T17:10:57.155Z"
   },
   {
    "duration": 7,
    "start_time": "2023-01-17T17:11:00.339Z"
   },
   {
    "duration": 13,
    "start_time": "2023-01-17T17:11:00.643Z"
   },
   {
    "duration": 1957,
    "start_time": "2023-01-17T17:11:06.252Z"
   },
   {
    "duration": 6,
    "start_time": "2023-01-17T17:11:26.116Z"
   },
   {
    "duration": 1874,
    "start_time": "2023-01-17T17:11:26.973Z"
   },
   {
    "duration": 9,
    "start_time": "2023-01-17T17:11:49.686Z"
   },
   {
    "duration": 1823,
    "start_time": "2023-01-17T17:11:50.042Z"
   },
   {
    "duration": 6,
    "start_time": "2023-01-17T17:12:38.312Z"
   },
   {
    "duration": 1862,
    "start_time": "2023-01-17T17:12:38.612Z"
   },
   {
    "duration": 1828,
    "start_time": "2023-01-17T17:13:04.378Z"
   },
   {
    "duration": 1848,
    "start_time": "2023-01-17T17:13:13.276Z"
   },
   {
    "duration": 7,
    "start_time": "2023-01-17T17:14:04.819Z"
   },
   {
    "duration": 1950,
    "start_time": "2023-01-17T17:14:05.153Z"
   },
   {
    "duration": 1802,
    "start_time": "2023-01-17T17:14:07.105Z"
   },
   {
    "duration": 1856,
    "start_time": "2023-01-17T17:14:08.910Z"
   },
   {
    "duration": 45,
    "start_time": "2023-01-17T17:14:56.216Z"
   },
   {
    "duration": 7,
    "start_time": "2023-01-17T17:14:59.182Z"
   },
   {
    "duration": 6,
    "start_time": "2023-01-17T17:16:54.403Z"
   },
   {
    "duration": 1951,
    "start_time": "2023-01-17T17:16:55.548Z"
   },
   {
    "duration": 1827,
    "start_time": "2023-01-17T17:16:57.502Z"
   },
   {
    "duration": 1859,
    "start_time": "2023-01-17T17:16:59.331Z"
   },
   {
    "duration": 7,
    "start_time": "2023-01-17T17:17:15.428Z"
   },
   {
    "duration": 1984,
    "start_time": "2023-01-17T17:17:15.700Z"
   },
   {
    "duration": 1907,
    "start_time": "2023-01-17T17:17:17.686Z"
   },
   {
    "duration": 1885,
    "start_time": "2023-01-17T17:17:19.595Z"
   },
   {
    "duration": 3,
    "start_time": "2023-01-17T17:17:38.227Z"
   },
   {
    "duration": 4,
    "start_time": "2023-01-17T17:17:39.434Z"
   },
   {
    "duration": 5,
    "start_time": "2023-01-17T17:17:39.680Z"
   },
   {
    "duration": 4,
    "start_time": "2023-01-17T17:17:40.817Z"
   },
   {
    "duration": 8,
    "start_time": "2023-01-17T17:17:41.041Z"
   },
   {
    "duration": 10,
    "start_time": "2023-01-17T17:17:41.262Z"
   },
   {
    "duration": 17,
    "start_time": "2023-01-17T17:17:41.526Z"
   },
   {
    "duration": 6,
    "start_time": "2023-01-17T17:17:41.958Z"
   },
   {
    "duration": 1872,
    "start_time": "2023-01-17T17:17:42.206Z"
   },
   {
    "duration": 1781,
    "start_time": "2023-01-17T17:17:44.088Z"
   },
   {
    "duration": 1855,
    "start_time": "2023-01-17T17:17:45.871Z"
   },
   {
    "duration": 6,
    "start_time": "2023-01-17T17:18:20.304Z"
   },
   {
    "duration": 1898,
    "start_time": "2023-01-17T17:18:20.653Z"
   },
   {
    "duration": 1910,
    "start_time": "2023-01-17T17:18:22.553Z"
   },
   {
    "duration": 1800,
    "start_time": "2023-01-17T17:18:24.465Z"
   },
   {
    "duration": 10,
    "start_time": "2023-01-17T17:18:44.080Z"
   },
   {
    "duration": 1844,
    "start_time": "2023-01-17T17:18:44.509Z"
   },
   {
    "duration": 1884,
    "start_time": "2023-01-17T17:18:46.356Z"
   },
   {
    "duration": 1902,
    "start_time": "2023-01-17T17:18:48.242Z"
   },
   {
    "duration": 8,
    "start_time": "2023-01-17T17:19:06.517Z"
   },
   {
    "duration": 1767,
    "start_time": "2023-01-17T17:19:06.877Z"
   },
   {
    "duration": 1781,
    "start_time": "2023-01-17T17:19:08.646Z"
   },
   {
    "duration": 1879,
    "start_time": "2023-01-17T17:19:10.429Z"
   },
   {
    "duration": 64,
    "start_time": "2023-01-18T06:49:58.283Z"
   },
   {
    "duration": 5,
    "start_time": "2023-01-18T06:49:59.377Z"
   },
   {
    "duration": 43,
    "start_time": "2023-01-18T06:50:02.344Z"
   },
   {
    "duration": 1493,
    "start_time": "2023-01-18T06:50:07.813Z"
   },
   {
    "duration": 1661,
    "start_time": "2023-01-18T06:50:09.309Z"
   },
   {
    "duration": 4,
    "start_time": "2023-01-18T06:50:10.971Z"
   },
   {
    "duration": 24,
    "start_time": "2023-01-18T06:50:10.977Z"
   },
   {
    "duration": 199,
    "start_time": "2023-01-18T06:50:11.003Z"
   },
   {
    "duration": 166,
    "start_time": "2023-01-18T06:50:11.204Z"
   },
   {
    "duration": 182,
    "start_time": "2023-01-18T06:50:11.372Z"
   },
   {
    "duration": 16,
    "start_time": "2023-01-18T06:50:11.556Z"
   },
   {
    "duration": 10,
    "start_time": "2023-01-18T06:50:11.591Z"
   },
   {
    "duration": 33,
    "start_time": "2023-01-18T06:50:14.412Z"
   },
   {
    "duration": 5,
    "start_time": "2023-01-18T06:50:15.040Z"
   },
   {
    "duration": 6,
    "start_time": "2023-01-18T06:50:16.192Z"
   },
   {
    "duration": 24,
    "start_time": "2023-01-18T06:50:17.779Z"
   },
   {
    "duration": 21,
    "start_time": "2023-01-18T06:50:18.687Z"
   },
   {
    "duration": 5,
    "start_time": "2023-01-18T06:51:20.843Z"
   },
   {
    "duration": 83,
    "start_time": "2023-01-18T06:51:21.609Z"
   },
   {
    "duration": 7,
    "start_time": "2023-01-18T06:51:36.131Z"
   },
   {
    "duration": 20,
    "start_time": "2023-01-18T06:51:37.504Z"
   },
   {
    "duration": 22,
    "start_time": "2023-01-18T06:51:38.052Z"
   },
   {
    "duration": 19,
    "start_time": "2023-01-18T06:51:38.576Z"
   },
   {
    "duration": 4,
    "start_time": "2023-01-18T06:52:42.069Z"
   },
   {
    "duration": 48,
    "start_time": "2023-01-18T06:58:27.166Z"
   },
   {
    "duration": 51,
    "start_time": "2023-01-18T06:58:36.689Z"
   },
   {
    "duration": 43,
    "start_time": "2023-01-18T06:58:43.074Z"
   },
   {
    "duration": 66,
    "start_time": "2023-01-18T07:08:07.270Z"
   },
   {
    "duration": 2,
    "start_time": "2023-01-18T07:08:10.278Z"
   },
   {
    "duration": 3,
    "start_time": "2023-01-18T07:08:10.886Z"
   },
   {
    "duration": 3,
    "start_time": "2023-01-18T07:09:04.520Z"
   },
   {
    "duration": 18,
    "start_time": "2023-01-18T07:11:04.840Z"
   },
   {
    "duration": 17,
    "start_time": "2023-01-18T07:11:22.768Z"
   },
   {
    "duration": 16,
    "start_time": "2023-01-18T07:11:29.548Z"
   },
   {
    "duration": 16,
    "start_time": "2023-01-18T07:11:35.814Z"
   },
   {
    "duration": 18,
    "start_time": "2023-01-18T07:11:49.234Z"
   },
   {
    "duration": 19,
    "start_time": "2023-01-18T07:12:08.207Z"
   },
   {
    "duration": 23,
    "start_time": "2023-01-18T07:12:35.977Z"
   },
   {
    "duration": 12,
    "start_time": "2023-01-18T07:16:08.165Z"
   },
   {
    "duration": 17,
    "start_time": "2023-01-18T07:16:08.495Z"
   },
   {
    "duration": 162,
    "start_time": "2023-01-18T07:16:48.091Z"
   },
   {
    "duration": 170,
    "start_time": "2023-01-18T07:17:06.440Z"
   },
   {
    "duration": 142,
    "start_time": "2023-01-18T07:17:06.803Z"
   },
   {
    "duration": 10,
    "start_time": "2023-01-18T07:21:00.915Z"
   },
   {
    "duration": 9,
    "start_time": "2023-01-18T07:21:03.654Z"
   },
   {
    "duration": 57,
    "start_time": "2023-01-18T07:21:35.532Z"
   },
   {
    "duration": 14,
    "start_time": "2023-01-18T07:21:39.716Z"
   },
   {
    "duration": 9,
    "start_time": "2023-01-18T07:21:44.199Z"
   },
   {
    "duration": 2368,
    "start_time": "2023-01-18T07:22:23.212Z"
   },
   {
    "duration": 875,
    "start_time": "2023-01-18T07:23:17.889Z"
   },
   {
    "duration": 2336,
    "start_time": "2023-01-18T07:23:26.410Z"
   },
   {
    "duration": 2166,
    "start_time": "2023-01-18T07:24:15.766Z"
   },
   {
    "duration": 17,
    "start_time": "2023-01-18T07:26:13.586Z"
   },
   {
    "duration": 18,
    "start_time": "2023-01-18T07:26:19.976Z"
   },
   {
    "duration": 11,
    "start_time": "2023-01-18T07:26:24.606Z"
   },
   {
    "duration": 267,
    "start_time": "2023-01-18T07:34:24.387Z"
   },
   {
    "duration": 789,
    "start_time": "2023-01-18T07:34:41.222Z"
   },
   {
    "duration": 2385,
    "start_time": "2023-01-18T07:34:59.923Z"
   },
   {
    "duration": 2250,
    "start_time": "2023-01-18T07:37:33.013Z"
   },
   {
    "duration": 2257,
    "start_time": "2023-01-18T07:38:10.420Z"
   },
   {
    "duration": 2381,
    "start_time": "2023-01-18T07:38:57.100Z"
   },
   {
    "duration": 2365,
    "start_time": "2023-01-18T07:39:07.196Z"
   },
   {
    "duration": 941,
    "start_time": "2023-01-18T07:39:32.098Z"
   },
   {
    "duration": 1160,
    "start_time": "2023-01-18T07:43:23.811Z"
   },
   {
    "duration": 13,
    "start_time": "2023-01-18T07:53:06.476Z"
   },
   {
    "duration": 15,
    "start_time": "2023-01-18T07:53:18.060Z"
   },
   {
    "duration": 18,
    "start_time": "2023-01-18T07:54:37.850Z"
   },
   {
    "duration": 17,
    "start_time": "2023-01-18T07:54:48.242Z"
   },
   {
    "duration": 16,
    "start_time": "2023-01-18T07:55:02.797Z"
   },
   {
    "duration": 16,
    "start_time": "2023-01-18T07:55:10.432Z"
   },
   {
    "duration": 26,
    "start_time": "2023-01-18T07:55:14.379Z"
   },
   {
    "duration": 12,
    "start_time": "2023-01-18T07:55:34.762Z"
   },
   {
    "duration": 12,
    "start_time": "2023-01-18T07:55:43.523Z"
   },
   {
    "duration": 15,
    "start_time": "2023-01-18T07:55:52.262Z"
   },
   {
    "duration": 14,
    "start_time": "2023-01-18T07:56:01.486Z"
   },
   {
    "duration": 17,
    "start_time": "2023-01-18T07:56:35.070Z"
   },
   {
    "duration": 12,
    "start_time": "2023-01-18T07:56:40.020Z"
   },
   {
    "duration": 1525,
    "start_time": "2023-01-18T07:56:55.962Z"
   },
   {
    "duration": 415,
    "start_time": "2023-01-18T07:56:57.489Z"
   },
   {
    "duration": 6,
    "start_time": "2023-01-18T07:56:57.907Z"
   },
   {
    "duration": 18,
    "start_time": "2023-01-18T07:56:57.915Z"
   },
   {
    "duration": 295,
    "start_time": "2023-01-18T07:56:57.936Z"
   },
   {
    "duration": 300,
    "start_time": "2023-01-18T07:56:58.233Z"
   },
   {
    "duration": 306,
    "start_time": "2023-01-18T07:56:58.535Z"
   },
   {
    "duration": 26,
    "start_time": "2023-01-18T07:56:58.844Z"
   },
   {
    "duration": 23,
    "start_time": "2023-01-18T07:56:58.874Z"
   },
   {
    "duration": 1229,
    "start_time": "2023-01-18T07:56:58.899Z"
   },
   {
    "duration": 136,
    "start_time": "2023-01-18T07:57:00.133Z"
   },
   {
    "duration": 29,
    "start_time": "2023-01-18T07:57:00.271Z"
   },
   {
    "duration": 36,
    "start_time": "2023-01-18T07:57:00.302Z"
   },
   {
    "duration": 57,
    "start_time": "2023-01-18T07:57:00.342Z"
   },
   {
    "duration": 6,
    "start_time": "2023-01-18T07:57:00.402Z"
   },
   {
    "duration": 55,
    "start_time": "2023-01-18T07:57:00.409Z"
   },
   {
    "duration": 130,
    "start_time": "2023-01-18T07:57:00.466Z"
   },
   {
    "duration": 160,
    "start_time": "2023-01-18T07:57:00.598Z"
   },
   {
    "duration": 158,
    "start_time": "2023-01-18T07:57:00.760Z"
   },
   {
    "duration": 12,
    "start_time": "2023-01-18T07:57:00.999Z"
   },
   {
    "duration": 71,
    "start_time": "2023-01-18T07:57:01.093Z"
   },
   {
    "duration": 34,
    "start_time": "2023-01-18T07:57:01.167Z"
   },
   {
    "duration": 39,
    "start_time": "2023-01-18T07:57:01.206Z"
   },
   {
    "duration": 65,
    "start_time": "2023-01-18T07:57:01.247Z"
   },
   {
    "duration": 42,
    "start_time": "2023-01-18T07:57:01.315Z"
   },
   {
    "duration": 51,
    "start_time": "2023-01-18T07:57:01.360Z"
   },
   {
    "duration": 14,
    "start_time": "2023-01-18T07:57:01.414Z"
   },
   {
    "duration": 35,
    "start_time": "2023-01-18T07:57:01.430Z"
   },
   {
    "duration": 26,
    "start_time": "2023-01-18T07:57:01.468Z"
   },
   {
    "duration": 44,
    "start_time": "2023-01-18T07:57:01.497Z"
   },
   {
    "duration": 11,
    "start_time": "2023-01-18T07:57:01.543Z"
   },
   {
    "duration": 1824,
    "start_time": "2023-01-18T07:57:01.556Z"
   },
   {
    "duration": 1710,
    "start_time": "2023-01-18T07:57:03.382Z"
   },
   {
    "duration": 1798,
    "start_time": "2023-01-18T07:57:05.094Z"
   },
   {
    "duration": 11,
    "start_time": "2023-01-18T07:57:24.366Z"
   },
   {
    "duration": 10,
    "start_time": "2023-01-18T07:57:30.468Z"
   },
   {
    "duration": 13,
    "start_time": "2023-01-18T07:57:34.331Z"
   },
   {
    "duration": 13,
    "start_time": "2023-01-18T07:58:05.926Z"
   },
   {
    "duration": 10,
    "start_time": "2023-01-18T07:58:08.564Z"
   },
   {
    "duration": 12,
    "start_time": "2023-01-18T07:58:11.556Z"
   },
   {
    "duration": 6,
    "start_time": "2023-01-18T07:59:36.743Z"
   },
   {
    "duration": 6,
    "start_time": "2023-01-18T07:59:42.449Z"
   },
   {
    "duration": 7,
    "start_time": "2023-01-18T07:59:50.727Z"
   },
   {
    "duration": 8,
    "start_time": "2023-01-18T08:00:46.487Z"
   },
   {
    "duration": 10,
    "start_time": "2023-01-18T08:01:30.986Z"
   },
   {
    "duration": 150,
    "start_time": "2023-01-18T08:03:07.016Z"
   },
   {
    "duration": 31,
    "start_time": "2023-01-18T08:03:27.188Z"
   },
   {
    "duration": 12,
    "start_time": "2023-01-18T08:03:40.806Z"
   },
   {
    "duration": 18,
    "start_time": "2023-01-18T08:09:30.210Z"
   },
   {
    "duration": 18,
    "start_time": "2023-01-18T08:09:57.044Z"
   },
   {
    "duration": 18,
    "start_time": "2023-01-18T08:10:30.945Z"
   },
   {
    "duration": 17,
    "start_time": "2023-01-18T08:10:37.459Z"
   },
   {
    "duration": 13,
    "start_time": "2023-01-18T08:10:51.806Z"
   },
   {
    "duration": 15,
    "start_time": "2023-01-18T08:10:58.986Z"
   },
   {
    "duration": 9,
    "start_time": "2023-01-18T08:17:47.933Z"
   },
   {
    "duration": 9,
    "start_time": "2023-01-18T08:18:08.887Z"
   },
   {
    "duration": 8,
    "start_time": "2023-01-18T08:18:18.033Z"
   },
   {
    "duration": 10,
    "start_time": "2023-01-18T08:18:22.371Z"
   },
   {
    "duration": 8,
    "start_time": "2023-01-18T08:18:26.571Z"
   },
   {
    "duration": 10,
    "start_time": "2023-01-18T08:18:30.144Z"
   },
   {
    "duration": 7,
    "start_time": "2023-01-18T08:25:21.572Z"
   },
   {
    "duration": 7,
    "start_time": "2023-01-18T08:25:32.389Z"
   },
   {
    "duration": 7,
    "start_time": "2023-01-18T08:25:37.788Z"
   },
   {
    "duration": 3,
    "start_time": "2023-01-18T08:31:38.416Z"
   },
   {
    "duration": 7,
    "start_time": "2023-01-18T08:31:39.943Z"
   },
   {
    "duration": 7,
    "start_time": "2023-01-18T08:31:48.318Z"
   },
   {
    "duration": 8,
    "start_time": "2023-01-18T08:32:10.492Z"
   },
   {
    "duration": 9,
    "start_time": "2023-01-18T08:32:10.914Z"
   },
   {
    "duration": 8,
    "start_time": "2023-01-18T08:32:16.964Z"
   },
   {
    "duration": 7,
    "start_time": "2023-01-18T08:32:21.753Z"
   },
   {
    "duration": 6,
    "start_time": "2023-01-18T08:32:43.865Z"
   },
   {
    "duration": 717,
    "start_time": "2023-01-18T08:32:44.983Z"
   },
   {
    "duration": 751,
    "start_time": "2023-01-18T08:32:56.063Z"
   },
   {
    "duration": 662,
    "start_time": "2023-01-18T08:32:59.076Z"
   },
   {
    "duration": 6,
    "start_time": "2023-01-18T08:33:12.863Z"
   },
   {
    "duration": 698,
    "start_time": "2023-01-18T08:33:13.241Z"
   },
   {
    "duration": 695,
    "start_time": "2023-01-18T08:33:13.941Z"
   },
   {
    "duration": 718,
    "start_time": "2023-01-18T08:33:14.638Z"
   },
   {
    "duration": 6,
    "start_time": "2023-01-18T08:36:36.281Z"
   },
   {
    "duration": 693,
    "start_time": "2023-01-18T08:36:36.717Z"
   },
   {
    "duration": 679,
    "start_time": "2023-01-18T08:36:37.718Z"
   },
   {
    "duration": 690,
    "start_time": "2023-01-18T08:36:38.399Z"
   },
   {
    "duration": 3,
    "start_time": "2023-01-18T08:39:47.067Z"
   },
   {
    "duration": 8,
    "start_time": "2023-01-18T08:40:31.427Z"
   },
   {
    "duration": 6,
    "start_time": "2023-01-18T08:40:31.976Z"
   },
   {
    "duration": 7,
    "start_time": "2023-01-18T08:40:32.883Z"
   },
   {
    "duration": 6,
    "start_time": "2023-01-18T08:41:04.864Z"
   },
   {
    "duration": 6,
    "start_time": "2023-01-18T08:41:17.878Z"
   },
   {
    "duration": 693,
    "start_time": "2023-01-18T08:41:18.236Z"
   },
   {
    "duration": 8,
    "start_time": "2023-01-18T08:41:58.412Z"
   },
   {
    "duration": 762,
    "start_time": "2023-01-18T08:41:59.129Z"
   },
   {
    "duration": 9,
    "start_time": "2023-01-18T08:42:01.465Z"
   },
   {
    "duration": 696,
    "start_time": "2023-01-18T08:42:07.610Z"
   },
   {
    "duration": 706,
    "start_time": "2023-01-18T08:42:12.608Z"
   },
   {
    "duration": 698,
    "start_time": "2023-01-18T08:42:49.530Z"
   },
   {
    "duration": 718,
    "start_time": "2023-01-18T08:42:53.481Z"
   },
   {
    "duration": 709,
    "start_time": "2023-01-18T08:42:57.361Z"
   },
   {
    "duration": 6,
    "start_time": "2023-01-18T08:44:02.618Z"
   },
   {
    "duration": 787,
    "start_time": "2023-01-18T08:44:03.111Z"
   },
   {
    "duration": 759,
    "start_time": "2023-01-18T08:44:03.901Z"
   },
   {
    "duration": 764,
    "start_time": "2023-01-18T08:44:04.662Z"
   },
   {
    "duration": 5,
    "start_time": "2023-01-18T08:44:35.946Z"
   },
   {
    "duration": 704,
    "start_time": "2023-01-18T08:44:37.021Z"
   },
   {
    "duration": 687,
    "start_time": "2023-01-18T08:44:38.584Z"
   },
   {
    "duration": 666,
    "start_time": "2023-01-18T08:44:39.273Z"
   },
   {
    "duration": 4,
    "start_time": "2023-01-18T08:47:08.166Z"
   },
   {
    "duration": 16,
    "start_time": "2023-01-18T08:47:09.832Z"
   },
   {
    "duration": 3,
    "start_time": "2023-01-18T08:47:20.866Z"
   },
   {
    "duration": 9,
    "start_time": "2023-01-18T08:47:22.566Z"
   },
   {
    "duration": 8,
    "start_time": "2023-01-18T08:47:25.761Z"
   },
   {
    "duration": 9,
    "start_time": "2023-01-18T08:47:26.583Z"
   },
   {
    "duration": 8,
    "start_time": "2023-01-18T08:47:35.233Z"
   },
   {
    "duration": 1332,
    "start_time": "2023-01-18T08:47:37.181Z"
   },
   {
    "duration": 1341,
    "start_time": "2023-01-18T08:47:38.514Z"
   },
   {
    "duration": 1319,
    "start_time": "2023-01-18T08:47:39.857Z"
   },
   {
    "duration": 11,
    "start_time": "2023-01-18T08:53:58.182Z"
   },
   {
    "duration": 3,
    "start_time": "2023-01-18T08:54:01.018Z"
   },
   {
    "duration": 9,
    "start_time": "2023-01-18T08:54:02.075Z"
   },
   {
    "duration": 10,
    "start_time": "2023-01-18T08:54:03.417Z"
   },
   {
    "duration": 4,
    "start_time": "2023-01-18T08:54:11.577Z"
   },
   {
    "duration": 10,
    "start_time": "2023-01-18T08:54:12.782Z"
   },
   {
    "duration": 8,
    "start_time": "2023-01-18T08:54:16.277Z"
   },
   {
    "duration": 8,
    "start_time": "2023-01-18T08:54:18.844Z"
   },
   {
    "duration": 6,
    "start_time": "2023-01-18T08:54:34.821Z"
   },
   {
    "duration": 9,
    "start_time": "2023-01-18T08:54:36.618Z"
   },
   {
    "duration": 6,
    "start_time": "2023-01-18T08:54:47.293Z"
   },
   {
    "duration": 1322,
    "start_time": "2023-01-18T08:54:47.996Z"
   },
   {
    "duration": 1423,
    "start_time": "2023-01-18T08:55:01.017Z"
   },
   {
    "duration": 1431,
    "start_time": "2023-01-18T08:55:03.643Z"
   },
   {
    "duration": 17,
    "start_time": "2023-01-18T08:57:16.082Z"
   },
   {
    "duration": 11,
    "start_time": "2023-01-18T08:57:20.479Z"
   },
   {
    "duration": 16,
    "start_time": "2023-01-18T08:57:24.609Z"
   },
   {
    "duration": 16,
    "start_time": "2023-01-18T08:58:15.269Z"
   },
   {
    "duration": 14,
    "start_time": "2023-01-18T08:58:59.300Z"
   },
   {
    "duration": 8,
    "start_time": "2023-01-18T08:59:10.177Z"
   },
   {
    "duration": 9,
    "start_time": "2023-01-18T08:59:24.303Z"
   },
   {
    "duration": 9,
    "start_time": "2023-01-18T08:59:38.797Z"
   },
   {
    "duration": 7,
    "start_time": "2023-01-18T08:59:39.589Z"
   },
   {
    "duration": 7,
    "start_time": "2023-01-18T09:00:09.275Z"
   },
   {
    "duration": 1382,
    "start_time": "2023-01-18T09:00:10.965Z"
   },
   {
    "duration": 1327,
    "start_time": "2023-01-18T09:00:13.823Z"
   },
   {
    "duration": 1429,
    "start_time": "2023-01-18T09:00:15.152Z"
   },
   {
    "duration": 33,
    "start_time": "2023-01-18T09:03:46.935Z"
   },
   {
    "duration": 24,
    "start_time": "2023-01-18T09:04:51.222Z"
   },
   {
    "duration": 35,
    "start_time": "2023-01-18T09:05:02.225Z"
   },
   {
    "duration": 33,
    "start_time": "2023-01-18T09:05:02.918Z"
   },
   {
    "duration": 32,
    "start_time": "2023-01-18T09:05:09.618Z"
   },
   {
    "duration": 34,
    "start_time": "2023-01-18T09:05:10.286Z"
   },
   {
    "duration": 31,
    "start_time": "2023-01-18T09:06:50.606Z"
   },
   {
    "duration": 34,
    "start_time": "2023-01-18T09:06:50.960Z"
   },
   {
    "duration": 61,
    "start_time": "2023-01-18T09:12:16.317Z"
   },
   {
    "duration": 61,
    "start_time": "2023-01-18T09:12:25.262Z"
   },
   {
    "duration": 91,
    "start_time": "2023-01-18T09:17:35.046Z"
   },
   {
    "duration": 119,
    "start_time": "2023-01-18T09:19:00.883Z"
   },
   {
    "duration": 127,
    "start_time": "2023-01-18T09:19:08.305Z"
   },
   {
    "duration": 94,
    "start_time": "2023-01-18T09:19:37.726Z"
   },
   {
    "duration": 108,
    "start_time": "2023-01-18T09:19:46.165Z"
   },
   {
    "duration": 103,
    "start_time": "2023-01-18T09:20:05.930Z"
   },
   {
    "duration": 93,
    "start_time": "2023-01-18T09:23:34.622Z"
   },
   {
    "duration": 96,
    "start_time": "2023-01-18T09:23:42.307Z"
   },
   {
    "duration": 7,
    "start_time": "2023-01-18T09:29:38.745Z"
   },
   {
    "duration": 3885,
    "start_time": "2023-01-18T09:29:39.515Z"
   },
   {
    "duration": 7,
    "start_time": "2023-01-18T09:36:06.012Z"
   },
   {
    "duration": 1373,
    "start_time": "2023-01-18T09:36:06.620Z"
   },
   {
    "duration": 1424,
    "start_time": "2023-01-18T09:36:15.286Z"
   },
   {
    "duration": 1313,
    "start_time": "2023-01-18T09:36:16.712Z"
   },
   {
    "duration": 2,
    "start_time": "2023-01-18T09:36:50.629Z"
   },
   {
    "duration": 50,
    "start_time": "2023-01-18T10:07:52.675Z"
   },
   {
    "duration": 1261,
    "start_time": "2023-01-18T10:30:34.344Z"
   },
   {
    "duration": 351,
    "start_time": "2023-01-18T10:30:35.607Z"
   },
   {
    "duration": 3,
    "start_time": "2023-01-18T10:30:35.961Z"
   },
   {
    "duration": 19,
    "start_time": "2023-01-18T10:30:35.966Z"
   },
   {
    "duration": 225,
    "start_time": "2023-01-18T10:30:35.988Z"
   },
   {
    "duration": 186,
    "start_time": "2023-01-18T10:30:36.215Z"
   },
   {
    "duration": 198,
    "start_time": "2023-01-18T10:30:36.403Z"
   },
   {
    "duration": 15,
    "start_time": "2023-01-18T10:30:36.603Z"
   },
   {
    "duration": 16,
    "start_time": "2023-01-18T10:30:36.619Z"
   },
   {
    "duration": 997,
    "start_time": "2023-01-18T10:30:36.637Z"
   },
   {
    "duration": 11,
    "start_time": "2023-01-18T10:30:37.636Z"
   },
   {
    "duration": 121,
    "start_time": "2023-01-18T10:30:37.649Z"
   },
   {
    "duration": 4,
    "start_time": "2023-01-18T10:30:37.771Z"
   },
   {
    "duration": 6,
    "start_time": "2023-01-18T10:30:37.793Z"
   },
   {
    "duration": 90,
    "start_time": "2023-01-18T10:30:37.801Z"
   },
   {
    "duration": 120,
    "start_time": "2023-01-18T10:30:37.893Z"
   },
   {
    "duration": 183,
    "start_time": "2023-01-18T10:30:38.015Z"
   },
   {
    "duration": 94,
    "start_time": "2023-01-18T10:30:38.200Z"
   },
   {
    "duration": 8,
    "start_time": "2023-01-18T10:30:38.297Z"
   },
   {
    "duration": 7,
    "start_time": "2023-01-18T10:30:38.391Z"
   },
   {
    "duration": 5,
    "start_time": "2023-01-18T10:30:38.400Z"
   },
   {
    "duration": 112,
    "start_time": "2023-01-18T10:30:38.406Z"
   },
   {
    "duration": 4,
    "start_time": "2023-01-18T10:30:38.519Z"
   },
   {
    "duration": 12,
    "start_time": "2023-01-18T10:30:38.524Z"
   },
   {
    "duration": 8,
    "start_time": "2023-01-18T10:30:38.537Z"
   },
   {
    "duration": 10,
    "start_time": "2023-01-18T10:30:38.547Z"
   },
   {
    "duration": 35,
    "start_time": "2023-01-18T10:30:38.559Z"
   },
   {
    "duration": 1338,
    "start_time": "2023-01-18T10:30:38.596Z"
   },
   {
    "duration": 1296,
    "start_time": "2023-01-18T10:30:39.936Z"
   },
   {
    "duration": 1353,
    "start_time": "2023-01-18T10:30:41.234Z"
   },
   {
    "duration": 1712,
    "start_time": "2023-01-18T11:26:24.079Z"
   },
   {
    "duration": 1291,
    "start_time": "2023-01-18T11:26:34.166Z"
   },
   {
    "duration": 4,
    "start_time": "2023-01-18T11:27:13.925Z"
   },
   {
    "duration": 3,
    "start_time": "2023-01-18T11:27:17.130Z"
   },
   {
    "duration": 178,
    "start_time": "2023-01-18T11:32:21.185Z"
   },
   {
    "duration": 166,
    "start_time": "2023-01-18T11:34:12.790Z"
   },
   {
    "duration": 16,
    "start_time": "2023-01-18T11:36:03.827Z"
   },
   {
    "duration": 11,
    "start_time": "2023-01-18T11:36:07.856Z"
   },
   {
    "duration": 935,
    "start_time": "2023-01-18T11:36:34.452Z"
   },
   {
    "duration": 11,
    "start_time": "2023-01-18T11:36:49.187Z"
   },
   {
    "duration": 99,
    "start_time": "2023-01-18T11:40:45.127Z"
   },
   {
    "duration": 4,
    "start_time": "2023-01-18T11:40:47.118Z"
   },
   {
    "duration": 105,
    "start_time": "2023-01-18T11:42:32.286Z"
   },
   {
    "duration": 5,
    "start_time": "2023-01-18T11:42:34.718Z"
   },
   {
    "duration": 33,
    "start_time": "2023-01-18T11:42:35.778Z"
   },
   {
    "duration": 23,
    "start_time": "2023-01-18T11:42:37.704Z"
   },
   {
    "duration": 18,
    "start_time": "2023-01-18T11:42:41.906Z"
   },
   {
    "duration": 4,
    "start_time": "2023-01-18T11:42:51.973Z"
   },
   {
    "duration": 3,
    "start_time": "2023-01-18T11:44:08.599Z"
   },
   {
    "duration": 3,
    "start_time": "2023-01-18T11:44:49.849Z"
   },
   {
    "duration": 4,
    "start_time": "2023-01-18T11:44:56.206Z"
   },
   {
    "duration": 89,
    "start_time": "2023-01-18T11:45:32.305Z"
   },
   {
    "duration": 86,
    "start_time": "2023-01-18T11:48:51.142Z"
   },
   {
    "duration": 4,
    "start_time": "2023-01-18T12:22:12.001Z"
   },
   {
    "duration": 4,
    "start_time": "2023-01-18T12:22:33.974Z"
   },
   {
    "duration": 7,
    "start_time": "2023-01-18T12:22:34.625Z"
   },
   {
    "duration": 9,
    "start_time": "2023-01-18T12:22:39.456Z"
   },
   {
    "duration": 8,
    "start_time": "2023-01-18T12:22:40.255Z"
   },
   {
    "duration": 6,
    "start_time": "2023-01-18T12:23:17.157Z"
   },
   {
    "duration": 1310,
    "start_time": "2023-01-18T12:23:18.361Z"
   },
   {
    "duration": 1302,
    "start_time": "2023-01-18T12:23:19.673Z"
   },
   {
    "duration": 1248,
    "start_time": "2023-01-18T12:23:20.978Z"
   },
   {
    "duration": 6,
    "start_time": "2023-01-18T12:27:45.417Z"
   },
   {
    "duration": 1138,
    "start_time": "2023-01-18T12:27:46.844Z"
   },
   {
    "duration": 1098,
    "start_time": "2023-01-18T12:27:47.984Z"
   },
   {
    "duration": 1129,
    "start_time": "2023-01-18T12:27:49.084Z"
   },
   {
    "duration": 7,
    "start_time": "2023-01-18T12:28:14.151Z"
   },
   {
    "duration": 1299,
    "start_time": "2023-01-18T12:28:15.784Z"
   },
   {
    "duration": 1282,
    "start_time": "2023-01-18T12:28:17.086Z"
   },
   {
    "duration": 1332,
    "start_time": "2023-01-18T12:28:18.369Z"
   },
   {
    "duration": 69,
    "start_time": "2023-01-18T13:14:00.756Z"
   },
   {
    "duration": 1645,
    "start_time": "2023-01-18T13:14:05.896Z"
   },
   {
    "duration": 1159,
    "start_time": "2023-01-18T13:14:07.543Z"
   },
   {
    "duration": 3,
    "start_time": "2023-01-18T13:14:10.281Z"
   },
   {
    "duration": 4,
    "start_time": "2023-01-18T13:14:11.598Z"
   },
   {
    "duration": 217,
    "start_time": "2023-01-18T13:14:12.100Z"
   },
   {
    "duration": 178,
    "start_time": "2023-01-18T13:14:12.680Z"
   },
   {
    "duration": 186,
    "start_time": "2023-01-18T13:14:13.152Z"
   },
   {
    "duration": 18,
    "start_time": "2023-01-18T13:14:13.928Z"
   },
   {
    "duration": 11,
    "start_time": "2023-01-18T13:14:14.918Z"
   },
   {
    "duration": 991,
    "start_time": "2023-01-18T13:14:15.697Z"
   },
   {
    "duration": 24,
    "start_time": "2023-01-18T13:14:16.690Z"
   },
   {
    "duration": 122,
    "start_time": "2023-01-18T13:14:18.100Z"
   },
   {
    "duration": 5,
    "start_time": "2023-01-18T13:14:18.372Z"
   },
   {
    "duration": 6,
    "start_time": "2023-01-18T13:14:18.953Z"
   },
   {
    "duration": 94,
    "start_time": "2023-01-18T13:14:19.809Z"
   },
   {
    "duration": 29,
    "start_time": "2023-01-18T13:14:20.338Z"
   },
   {
    "duration": 25,
    "start_time": "2023-01-18T13:14:20.835Z"
   },
   {
    "duration": 4,
    "start_time": "2023-01-18T13:14:21.113Z"
   },
   {
    "duration": 3,
    "start_time": "2023-01-18T13:14:22.712Z"
   },
   {
    "duration": 3,
    "start_time": "2023-01-18T13:14:23.488Z"
   },
   {
    "duration": 4,
    "start_time": "2023-01-18T13:14:23.736Z"
   },
   {
    "duration": 92,
    "start_time": "2023-01-18T13:14:24.235Z"
   },
   {
    "duration": 4,
    "start_time": "2023-01-18T13:14:27.673Z"
   },
   {
    "duration": 8,
    "start_time": "2023-01-18T13:14:28.446Z"
   },
   {
    "duration": 9,
    "start_time": "2023-01-18T13:14:29.130Z"
   },
   {
    "duration": 8,
    "start_time": "2023-01-18T13:14:29.572Z"
   },
   {
    "duration": 7,
    "start_time": "2023-01-18T13:14:30.324Z"
   },
   {
    "duration": 1527,
    "start_time": "2023-01-18T13:14:31.774Z"
   },
   {
    "duration": 1695,
    "start_time": "2023-01-18T13:14:39.225Z"
   },
   {
    "duration": 1609,
    "start_time": "2023-01-18T13:14:42.541Z"
   },
   {
    "duration": 74,
    "start_time": "2023-01-18T13:23:22.637Z"
   },
   {
    "duration": 67,
    "start_time": "2023-01-18T16:25:38.386Z"
   },
   {
    "duration": 2105,
    "start_time": "2023-01-18T16:25:44.509Z"
   },
   {
    "duration": 1497,
    "start_time": "2023-01-18T16:25:46.616Z"
   },
   {
    "duration": 4,
    "start_time": "2023-01-18T16:25:48.114Z"
   },
   {
    "duration": 14,
    "start_time": "2023-01-18T16:25:48.120Z"
   },
   {
    "duration": 214,
    "start_time": "2023-01-18T16:25:48.135Z"
   },
   {
    "duration": 241,
    "start_time": "2023-01-18T16:25:48.352Z"
   },
   {
    "duration": 184,
    "start_time": "2023-01-18T16:25:48.595Z"
   },
   {
    "duration": 15,
    "start_time": "2023-01-18T16:25:48.781Z"
   },
   {
    "duration": 26,
    "start_time": "2023-01-18T16:25:48.798Z"
   },
   {
    "duration": 1059,
    "start_time": "2023-01-18T16:25:48.828Z"
   },
   {
    "duration": 13,
    "start_time": "2023-01-18T16:25:49.889Z"
   },
   {
    "duration": 138,
    "start_time": "2023-01-18T16:25:49.904Z"
   },
   {
    "duration": 4,
    "start_time": "2023-01-18T16:25:50.044Z"
   },
   {
    "duration": 15,
    "start_time": "2023-01-18T16:25:50.050Z"
   },
   {
    "duration": 56,
    "start_time": "2023-01-18T16:25:50.067Z"
   },
   {
    "duration": 198,
    "start_time": "2023-01-18T16:25:50.142Z"
   },
   {
    "duration": 104,
    "start_time": "2023-01-18T16:25:50.342Z"
   },
   {
    "duration": 189,
    "start_time": "2023-01-18T16:25:50.448Z"
   },
   {
    "duration": 15,
    "start_time": "2023-01-18T16:25:50.639Z"
   },
   {
    "duration": 16,
    "start_time": "2023-01-18T16:25:50.655Z"
   },
   {
    "duration": 17,
    "start_time": "2023-01-18T16:25:50.672Z"
   },
   {
    "duration": 108,
    "start_time": "2023-01-18T16:25:50.691Z"
   },
   {
    "duration": 3,
    "start_time": "2023-01-18T16:25:50.801Z"
   },
   {
    "duration": 19,
    "start_time": "2023-01-18T16:25:50.806Z"
   },
   {
    "duration": 17,
    "start_time": "2023-01-18T16:25:50.827Z"
   },
   {
    "duration": 21,
    "start_time": "2023-01-18T16:25:50.846Z"
   },
   {
    "duration": 7,
    "start_time": "2023-01-18T16:25:50.869Z"
   },
   {
    "duration": 1186,
    "start_time": "2023-01-18T16:25:50.879Z"
   },
   {
    "duration": 1160,
    "start_time": "2023-01-18T16:25:52.067Z"
   },
   {
    "duration": 1230,
    "start_time": "2023-01-18T16:25:53.228Z"
   },
   {
    "duration": 7,
    "start_time": "2023-01-18T16:26:09.278Z"
   },
   {
    "duration": 113,
    "start_time": "2023-01-18T16:26:09.288Z"
   },
   {
    "duration": 14,
    "start_time": "2023-01-18T16:26:09.857Z"
   },
   {
    "duration": 14,
    "start_time": "2023-01-18T16:26:10.041Z"
   },
   {
    "duration": 7,
    "start_time": "2023-01-18T16:26:34.104Z"
   },
   {
    "duration": 14,
    "start_time": "2023-01-18T16:26:35.131Z"
   },
   {
    "duration": 13,
    "start_time": "2023-01-18T16:26:35.661Z"
   },
   {
    "duration": 9,
    "start_time": "2023-01-18T16:26:48.953Z"
   },
   {
    "duration": 1555,
    "start_time": "2023-01-18T16:26:49.635Z"
   },
   {
    "duration": 1532,
    "start_time": "2023-01-18T16:26:51.192Z"
   },
   {
    "duration": 1545,
    "start_time": "2023-01-18T16:26:52.725Z"
   },
   {
    "duration": 1715,
    "start_time": "2023-01-18T16:36:38.463Z"
   },
   {
    "duration": 1652,
    "start_time": "2023-01-18T16:36:40.181Z"
   },
   {
    "duration": 5,
    "start_time": "2023-01-18T16:36:41.835Z"
   },
   {
    "duration": 6,
    "start_time": "2023-01-18T16:36:41.842Z"
   },
   {
    "duration": 211,
    "start_time": "2023-01-18T16:36:41.849Z"
   },
   {
    "duration": 207,
    "start_time": "2023-01-18T16:36:42.062Z"
   },
   {
    "duration": 203,
    "start_time": "2023-01-18T16:36:42.272Z"
   },
   {
    "duration": 18,
    "start_time": "2023-01-18T16:36:42.477Z"
   },
   {
    "duration": 13,
    "start_time": "2023-01-18T16:36:42.498Z"
   },
   {
    "duration": 1084,
    "start_time": "2023-01-18T16:36:42.571Z"
   },
   {
    "duration": 15,
    "start_time": "2023-01-18T16:36:43.657Z"
   },
   {
    "duration": 127,
    "start_time": "2023-01-18T16:36:44.268Z"
   },
   {
    "duration": 5,
    "start_time": "2023-01-18T16:36:44.490Z"
   },
   {
    "duration": 5,
    "start_time": "2023-01-18T16:36:44.908Z"
   },
   {
    "duration": 26,
    "start_time": "2023-01-18T16:36:45.547Z"
   },
   {
    "duration": 99,
    "start_time": "2023-01-18T16:36:45.938Z"
   },
   {
    "duration": 20,
    "start_time": "2023-01-18T16:36:46.354Z"
   },
   {
    "duration": 4,
    "start_time": "2023-01-18T16:36:46.538Z"
   },
   {
    "duration": 4,
    "start_time": "2023-01-18T16:36:47.770Z"
   },
   {
    "duration": 3,
    "start_time": "2023-01-18T16:36:48.335Z"
   },
   {
    "duration": 4,
    "start_time": "2023-01-18T16:36:48.503Z"
   },
   {
    "duration": 92,
    "start_time": "2023-01-18T16:36:48.888Z"
   },
   {
    "duration": 4,
    "start_time": "2023-01-18T16:36:50.030Z"
   },
   {
    "duration": 10,
    "start_time": "2023-01-18T16:36:50.446Z"
   },
   {
    "duration": 8,
    "start_time": "2023-01-18T16:36:50.670Z"
   },
   {
    "duration": 9,
    "start_time": "2023-01-18T16:36:50.919Z"
   },
   {
    "duration": 7,
    "start_time": "2023-01-18T16:36:51.335Z"
   },
   {
    "duration": 1177,
    "start_time": "2023-01-18T16:36:51.726Z"
   },
   {
    "duration": 1147,
    "start_time": "2023-01-18T16:36:52.905Z"
   },
   {
    "duration": 1155,
    "start_time": "2023-01-18T16:36:54.054Z"
   },
   {
    "duration": 45,
    "start_time": "2023-01-18T16:44:44.019Z"
   },
   {
    "duration": 53,
    "start_time": "2023-01-18T16:46:46.703Z"
   }
  ],
  "kernelspec": {
   "display_name": "Python 3 (ipykernel)",
   "language": "python",
   "name": "python3"
  },
  "language_info": {
   "codemirror_mode": {
    "name": "ipython",
    "version": 3
   },
   "file_extension": ".py",
   "mimetype": "text/x-python",
   "name": "python",
   "nbconvert_exporter": "python",
   "pygments_lexer": "ipython3",
   "version": "3.10.10"
  },
  "toc": {
   "base_numbering": 1,
   "nav_menu": {},
   "number_sections": true,
   "sideBar": true,
   "skip_h1_title": true,
   "title_cell": "Table of Contents",
   "title_sidebar": "Contents",
   "toc_cell": false,
   "toc_position": {},
   "toc_section_display": true,
   "toc_window_display": true
  }
 },
 "nbformat": 4,
 "nbformat_minor": 2
}
